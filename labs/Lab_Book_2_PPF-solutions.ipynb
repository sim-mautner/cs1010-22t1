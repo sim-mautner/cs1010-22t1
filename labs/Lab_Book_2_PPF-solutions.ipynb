{
  "nbformat": 4,
  "nbformat_minor": 0,
  "metadata": {
    "colab": {
      "name": "Lab Book 2 PPF.ipynb",
      "provenance": [],
      "authorship_tag": "ABX9TyPiQ1rX0mn77lLINtHbEk/i",
      "include_colab_link": true
    },
    "kernelspec": {
      "name": "python3",
      "display_name": "Python 3"
    },
    "language_info": {
      "name": "python"
    }
  },
  "cells": [
    {
      "cell_type": "markdown",
      "metadata": {
        "id": "view-in-github",
        "colab_type": "text"
      },
      "source": [
        "<a href=\"https://colab.research.google.com/github/sim-mautner/cs1010-22t1/blob/master/labs/Lab_Book_2_PPF-solutions.ipynb\" target=\"_parent\"><img src=\"https://colab.research.google.com/assets/colab-badge.svg\" alt=\"Open In Colab\"/></a>"
      ]
    },
    {
      "cell_type": "markdown",
      "source": [
        "# Python and Programming Fundamentals Lab Book\n",
        "# COMP1010"
      ],
      "metadata": {
        "id": "ug5XIKz7c60P"
      }
    },
    {
      "cell_type": "markdown",
      "source": [
        "**IMPORTANT NOTE** If you're using Colaboratory, make sure you save a copy of these exercises to Google drive by clicking 'Copy to Drive' at the top of the page. Otherwise, your answers will not be saved."
      ],
      "metadata": {
        "id": "KeotKryXdaBP"
      }
    },
    {
      "cell_type": "markdown",
      "metadata": {
        "id": "V1Ipfs_dEbep"
      },
      "source": [
        "## 1. Using python as a calculator (0.5 marks)\n",
        "\n",
        "Write snippets of python code in the cells provided to calculate the answer to each of these questions. "
      ]
    },
    {
      "cell_type": "markdown",
      "metadata": {
        "id": "A5fzs8USEbep"
      },
      "source": [
        "How many inches are there in 37 metres (approximately)?"
      ]
    },
    {
      "cell_type": "code",
      "metadata": {
        "id": "Gg69RBeqEbep"
      },
      "source": [
        ""
      ],
      "execution_count": null,
      "outputs": []
    },
    {
      "cell_type": "markdown",
      "metadata": {
        "id": "tV1JLIeVEbep"
      },
      "source": [
        "Bill is *exactly* 31 years and 68 days old. How old is Bill in seconds (assuming a year is on average 365.25 days)?"
      ]
    },
    {
      "cell_type": "code",
      "metadata": {
        "id": "xG17-X5rEbeq"
      },
      "source": [
        ""
      ],
      "execution_count": null,
      "outputs": []
    },
    {
      "cell_type": "markdown",
      "metadata": {
        "id": "GGPcdTyaEbeq"
      },
      "source": [
        "## 2. String manipulation (0.5 marks)\n",
        "Given the following string:"
      ]
    },
    {
      "cell_type": "code",
      "metadata": {
        "id": "X7M-IIW0Ebeq"
      },
      "source": [
        "famous_quote = \"Not everyone can become a great artist, but a great artist can come from anywhere.\""
      ],
      "execution_count": null,
      "outputs": []
    },
    {
      "cell_type": "markdown",
      "metadata": {
        "id": "z426iOSDEbeq"
      },
      "source": [
        "**Write python code in the cells provided to answer the following questions.**"
      ]
    },
    {
      "cell_type": "markdown",
      "metadata": {
        "id": "kSEPwh9MEbeq"
      },
      "source": [
        "You are asked to find the 19th character in this string. You know that all letters, spaces and punctuation are considered characters. You think to yourself, \"There are two possible interpretations to this question.\"\n"
      ]
    },
    {
      "cell_type": "code",
      "metadata": {
        "id": "ZFH0ipiQEbeq"
      },
      "source": [
        "# Interpretation 1"
      ],
      "execution_count": null,
      "outputs": []
    },
    {
      "cell_type": "code",
      "metadata": {
        "id": "v4m7iEMo4IOg"
      },
      "source": [
        "# Interpretation 2"
      ],
      "execution_count": null,
      "outputs": []
    },
    {
      "cell_type": "markdown",
      "metadata": {
        "id": "U7UAICH24Jbi"
      },
      "source": [
        "Write an explanation why these are two possible correct interpretations to the same question."
      ]
    },
    {
      "cell_type": "markdown",
      "metadata": {
        "id": "ve5lsw0M4O7x"
      },
      "source": [
        "*explanation goes here*"
      ]
    },
    {
      "cell_type": "markdown",
      "metadata": {
        "id": "yFfJCh4TEber"
      },
      "source": [
        "How many characters are in the string (including all spaces and punctuation)?"
      ]
    },
    {
      "cell_type": "code",
      "metadata": {
        "id": "9QljTirjEber"
      },
      "source": [
        ""
      ],
      "execution_count": null,
      "outputs": []
    },
    {
      "cell_type": "markdown",
      "metadata": {
        "id": "c5NSqhaUEbes"
      },
      "source": [
        "How many characters are in the string (**not** including spaces, full stops or commas)?\n",
        "\n",
        "**HINT:** Think how you might calculate the number of spaces, full stops or commas in the string first."
      ]
    },
    {
      "cell_type": "code",
      "metadata": {
        "id": "YZtwrts9Ebes"
      },
      "source": [
        ""
      ],
      "execution_count": null,
      "outputs": []
    },
    {
      "cell_type": "markdown",
      "metadata": {
        "id": "lWxPjSwiEbes"
      },
      "source": [
        "What does the string look like in upper-case and with full stops replaced by exclamation marks?"
      ]
    },
    {
      "cell_type": "code",
      "metadata": {
        "id": "0tx0moa5Ebes"
      },
      "source": [
        ""
      ],
      "execution_count": null,
      "outputs": []
    },
    {
      "cell_type": "markdown",
      "metadata": {
        "id": "as11KCGbEbes"
      },
      "source": [
        "## 3. String generation (0.5 marks)"
      ]
    },
    {
      "cell_type": "markdown",
      "metadata": {
        "id": "cA7Pb1iEEbet"
      },
      "source": [
        "Write code that produces the following string, minimising repetition as much as possible.\n",
        "```\n",
        "++++----~~~~\n",
        "```"
      ]
    },
    {
      "cell_type": "code",
      "metadata": {
        "id": "xyZc1rDREbet"
      },
      "source": [
        ""
      ],
      "execution_count": null,
      "outputs": []
    },
    {
      "cell_type": "markdown",
      "metadata": {
        "id": "80Rcr7stEbet"
      },
      "source": [
        "Do the same, but for the following string.\n",
        "```\n",
        "_|__|__|_/_|__|__|_/_|__|__|_/8}>-< \n",
        "```"
      ]
    },
    {
      "cell_type": "code",
      "metadata": {
        "id": "_8_paK8cuRaD"
      },
      "source": [
        ""
      ],
      "execution_count": null,
      "outputs": []
    },
    {
      "cell_type": "markdown",
      "metadata": {
        "id": "lZ12ERUqJfSb"
      },
      "source": [
        "## 4. Conditionals (0.5 marks)"
      ]
    },
    {
      "cell_type": "markdown",
      "metadata": {
        "id": "-F1Hi30pJjpQ"
      },
      "source": [
        "When visiting a theme park, many rides require you to be a certain height before you can ride them.\n",
        "\n",
        "At a specific park there are:\n",
        "* Red Riders: 85-105cm tall. They have access to 9 rides.\n",
        "* Green Riders: 106-131cm tall. They have access to 21 rides.\n",
        "* Yellow Riders: 132cm and taller. They have access to 27 rides.\n",
        "\n",
        "Write a program which asks the user for their height and prints out how many rides they can go on.\n",
        "\n",
        "Write this program in two different ways."
      ]
    },
    {
      "cell_type": "code",
      "metadata": {
        "id": "jzWV_oAuK-KD"
      },
      "source": [
        "# First approach\n"
      ],
      "execution_count": null,
      "outputs": []
    },
    {
      "cell_type": "code",
      "metadata": {
        "id": "L54k0VkmLARF"
      },
      "source": [
        "# Second approach\n"
      ],
      "execution_count": null,
      "outputs": []
    },
    {
      "cell_type": "code",
      "execution_count": null,
      "metadata": {
        "id": "d89Wnt5zc42C"
      },
      "outputs": [],
      "source": [
        ""
      ]
    },
    {
      "cell_type": "markdown",
      "metadata": {
        "id": "2ZeNDw999OqM"
      },
      "source": [
        "## 5. Functions (1 mark)"
      ]
    },
    {
      "cell_type": "markdown",
      "metadata": {
        "id": "cEs-kW1B_AQ8"
      },
      "source": [
        "### BMI\n",
        "\n"
      ]
    },
    {
      "cell_type": "markdown",
      "metadata": {
        "id": "eNFde4SJ_Gdt"
      },
      "source": [
        "Write a function `bmi` that takes in a `weight` in kilograms and a `height` in metres, and returns a Body Mass Index (BMI). A BMI is calculated as $\\frac{weight}{height^2}$."
      ]
    },
    {
      "cell_type": "code",
      "metadata": {
        "id": "BOIl5_Ww_HSD"
      },
      "source": [
        ""
      ],
      "execution_count": null,
      "outputs": []
    },
    {
      "cell_type": "markdown",
      "metadata": {
        "id": "qb-V2tRr_HvT"
      },
      "source": [
        "Show that your function works by running the cell below. You should get approximately 22.857."
      ]
    },
    {
      "cell_type": "code",
      "metadata": {
        "id": "hwwcBAaW_K1r"
      },
      "source": [
        "bmi(70, 1.75)"
      ],
      "execution_count": null,
      "outputs": []
    },
    {
      "cell_type": "markdown",
      "metadata": {
        "id": "LPq8gdo79iob"
      },
      "source": [
        "### Longer tweets\n",
        "\n",
        "Write a function `extend_tweet(tweet)` that takes in a string that is 280 characters or less and adds enough full stops ('.') to the end to make it exactly 280 characters."
      ]
    },
    {
      "cell_type": "code",
      "metadata": {
        "id": "aMjMCkLn90sp"
      },
      "source": [
        ""
      ],
      "execution_count": null,
      "outputs": []
    },
    {
      "cell_type": "markdown",
      "metadata": {
        "id": "TBNKJRLj90_K"
      },
      "source": [
        "Use this cell below to check if you got it right. The last line of the result should say the tweet is 280 characters."
      ]
    },
    {
      "cell_type": "code",
      "metadata": {
        "id": "U7ezayy294IS"
      },
      "source": [
        "short_tweet = \"Oh my god, did you hear about my amazing life. It's just so great. I want to tell you about it in so much detail\"\n",
        "long_tweet = extend_tweet(short_tweet)\n",
        "print(long_tweet)\n",
        "print(\"Tweet is \" + str(len(long_tweet)) + \" characters long\")"
      ],
      "execution_count": null,
      "outputs": []
    },
    {
      "cell_type": "markdown",
      "metadata": {
        "id": "tB1rdmyPDKJX"
      },
      "source": [
        "## 6. Testing (0.5 marks)"
      ]
    },
    {
      "cell_type": "markdown",
      "metadata": {
        "id": "q80hVlkCDx7_"
      },
      "source": [
        "### Vowel Counting (Tests)"
      ]
    },
    {
      "cell_type": "markdown",
      "metadata": {
        "id": "7HSUmsh0DNbN"
      },
      "source": [
        "Consider (don't write) the function, `vowels(text)`, that counts the total number of vowels (a, e, i, o, and u) in a given string and returns the total.\n",
        "\n",
        "Write a complete set of assert statements, that if they all pass, you can be confident that the function is correct. (As a guide, you should have at least 3 tests, each one testing a different circumstance.)"
      ]
    },
    {
      "cell_type": "code",
      "metadata": {
        "id": "PYnsUQ0REBlZ"
      },
      "source": [
        ""
      ],
      "execution_count": null,
      "outputs": []
    },
    {
      "cell_type": "markdown",
      "metadata": {
        "id": "v1fEuk0x8JO5"
      },
      "source": [
        "## 7. Loops and Conditionals (1 mark)"
      ]
    },
    {
      "cell_type": "markdown",
      "metadata": {
        "id": "vWu_722c8UKl"
      },
      "source": [
        "### Vowel Counting (Implementation)\n",
        "\n",
        "Write a function, `vowels(text)`, that counts the total number of vowels (a, e, i, o, and u) in a given string and returns the total."
      ]
    },
    {
      "cell_type": "code",
      "metadata": {
        "id": "9L3hXyep8foW"
      },
      "source": [
        ""
      ],
      "execution_count": null,
      "outputs": []
    },
    {
      "cell_type": "markdown",
      "metadata": {
        "id": "tkLtgcCs8f-R"
      },
      "source": [
        "**One simple test:** Use this cell to test if your function works. (If there is no output when you run the cell, it means your code worked on this string. If your code doesn't work, you will get an error.)"
      ]
    },
    {
      "cell_type": "code",
      "metadata": {
        "id": "lLltngPT8pxg"
      },
      "source": [
        "assert vowels(\"When life gets you down, do you wanna know what you’ve gotta do? Just keep swimming\") == 25"
      ],
      "execution_count": null,
      "outputs": []
    },
    {
      "cell_type": "markdown",
      "metadata": {
        "id": "D2-dBVB9Eem_"
      },
      "source": [
        "**Thorough testing:** Run your tests above. Did they all pass? Did you need to fix your code at all?"
      ]
    },
    {
      "cell_type": "markdown",
      "metadata": {
        "id": "O1ut4vkXFi0c"
      },
      "source": [
        "### Card game\n",
        "\n",
        "Consider a game where Aces are worth 5 points, Kings 3 points, Queens 2 points, Jacks 1 point, and all other cards are not worth any points. Write a function, `score(cards)`, that takes in a list of strings and calculates the total score for that list. Any example of such a list is in the testing cell below."
      ]
    },
    {
      "cell_type": "code",
      "metadata": {
        "id": "BFkGXgO6FmbU"
      },
      "source": [
        ""
      ],
      "execution_count": null,
      "outputs": []
    },
    {
      "cell_type": "markdown",
      "metadata": {
        "id": "oPffPpo5FmuP"
      },
      "source": [
        "Use the cell below to test if your function works."
      ]
    },
    {
      "cell_type": "code",
      "metadata": {
        "id": "X3BIwxTQFrd0"
      },
      "source": [
        "assert score([\"10\", \"Jack\", \"Ace\", \"King\", \"Queen\", \"King\", \"3\"]) == 14"
      ],
      "execution_count": null,
      "outputs": []
    },
    {
      "cell_type": "markdown",
      "metadata": {
        "id": "nP6y30XU-Evh"
      },
      "source": [
        "## Challenge Question (optional)\n",
        "\n",
        "**NOTE:** This question is **NOT** worth any marks and is meant to present a significant challenge. It's here for those who wish to extend themselves. Even if you're not able to solve it, you may find giving it a try good practice and you can always come back to it in later weeks. "
      ]
    },
    {
      "cell_type": "markdown",
      "metadata": {
        "id": "L-w7qXzL-Pna"
      },
      "source": [
        "Write a function `obfuscate(text)` that takes in any text and moves the first letter of each word to the end. For example, \"the quick brown fox jumped over the lazy dog\" becomes \"het uickq rownb oxf umpedj vero het azyl ogd\". You can make the following assumptions:\n",
        "\n",
        "* The only characters other than letters of the alphabet are spaces\n",
        "* If the word is a single character (e.g. \"a\") you don't need to do anything\n",
        "* The text won't start with a space\n",
        "* You won't have two spaces next to each other"
      ]
    },
    {
      "cell_type": "code",
      "metadata": {
        "id": "WwCGiTkc_QrM"
      },
      "source": [
        "def obfuscate(text):\n",
        "    obfuscated_text = \"\"\n",
        "    # go through the whole text\n",
        "    # if it's the first letter of a word --> save it\n",
        "    # rest of the word, copy\n",
        "    # end of the word (space or end of text) --> copy saved letter back in\n",
        "    i = 0\n",
        "    while i < len(text):\n",
        "        # process the next word\n",
        "        # save first letter\n",
        "        saved_letter = text[i]\n",
        "        i = i + 1\n",
        "        # copy rest of word\n",
        "        while i < len(text) and text[i] != ' ':\n",
        "            obfuscated_text += text[i]\n",
        "            i = i + 1\n",
        "        # copy back saved letter\n",
        "        obfuscated_text += saved_letter\n",
        "        # if we aren't at the end of the text, also add a space (before starting the next word)\n",
        "        if i < len(text):\n",
        "            obfuscated_text += ' '\n",
        "        # move i to be the index of the first letter of the next word\n",
        "        i = i + 1\n",
        "    return obfuscated_text\n"
      ],
      "execution_count": 31,
      "outputs": []
    },
    {
      "cell_type": "code",
      "source": [
        "print(obfuscate(\"the quick brown fox jumped over the lazy dog\"))"
      ],
      "metadata": {
        "colab": {
          "base_uri": "https://localhost:8080/"
        },
        "id": "mTUPfqVZCmKM",
        "outputId": "6a4d334f-e64a-41ce-a93a-af6bc632c8b2"
      },
      "execution_count": 29,
      "outputs": [
        {
          "output_type": "stream",
          "name": "stdout",
          "text": [
            "het uickq rownb oxf umpedj vero het azyl ogd\n"
          ]
        }
      ]
    },
    {
      "cell_type": "code",
      "source": [
        "assert obfuscate(\"the quick brown fox jumped over the lazy dog\") == \"het uickq rownb oxf umpedj vero het azyl ogd\"\n",
        "assert obfuscate(\"a little b\") == \"a ittlel b\""
      ],
      "metadata": {
        "id": "qWw8NlFWAmog"
      },
      "execution_count": 32,
      "outputs": []
    },
    {
      "cell_type": "markdown",
      "metadata": {
        "id": "GlpJIIkZlOe8"
      },
      "source": [
        "## Set up Python and Visual Studio Code"
      ]
    },
    {
      "cell_type": "markdown",
      "metadata": {
        "id": "PDGGPQIplTos"
      },
      "source": [
        "If you haven't already, follow the instructions [here](https://hackmd.io/@sim/ByCohmeVF) to set up Python and Visual Studio Code on your computer.\n",
        "\n",
        "This task is worth no marks, but you will need it for Week 4 onwards and the Web Apps lab book."
      ]
    },
    {
      "cell_type": "markdown",
      "metadata": {
        "id": "eBfcPYAnhiMV"
      },
      "source": [
        "## 8. Lists (0.5 marks)\n",
        "\n",
        "Like with strings, Python features many operations that can be performed on lists. These include:\n",
        "\n",
        "* Concatenating (joining together) them with `+`\n",
        "* Replicating (repeating) them with `*`\n",
        "* Indexing them with `[...]`\n",
        "\n",
        "Use these operations on the following list to answer the questions below. They can all be solved **without** loops."
      ]
    },
    {
      "cell_type": "code",
      "metadata": {
        "id": "wZLuLAR2hjKI"
      },
      "source": [
        "students = [\"Sally Studies\", \"Penelope Prepares\", \"Francis Forgets\", \"David Doesn't-Read-Spec\", \"Oliver Overconfident\", \"Larry Leaves-It-To-The-Last-Minute\"]"
      ],
      "execution_count": null,
      "outputs": []
    },
    {
      "cell_type": "markdown",
      "metadata": {
        "id": "UifJl-Dzhnf1"
      },
      "source": [
        "Who is the student at index 2?"
      ]
    },
    {
      "cell_type": "code",
      "metadata": {
        "id": "kXBIqQx-hrG1"
      },
      "source": [
        ""
      ],
      "execution_count": null,
      "outputs": []
    },
    {
      "cell_type": "markdown",
      "metadata": {
        "id": "tCndk72YhpLN"
      },
      "source": [
        "Replace \"David Doesn't-Read-Spec\" with a new student \"Emily Eager\"."
      ]
    },
    {
      "cell_type": "code",
      "metadata": {
        "id": "59zdlvTHhvj9"
      },
      "source": [
        ""
      ],
      "execution_count": null,
      "outputs": []
    },
    {
      "cell_type": "markdown",
      "metadata": {
        "id": "ZnxPCSZ3hvEW"
      },
      "source": [
        "Create a new list with just the first two students repeated 2 times (i.e. `[\"Sally Studies\", \"Penelope Prepares\", \"Sally Studies\", \"Penelope Prepares\"]`)."
      ]
    },
    {
      "cell_type": "code",
      "metadata": {
        "id": "tB_tPkDBhzjP"
      },
      "source": [
        ""
      ],
      "execution_count": null,
      "outputs": []
    },
    {
      "cell_type": "markdown",
      "metadata": {
        "id": "HvHv_2PEh6nN"
      },
      "source": [
        "## 9. For Loops (0.5 marks)"
      ]
    },
    {
      "cell_type": "markdown",
      "metadata": {
        "id": "HuGCNdH_h7ds"
      },
      "source": [
        "Write a function `one_word(words)` which takes in a list of strings and uses a `for... in...` loop to join all the words together in a single string (i.e. \"correcthorsebatterystaple\")."
      ]
    },
    {
      "cell_type": "code",
      "metadata": {
        "id": "ybYorYV5znI4"
      },
      "source": [
        ""
      ],
      "execution_count": null,
      "outputs": []
    },
    {
      "cell_type": "markdown",
      "metadata": {
        "id": "gZ904OT_zw_l"
      },
      "source": [
        "Use the cell below to test your code."
      ]
    },
    {
      "cell_type": "code",
      "metadata": {
        "id": "V6oLbI_Ih-57"
      },
      "source": [
        "words = [\"correct\", \"horse\", \"battery\", \"staple\"]\n",
        "assert(one_word(words)==\"correcthorsebatterystaple\")"
      ],
      "execution_count": null,
      "outputs": []
    },
    {
      "cell_type": "markdown",
      "metadata": {
        "id": "hUIGlA6Gh_hv"
      },
      "source": [
        "Write a function `as_and_es(words)` which uses a loop to calculate $2a + e$ where $a$ is the number of times the letter \"a\" appears in all the words and $e$ is the number of times the letter \"e\" occurs."
      ]
    },
    {
      "cell_type": "code",
      "metadata": {
        "id": "AbRKqgB6ziWd"
      },
      "source": [
        ""
      ],
      "execution_count": null,
      "outputs": []
    },
    {
      "cell_type": "markdown",
      "metadata": {
        "id": "7cIQGiQ5zh9-"
      },
      "source": [
        "Use the cell below to test your code."
      ]
    },
    {
      "cell_type": "code",
      "metadata": {
        "id": "B0tf83i-iCq8"
      },
      "source": [
        "words = [\"correct\", \"horse\", \"battery\", \"staple\"]\n",
        "assert(as_and_es(words)==8)"
      ],
      "execution_count": null,
      "outputs": []
    },
    {
      "cell_type": "markdown",
      "metadata": {
        "id": "oRrzAEktiBP8"
      },
      "source": [
        "Write a function `big_sum(numbers)` which takes in a list of numbers and uses a for loop to compute the sum of all the numbers in the given list excluding any that are 13 or greater."
      ]
    },
    {
      "cell_type": "code",
      "metadata": {
        "id": "BP2c3kCuiIKk"
      },
      "source": [
        ""
      ],
      "execution_count": null,
      "outputs": []
    },
    {
      "cell_type": "markdown",
      "metadata": {
        "id": "EFCCTQjHzWW0"
      },
      "source": [
        "Use the cell below to test your code."
      ]
    },
    {
      "cell_type": "code",
      "metadata": {
        "id": "shOYrIA7zPlu"
      },
      "source": [
        "assert(big_sum([4 , 7 , 2, 13, 3, 5, 4, 12, 14]) == 37)"
      ],
      "execution_count": null,
      "outputs": []
    },
    {
      "cell_type": "markdown",
      "metadata": {
        "id": "cVDWfgkuMM7F"
      },
      "source": [
        "## 10. While loops (1 mark)\n",
        "\n",
        "Write a function, `odd_sum_while(n)` that computes all the positive *odd* numbers less than `n` with a `while` loop.\n",
        "\n",
        "*Note*: You could do this with a `for` loop, but you should do it with a `while` loop for practice. "
      ]
    },
    {
      "cell_type": "code",
      "metadata": {
        "id": "SNKmhCo5MM7F"
      },
      "source": [
        ""
      ],
      "execution_count": null,
      "outputs": []
    },
    {
      "cell_type": "code",
      "metadata": {
        "id": "zVC6P0HgMM7G"
      },
      "source": [
        ""
      ],
      "execution_count": null,
      "outputs": []
    },
    {
      "cell_type": "markdown",
      "metadata": {
        "id": "S6fFhHlhMM7G"
      },
      "source": [
        "Use this cell to test whether you have implemented the function correctly."
      ]
    },
    {
      "cell_type": "code",
      "metadata": {
        "id": "goh75VtPMM7G"
      },
      "source": [
        "assert odd_sum_while(10) == 25"
      ],
      "execution_count": null,
      "outputs": []
    },
    {
      "cell_type": "markdown",
      "metadata": {
        "id": "ZIiUJS_15Zcj"
      },
      "source": [
        "## 11. More loops  (1 mark)\n",
        "\n",
        "Given a list of numbers, you can compute a new list containing the *difference* between each element and its subsequent element. For example, given `[1, 2, 5, 3]`, the *difference* list would be `[1, 3, -2]`. Naturally, the new list has one less element than the original list.\n",
        "\n",
        "Write a function `difference(numbers)` that computes the difference list for the argument `numbers`."
      ]
    },
    {
      "cell_type": "code",
      "metadata": {
        "id": "VvzojtOE5Zck"
      },
      "source": [
        "def difference(numbers):\n",
        "    difference_list = []\n",
        "    for i in range(len(numbers)-1):\n",
        "        value = numbers[i]\n",
        "        next_value = numbers[i+1]\n",
        "        #print(f\"i = {i}, value = {value}, next_value = {next_value}\")\n",
        "        difference = next_value - value\n",
        "        #print(f\"difference = {difference}\")\n",
        "        difference_list.append(difference)\n",
        "        #print(f\"difference_list = {difference_list}\")\n",
        "    return difference_list"
      ],
      "execution_count": 11,
      "outputs": []
    },
    {
      "cell_type": "code",
      "source": [
        "print(difference([1,2,5,3]))"
      ],
      "metadata": {
        "colab": {
          "base_uri": "https://localhost:8080/"
        },
        "id": "nv_O4dNg9twK",
        "outputId": "ff94f2d3-c125-49a8-d78a-716b0a1964dd"
      },
      "execution_count": 12,
      "outputs": [
        {
          "output_type": "stream",
          "name": "stdout",
          "text": [
            "[1, 3, -2]\n"
          ]
        }
      ]
    },
    {
      "cell_type": "markdown",
      "metadata": {
        "id": "S35axH5s5Zck"
      },
      "source": [
        "Use this cell to test your function."
      ]
    },
    {
      "cell_type": "code",
      "metadata": {
        "id": "UIcDcf845Zck"
      },
      "source": [
        "assert difference([1, 2, 5, 3]) == [1, 3, -2]\n",
        "assert difference([3, 2, 567, 2, 45, 3, 7, 5]) == [-1, 565, -565, 43, -42, 4, -2]"
      ],
      "execution_count": 13,
      "outputs": []
    },
    {
      "cell_type": "markdown",
      "metadata": {
        "id": "A2mf4TFM5Zck"
      },
      "source": [
        "Write another function, `final_difference(numbers)` that repeatedly applies `difference(numbers)` until only 1 number remains. That number is then returned."
      ]
    },
    {
      "cell_type": "code",
      "metadata": {
        "id": "ipko3dfj5Zck"
      },
      "source": [
        "def final_difference(numbers):\n",
        "    #print(numbers)\n",
        "    while len(numbers) > 1:\n",
        "        numbers = difference(numbers)\n",
        "        #print(numbers)\n",
        "    return numbers[0]"
      ],
      "execution_count": 22,
      "outputs": []
    },
    {
      "cell_type": "code",
      "source": [
        "print(final_difference([1, 2, 5, 3]))"
      ],
      "metadata": {
        "colab": {
          "base_uri": "https://localhost:8080/"
        },
        "id": "f1dSzRvG_G9Q",
        "outputId": "416f4816-7d71-4a49-87e4-0342eb56d408"
      },
      "execution_count": 23,
      "outputs": [
        {
          "output_type": "stream",
          "name": "stdout",
          "text": [
            "-7\n"
          ]
        }
      ]
    },
    {
      "cell_type": "markdown",
      "metadata": {
        "id": "sQXECpDY5Zck"
      },
      "source": [
        "Use this cell to test your function."
      ]
    },
    {
      "cell_type": "code",
      "metadata": {
        "id": "cITEyKiw5Zcl"
      },
      "source": [
        "assert final_difference([1, 2, 5, 3]) == -7\n",
        "assert final_difference([3, 2, 567, 2, 45, 3, 7, 5]) == -13382"
      ],
      "execution_count": 24,
      "outputs": []
    },
    {
      "cell_type": "markdown",
      "metadata": {
        "id": "ZD2DSx_gi2uh"
      },
      "source": [
        "## 12. Dictionaries Introduction (1 mark)"
      ]
    },
    {
      "cell_type": "markdown",
      "metadata": {
        "id": "Bc2UNmJEi6pi"
      },
      "source": [
        "The following dictionary contains the number of enrolments in a variety of first-year courses."
      ]
    },
    {
      "cell_type": "code",
      "metadata": {
        "id": "Hx9Dqd1pi-EW"
      },
      "source": [
        "first_year_courses = { \"COMP1010\": 45, \"COMP1511\": 560, \"COMP1911\": 100, \"MATH1131\": 1034, \"MATH1231\": 895, \"FINS1612\": 423, \"FINS1613\": 587, \"ACCT1501\": 327 }"
      ],
      "execution_count": null,
      "outputs": []
    },
    {
      "cell_type": "markdown",
      "metadata": {
        "id": "3HlAT3m1i-yp"
      },
      "source": [
        "How many students are enrolled in COMP1010?"
      ]
    },
    {
      "cell_type": "code",
      "metadata": {
        "id": "QYOv5SbIjCrY"
      },
      "source": [
        ""
      ],
      "execution_count": null,
      "outputs": []
    },
    {
      "cell_type": "markdown",
      "metadata": {
        "id": "5hyBp-v8jC4q"
      },
      "source": [
        "Construct a list containing all the courses with more than 500 students. You should get this as a result:\n",
        "```\n",
        "[\"COMP1511\", \"MATH1131\", \"MATH1231\", \"FINS1613\"]\n",
        "```"
      ]
    },
    {
      "cell_type": "code",
      "metadata": {
        "id": "h6byxta6jGO6"
      },
      "source": [
        ""
      ],
      "execution_count": null,
      "outputs": []
    },
    {
      "cell_type": "markdown",
      "metadata": {
        "id": "KxGBwkiPjK8p"
      },
      "source": [
        "Find the total number of students enrolled in each subject area (the first 4 letters of the course code). Store these numbers in a dictionary. You should get this as a result:\n",
        "\n",
        "```\n",
        "{\"COMP\": 705, \"MATH\": 1929, \"FINS\": 1010, \"ACCT\": 327}\n",
        "```\n",
        "\n",
        "**NOTE**: Recall that dictionaries are unordered in this version of Python, so your result may not *appear* in exactly the same order as above, but as long as the numbers match, your result is correct."
      ]
    },
    {
      "cell_type": "code",
      "metadata": {
        "id": "dvTO48zpjSzY"
      },
      "source": [
        ""
      ],
      "execution_count": null,
      "outputs": []
    },
    {
      "cell_type": "markdown",
      "metadata": {
        "id": "z8FhEgnvMM6-"
      },
      "source": [
        "## 13. Dictionary Access (0.5 marks)\n",
        "\n",
        "Write a function, `young_john(people)`, that returns `True` if the dictionary `people` contains the key `\"John\"` with a value of `19`. It should return `False` otherwise."
      ]
    },
    {
      "cell_type": "code",
      "metadata": {
        "id": "0W5X12FeMM6_"
      },
      "source": [
        ""
      ],
      "execution_count": null,
      "outputs": []
    },
    {
      "cell_type": "markdown",
      "metadata": {
        "id": "LS4DCQW0MM6_"
      },
      "source": [
        "Use this cell to test if your function works."
      ]
    },
    {
      "cell_type": "code",
      "metadata": {
        "id": "PEISR0YlMM7A"
      },
      "source": [
        "assert young_john({ \"Rob\": 31, \"Sarah\": 24, \"Chen\": 20, \"John\": 19})\n",
        "assert not young_john({ \"Rob\": 31, \"Sarah\": 19, \"Chen\": 20, \"James\": 22})\n",
        "assert not young_john({ \"Rob\": 31, \"Sarah\": 24, \"Chen\": 20, \"John\": 23})"
      ],
      "execution_count": null,
      "outputs": []
    },
    {
      "cell_type": "markdown",
      "metadata": {
        "id": "jT-1XfIYMM7A"
      },
      "source": [
        "## 14. Generalised card game (0.5 marks)\n",
        "\n",
        "Consider a game where certain cards are worth a certain number of points. Write a function, `score(card_points, cards)`, that takes in a dictionary representing the points for each card and a list of strings and calculates the total score for that list. You can assume that if a card is not in `card_points`, it is not worth any points. Examples of how the function is used are in the testing cell below."
      ]
    },
    {
      "cell_type": "code",
      "metadata": {
        "id": "4xQ2XRVqMM7B"
      },
      "source": [
        ""
      ],
      "execution_count": null,
      "outputs": []
    },
    {
      "cell_type": "markdown",
      "metadata": {
        "id": "V-c29c93MM7B"
      },
      "source": [
        "Use the cell below to test if your function works."
      ]
    },
    {
      "cell_type": "code",
      "metadata": {
        "id": "udZml6enMM7B"
      },
      "source": [
        "assert score({\"Ace\": 5, \"King\": 3, \"Queen\": 2, \"Jack\": 1 },\n",
        "             [\"10\", \"Jack\", \"Ace\", \"King\", \"Queen\", \"King\", \"3\"]) == 14\n",
        "assert score({\"Fire\": 2, \"Wind\": 1, \"Water\": 1, \"Earth\": 3 },\n",
        "             [\"Fire\", \"Fire\", \"Wind\", \"Water\", \"Earth\"]) == 9"
      ],
      "execution_count": null,
      "outputs": []
    },
    {
      "cell_type": "markdown",
      "metadata": {
        "id": "mVG24vU9jXVr"
      },
      "source": [
        "## 15. Bringing it all together (1 mark)\n",
        "\n",
        "Write a function, `common(list1, list2)`, that returns a dictionary. Each key in the dictionary corresponds to an element in *both* of the lists. The value for each key is the number of times that element appears across both lists. See the testing cell below for an example.\n",
        "\n",
        "**HINT**: There are multiple ways to solve this, but you may find the simplest involves building at least two intermediate dictionaries and multiple loops."
      ]
    },
    {
      "cell_type": "code",
      "metadata": {
        "id": "iI6Qv4gIjaSh"
      },
      "source": [
        ""
      ],
      "execution_count": null,
      "outputs": []
    },
    {
      "cell_type": "markdown",
      "metadata": {
        "id": "zCGQDk8Dja4I"
      },
      "source": [
        "Use this cell to test whether you have implemented the function correctly."
      ]
    },
    {
      "cell_type": "code",
      "metadata": {
        "id": "Lx7cQTQJjbgC"
      },
      "source": [
        "assert common([\"a\", \"b\", \"a\", \"d\", \"f\", \"a\"], [\"a\", \"b\", \"d\", \"d\", \"e\"]) == { \"a\": 4, \"b\": 2, \"d\": 3 }"
      ],
      "execution_count": null,
      "outputs": []
    },
    {
      "cell_type": "markdown",
      "metadata": {
        "id": "pns2rTEsMM7B"
      },
      "source": [
        "## 16. Nested Structures (1 mark)\n",
        "\n",
        "The following dictionary contains some courses and the list of tutorials for each of them."
      ]
    },
    {
      "cell_type": "code",
      "metadata": {
        "id": "kWGfJ_UyMM7C"
      },
      "source": [
        "first_year_courses = { \"COMP1010\": [\"T15A\", \"T17A\", \"T18A\"], \"FINS1612\": [\"M11A\", \"W12A\"], \"FINS1613\": [\"T12A\", \"T12B\", \"F09A\"], \"ACCT1501\": [\"T10A\", \"F15A\"], \"INFS3605\": [\"M10A\", \"T15A\", \"W12A\", \"W12B\"] }"
      ],
      "execution_count": null,
      "outputs": []
    },
    {
      "cell_type": "markdown",
      "metadata": {
        "id": "ssBTJtP2MM7C"
      },
      "source": [
        "What is the first tutorial for COMP1010?"
      ]
    },
    {
      "cell_type": "code",
      "metadata": {
        "id": "usenLTcCMM7C"
      },
      "source": [
        ""
      ],
      "execution_count": null,
      "outputs": []
    },
    {
      "cell_type": "markdown",
      "metadata": {
        "id": "6lv5FCXKMM7E"
      },
      "source": [
        "Construct a list containing all the courses that have exactly 3 tutorials. You should get this as a result:\n",
        "```[\"COMP1010\", \"FINS1613\"]```"
      ]
    },
    {
      "cell_type": "code",
      "metadata": {
        "id": "gKjGLXxeMM7E"
      },
      "source": [
        ""
      ],
      "execution_count": null,
      "outputs": []
    },
    {
      "cell_type": "markdown",
      "metadata": {
        "id": "pBXuc2xTMM7F"
      },
      "source": [
        "Construct a list containing all the courses with a tutorial on a Tuesday (i.e. the tutorial code starts with a 'T'). You should get this as a result:\n",
        "```\n",
        "[\"COMP1010\", \"FINS1613\", \"ACCT1501\", \"INFS3605\"]\n",
        "```\n",
        "\n",
        "**Hint**: Depending on how you approach this, you may need a nested loop."
      ]
    },
    {
      "cell_type": "code",
      "metadata": {
        "id": "h5DMg6GlMM7F"
      },
      "source": [
        ""
      ],
      "execution_count": null,
      "outputs": []
    },
    {
      "cell_type": "markdown",
      "metadata": {
        "id": "h5IQe05D5Zci"
      },
      "source": [
        "## 17. Complex Data Structures (1 mark)\n",
        "\n",
        "This data structure contains a series of courses. For each course, there are a list of its tutorials and its enrolments. "
      ]
    },
    {
      "cell_type": "code",
      "metadata": {
        "id": "w7l6--pq5Zci"
      },
      "source": [
        "unsw_courses = { \n",
        "    \"COMP1010\": { \n",
        "        \"name\": \"Art of Computing\", \n",
        "        \"tutorials\": [ \n",
        "            { \"code\": \"T15A\", \"room\": \"Quad 1041\" },\n",
        "            { \"code\": \"T17A\", \"room\": \"ASB 111\" },\n",
        "            { \"code\": \"T18A\", \"room\": \"Goldstein G03\" }\n",
        "        ],\n",
        "        \"enrollments\": [\n",
        "            { \"zid\": \"z1234567\", \"tutorial\": \"T15A\" },\n",
        "            { \"zid\": \"z7654321\", \"tutorial\": \"T17A\" },\n",
        "            { \"zid\": \"z1357246\", \"tutorial\": \"T15A\" },\n",
        "            { \"zid\": \"z2461357\", \"tutorial\": \"T18A\" }\n",
        "        ]\n",
        "    },\n",
        "    \"FINS1613\": { \n",
        "        \"name\": \"Business Finance\", \n",
        "        \"tutorials\": [ \n",
        "            { \"code\": \"M12A\", \"room\": \"ASB 302\" },\n",
        "            { \"code\": \"H16B\", \"room\": \"J17 G12\" }\n",
        "        ],\n",
        "        \"enrollments\": [\n",
        "            { \"zid\": \"z7654321\", \"tutorial\": \"M12A\" },\n",
        "            { \"zid\": \"z1234567\", \"tutorial\": \"M12A\" },\n",
        "            { \"zid\": \"z1357246\", \"tutorial\": \"H16B\" }\n",
        "        ]\n",
        "    },\n",
        "    \"FINS1612\": { \n",
        "        \"name\": \"Capital Markets & Institution\", \n",
        "        \"tutorials\": [ \n",
        "            { \"code\": \"T11A\", \"room\": \"ASB 111\" },\n",
        "            { \"code\": \"F11A\", \"room\": \"J17 G12\" },\n",
        "            { \"code\": \"M09A\", \"room\": \"Goldstein G03\" }\n",
        "        ],\n",
        "        \"enrollments\": [\n",
        "            { \"zid\": \"z1357246\", \"tutorial\": \"M09A\" },\n",
        "            { \"zid\": \"z7654321\", \"tutorial\": \"T11A\" },\n",
        "            { \"zid\": \"z1234567\", \"tutorial\": \"F11A\" },\n",
        "            { \"zid\": \"z2461357\", \"tutorial\": \"F11A\" }\n",
        "        ]\n",
        "    }\n",
        "}\n"
      ],
      "execution_count": null,
      "outputs": []
    },
    {
      "cell_type": "markdown",
      "metadata": {
        "id": "nhjbXJiN5Zcj"
      },
      "source": [
        "Write a function `timetable(zid)` that, given a student number returns the timetable of the student in the format shown in the test cell below.\n",
        "\n",
        "**NOTE**: Your function should still work if new courses, tutorials or enrolments were added to the above data structure-- i.e. you shouldn't have any specific course or tutorial codes hardcoded in your solution."
      ]
    },
    {
      "cell_type": "code",
      "metadata": {
        "id": "dhfQI3cg5Zcj"
      },
      "source": [
        ""
      ],
      "execution_count": null,
      "outputs": []
    },
    {
      "cell_type": "markdown",
      "metadata": {
        "id": "ZubrwXLo5Zcj"
      },
      "source": [
        "Use this cell to test if your function is correct."
      ]
    },
    {
      "cell_type": "code",
      "metadata": {
        "id": "_BuWlxee5Zcj"
      },
      "source": [
        "assert timetable('z1234567') == { \n",
        "    \"COMP1010\": { \"time\": \"T15A\", \"room\": \"Quad 1041\" },\n",
        "    \"FINS1613\": { \"time\": \"M12A\", \"room\": \"ASB 302\" },\n",
        "    \"FINS1612\": { \"time\": \"F11A\", \"room\": \"J17 G12\" }\n",
        "}\n",
        "assert timetable('z2461357') == { \n",
        "    \"COMP1010\": { \"time\": \"T18A\", \"room\": \"Goldstein G03\" },\n",
        "    \"FINS1612\": { \"time\": \"F11A\", \"room\": \"J17 G12\" }\n",
        "}"
      ],
      "execution_count": null,
      "outputs": []
    },
    {
      "cell_type": "markdown",
      "metadata": {
        "id": "AfweEZfN5Zcl"
      },
      "source": [
        "## 18. Program Composition (1 mark) "
      ]
    },
    {
      "cell_type": "markdown",
      "metadata": {
        "id": "2r-MC3Oe7fkZ"
      },
      "source": [
        "### Majority Vote\n",
        "Create a function, `majority(votes)`, that returns the majority vote in a list. A majority vote is an element that occurs $> \\frac{n}{2}$ times in a list (where $n$ is the length of the list). If there is no majority vote, the function should return `None`."
      ]
    },
    {
      "cell_type": "code",
      "metadata": {
        "id": "3G74MRHf5Zcl"
      },
      "source": [
        ""
      ],
      "execution_count": null,
      "outputs": []
    },
    {
      "cell_type": "markdown",
      "metadata": {
        "id": "mhED1-6M5Zcl"
      },
      "source": [
        "Use this cell to test your function."
      ]
    },
    {
      "cell_type": "code",
      "metadata": {
        "id": "c-T3FspS5Zcl"
      },
      "source": [
        "assert majority([\"A\", \"A\", \"B\"]) == \"A\"\n",
        "assert majority([\"pizza\", \"pizza\", \"pizza\", \"burger\", \"burrito\", \"pizza\"]) == \"pizza\"\n",
        "assert majority([\"koala\", \"kangaroo\", \"kangaroo\", \"koala\", \"wombat\", \"wombat\"]) == None\n",
        "assert majority([\"dogs\", \"cats\", \"dogs\", \"snakes\"]) == None"
      ],
      "execution_count": null,
      "outputs": []
    },
    {
      "cell_type": "markdown",
      "metadata": {
        "id": "XEQDpJXc5Zcm"
      },
      "source": [
        "### Grouping\n",
        "\n",
        "Create a function, `group(strings)`, that groups strings by their first character. The argument `strings` is a list of strings and the returned grouping should be a list of lists. The function should preserve ordering as much as possible-- i.e. the first strings in all the sublists should be in the order they appear in the original list, as should the strings inside each sublist. See the test cell below for some examples."
      ]
    },
    {
      "cell_type": "code",
      "metadata": {
        "id": "2vRRA51t5Zcm"
      },
      "source": [
        ""
      ],
      "execution_count": null,
      "outputs": []
    },
    {
      "cell_type": "markdown",
      "metadata": {
        "id": "Sk14LlMH5Zcm"
      },
      "source": [
        "Use this cell to test if your function is correct"
      ]
    },
    {
      "cell_type": "code",
      "metadata": {
        "id": "mG-RL2R-5Zcm"
      },
      "source": [
        "assert group([\"hello\", \"goodbye\", \"hi\", \"goodness\"]) == [[\"hello\", \"hi\"], [\"goodbye\", \"goodness\"]]\n",
        "assert group([\"python\", \"java\", \"prolog\", \"purescript\", \"javascript\", \"haskell\"]) == [[\"python\", \"prolog\", \"purescript\"], [\"java\", \"javascript\"], [\"haskell\"]]"
      ],
      "execution_count": null,
      "outputs": []
    },
    {
      "cell_type": "markdown",
      "metadata": {
        "id": "FyvzBGG9jg7v"
      },
      "source": [
        "## Challenge #1 (optional)\n",
        "\n",
        "**NOTE:** This question is **NOT** worth any marks and is meant to present a significant challenge. It's here for those who wish to extend themselves. Even if you're not able to solve it, you may find giving it a try good practice and you can always come back to it in later weeks. "
      ]
    },
    {
      "cell_type": "markdown",
      "metadata": {
        "id": "oIPBFs3Mjj1Z"
      },
      "source": [
        "Solve the problem described below:\n",
        "\n",
        "> Oh no, there era grimlens (or parheps just eno nysta grimlen) in my cumpetor, semithong wierd is heppinang to my vewols! Thye seem to be ratetod thruogh aech word, aech eno rapleces the vewol to its left and the first eno mevos oruand to the last pisitoon. That's a tirryble creul thing to do."
      ]
    },
    {
      "cell_type": "code",
      "metadata": {
        "id": "ZADAclYfjmDf"
      },
      "source": [
        "# Oh no, there era grimlens (or parheps just eno nysta grimlen) in my cumpetor, semithong wierd is heppinang to my vewols! Thye seem to be ratetod thruogh aech word, aech eno rapleces the vewol to its left and the first eno mevos oruand to the last pisitoon. That's a tirryble creul thing to do.\n",
        "'''\n",
        "computer\n",
        "c mp t r\n",
        " o  u e\n",
        " u  e o\n",
        "cumpetor\n",
        "'''\n",
        "\n",
        "def deobfuscate(text):\n",
        "    clean_text = \"\"\n",
        "    vowels = 'aeiouAEIOUyY'\n",
        "    # for all of text\n",
        "    i = 0\n",
        "    while i < len(text):\n",
        "        # for each word\n",
        "        # store the start of the word\n",
        "        start_i = i\n",
        "        word_vowels = []\n",
        "        while i < len(text) and text[i] != ' ':\n",
        "            # go through each letter, if it's a vowel, save it\n",
        "            if text[i] in vowels:\n",
        "                word_vowels.append(text[i])\n",
        "            i = i + 1\n",
        "        # now we have saved all the vowels for that word\n",
        "        # rotate the vowels\n",
        "        if len(word_vowels) > 1:\n",
        "            # rotated the wrong way: word_vowels = word_vowels[1:] + [word_vowels[0]]\n",
        "            word_vowels = [word_vowels[-1]] + word_vowels[:-1]\n",
        "        # copy the word from text onto the end of clean_text, replacing any vowels\n",
        "        # with their rotated replacement\n",
        "        i = start_i\n",
        "        while i < len(text) and text[i] != ' ':\n",
        "            # if the letter is a vowel\n",
        "            if text[i] in vowels:\n",
        "                # add vowel from our rotated vowels, to clean_text\n",
        "                clean_text += word_vowels[0]\n",
        "                # remove the first vowel\n",
        "                word_vowels.pop(0)\n",
        "            else:\n",
        "                # if not a vowel, just copy the letter to clean text\n",
        "                clean_text += text[i]\n",
        "            i = i + 1\n",
        "        if i < len(text) and text[i] == ' ':\n",
        "            clean_text += ' '\n",
        "        i = i + 1\n",
        "    return clean_text\n",
        "\n",
        "\n",
        "\n"
      ],
      "execution_count": 41,
      "outputs": []
    },
    {
      "cell_type": "code",
      "source": [
        "print(deobfuscate(\"Oh no, there era grimlens (or parheps just eno nysta grimlen) in my cumpetor, semithong wierd is heppinang to my vewols! Thye seem to be ratetod thruogh aech word, aech eno rapleces the vewol to its left and the first eno mevos oruand to the last pisitoon. That's a tirryble creul thing to do.\"))"
      ],
      "metadata": {
        "colab": {
          "base_uri": "https://localhost:8080/"
        },
        "id": "ETT_Y5crGuZj",
        "outputId": "f899a820-bab4-4932-8f7b-cc171c47997b"
      },
      "execution_count": 42,
      "outputs": [
        {
          "output_type": "stream",
          "name": "stdout",
          "text": [
            "Oh no, there are gremlins (or perhaps just one nasty gremlin) in my computer, something weird is happening to my vowels! They seem to be rotated through each word, each one replaces the vowel to its left and the first one moves around to the last position. That's a terribly cruel thing to do.\n"
          ]
        }
      ]
    },
    {
      "cell_type": "markdown",
      "metadata": {
        "id": "iYvhM4i9MM7H"
      },
      "source": [
        "## Challenge #2 (optional)\n",
        "\n",
        "**NOTE:** This question is **NOT** worth any marks and is meant to present a significant challenge. It's here for those who wish to extend themselves. Even if you're not able to solve it, you may find giving it a try good practice and you can always come back to it in later weeks. "
      ]
    },
    {
      "cell_type": "markdown",
      "metadata": {
        "id": "pA6CLAX1MM7H"
      },
      "source": [
        "The following cell constructs the map of \"Romania\" as a dictionary of dictioanries."
      ]
    },
    {
      "cell_type": "code",
      "metadata": {
        "id": "O_xhPA1HMM7H"
      },
      "source": [
        "romania = {\n",
        "    'Arad': { 'Zerind': 75, 'Sibiu': 140, 'Timisoara': 118 },\n",
        "    'Zerind': { 'Arad': 75, 'Oradea': 71 },\n",
        "    'Sibiu': { 'Arad': 140, 'Oradea': 151, 'Fagaras': 99, 'Rimnicu Vilcea': 80 },\n",
        "    'Timisoara': { 'Arad': 118, 'Lugoj': 111 },\n",
        "    'Oradea': { 'Zerind': 71, 'Sibiu': 151 },\n",
        "    'Lugoj': { 'Timisoara': 111, 'Mehadia': 70 },\n",
        "    'Fagaras': { 'Sibiu': 99, 'Bucharest': 211 },\n",
        "    'Rimnicu Vilcea': { 'Sibiu': 80, 'Pitesti': 97, 'Craiova': 146 },\n",
        "    'Mehadia': { 'Lugoj': 70, 'Dobreta': 75 },\n",
        "    'Bucharest': { 'Fagaras': 211, 'Pitesti': 101, 'Urziceni': 85, 'Giurglu': 90 },\n",
        "    'Pitesti': { 'Rimnicu Vilcea': 97, 'Bucharest': 101, 'Craiova': 138 },\n",
        "    'Craiova': { 'Rimnicu Vilcea': 146, 'Pitesti': 138, 'Dobreta': 120 },\n",
        "    'Dobreta': { 'Mehadia': 75, 'Craiova': 120 },\n",
        "    'Urziceni': { 'Bucharest': 85, 'Hirsova': 98, 'Vaslui': 142 },\n",
        "    'Giurglu': { 'Bucharest': 90 },\n",
        "    'Hirsova': { 'Urziceni': 98, 'Eforie': 86 },\n",
        "    'Vaslui': { 'Urziceni': 142, 'Lasi': 92 },\n",
        "    'Eforie': { 'Hirsova': 86 },\n",
        "    'Lasi': { 'Vaslui': 92, 'Neamt': 87 },\n",
        "    'Neamt': { 'Lasi': 87 }\n",
        "}"
      ],
      "execution_count": null,
      "outputs": []
    },
    {
      "cell_type": "markdown",
      "metadata": {
        "id": "KceGYJCwMM7I"
      },
      "source": [
        "Write a function, `nearby(city)`, that returns a list containing all the cities within a 300 mile trip of the the given city, assuming you can only travel along the roads given. "
      ]
    },
    {
      "cell_type": "code",
      "metadata": {
        "id": "4SrHDa2ZMM7J"
      },
      "source": [
        ""
      ],
      "execution_count": null,
      "outputs": []
    }
  ]
}