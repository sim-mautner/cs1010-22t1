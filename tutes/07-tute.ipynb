{
  "nbformat": 4,
  "nbformat_minor": 0,
  "metadata": {
    "colab": {
      "name": "07-tute.ipynb",
      "provenance": [],
      "include_colab_link": true
    },
    "kernelspec": {
      "name": "python3",
      "display_name": "Python 3"
    },
    "language_info": {
      "name": "python"
    }
  },
  "cells": [
    {
      "cell_type": "markdown",
      "metadata": {
        "id": "view-in-github",
        "colab_type": "text"
      },
      "source": [
        "<a href=\"https://colab.research.google.com/github/sim-mautner/cs1010-22t1/blob/master/tutes/07-tute.ipynb\" target=\"_parent\"><img src=\"https://colab.research.google.com/assets/colab-badge.svg\" alt=\"Open In Colab\"/></a>"
      ]
    },
    {
      "cell_type": "markdown",
      "metadata": {
        "id": "isdUfdAwJLVt"
      },
      "source": [
        "# Week 7 Tutorial"
      ]
    },
    {
      "cell_type": "markdown",
      "metadata": {
        "id": "vkozy5nUhhD_"
      },
      "source": [
        "## Kahoot\n",
        "\n",
        "Your tutor will run through a Kahoot with you to test how well you remember certain concepts from the past two weeks."
      ]
    },
    {
      "cell_type": "markdown",
      "metadata": {
        "id": "jTwfRcjJNil_"
      },
      "source": [
        "## Cookies\n",
        "\n",
        "### Task\n",
        "\n",
        "Implement a Flask web application of the following game.\n",
        "\n",
        "1. A number between 0 and 3 inclusive is displayed on the screen. The user clicks `Start Game` when they're ready.\n",
        "2. A number between 0 and 3 inclusive is displayed on the screen. The user clicks `Same` if the number displayed is the same as the previous number, or `Not Same` if the number displayed is different from the the previous number.\n",
        "3. Step 2 is repeated infinitely.\n",
        "\n",
        "Cookies are used to keep track of the total number of answers the user has given, as well as how many correct responses the user has given. The user's score is calculated as:\n",
        "```\n",
        "number of correct responses / total number of responses\n",
        "```\n"
      ]
    },
    {
      "cell_type": "markdown",
      "metadata": {
        "id": "C6-79pFuXxgN"
      },
      "source": [
        "## Serialization\n",
        "\n",
        "### Task\n",
        "\n",
        "Add functionality to the code above to:\n",
        "* Assign each user an id or username. It must be unique. Store it in their cookies.\n",
        "* Save the id/username with their score in a json file on the server.\n",
        "* Add a `View Scores` button to all pages of your application. It should allow the user to view their score as well as the scores of everyone else who has played on that server.\n",
        "\n",
        "(Make sure to test your code. These tasks are written in Colab out of habit but your programming will be done in VSCode.)"
      ]
    }
  ]
}