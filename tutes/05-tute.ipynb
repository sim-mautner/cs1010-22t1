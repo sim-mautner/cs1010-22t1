{
  "nbformat": 4,
  "nbformat_minor": 0,
  "metadata": {
    "colab": {
      "name": "05-tute.ipynb",
      "provenance": [],
      "include_colab_link": true
    },
    "kernelspec": {
      "name": "python3",
      "display_name": "Python 3"
    },
    "language_info": {
      "name": "python"
    }
  },
  "cells": [
    {
      "cell_type": "markdown",
      "metadata": {
        "id": "view-in-github",
        "colab_type": "text"
      },
      "source": [
        "<a href=\"https://colab.research.google.com/github/sim-mautner/cs1010-22t1/blob/master/tutes/05-tute.ipynb\" target=\"_parent\"><img src=\"https://colab.research.google.com/assets/colab-badge.svg\" alt=\"Open In Colab\"/></a>"
      ]
    },
    {
      "cell_type": "markdown",
      "metadata": {
        "id": "isdUfdAwJLVt"
      },
      "source": [
        "# Week 5 Tutorial"
      ]
    },
    {
      "cell_type": "markdown",
      "metadata": {
        "id": "vkozy5nUhhD_"
      },
      "source": [
        "## Kahoot\n",
        "\n",
        "Your tutor will run through a Kahoot with you to test how well you remember certain concepts from the past two weeks."
      ]
    },
    {
      "cell_type": "markdown",
      "metadata": {
        "id": "YHwXk6d8rrsk"
      },
      "source": [
        "## Project Ideas\n",
        "\n",
        "Consider this project idea:\n",
        "\n",
        "> The sale of face masks has increased many fold in the past months (for obvious reasons). However, with the wide variety of face shapes and the desire of many to look fashionable, not everyone wants to wear the same face mask. A website where people could upload a picture of themselves and virtually try on different face masks could be helpful to many potential mask shoppers.\n",
        "\n",
        "Supposing someone were to do this for the project:\n",
        "\n",
        "1. What would be a good demonstration of feasibility for the proposal?\n",
        "2. What would the MVP of such a website be?\n",
        "3. What would some \"nice to have\" features be?\n",
        "4. What about stretch goals?"
      ]
    },
    {
      "cell_type": "markdown",
      "metadata": {
        "id": "jTwfRcjJNil_"
      },
      "source": [
        "## Flask"
      ]
    },
    {
      "cell_type": "markdown",
      "source": [
        "### Part A:\n",
        "\n",
        "Turn our code from the [Months of the Year](https://github.com/sim-mautner/cs1010-22t1/blob/master/lectures/03-python-and-programming-fundamentals/03-testing-introduction.ipynb) example into a web application.\n",
        "\n",
        "The user should be presented with a form to fill in. When they enter a number, the website will tell them which month that number represents."
      ],
      "metadata": {
        "id": "6RRmKKsB3Qfl"
      }
    },
    {
      "cell_type": "markdown",
      "source": [
        "\n",
        "### Part B:\n",
        "\n",
        "Discuss (and implement) features which make the website more usable.\n",
        "\n",
        "Consider:\n",
        "* Are the elements of your website in a familiar order?\n",
        "* How easy is it to make a mistake in entering the data?\n",
        "* If the user makes a mistake, how easy is it to understand the mistake they made and recover from it?"
      ],
      "metadata": {
        "id": "ArLz_p-D4Oyf"
      }
    },
    {
      "cell_type": "markdown",
      "source": [
        "\n",
        "### Part C:\n",
        "\n",
        "If there's time, or if you want extra practice, you can also implement the question above for the [Ready to Lecture](https://github.com/sim-mautner/cs1010-22t1/blob/master/lectures/03-python-and-programming-fundamentals/03-testing-introduction.ipynb) example."
      ],
      "metadata": {
        "id": "w9-wnz_u4P_e"
      }
    }
  ]
}