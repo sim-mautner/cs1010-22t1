{
  "nbformat": 4,
  "nbformat_minor": 0,
  "metadata": {
    "colab": {
      "name": "02-control-flow.ipynb",
      "provenance": [],
      "toc_visible": true,
      "authorship_tag": "ABX9TyOcRe3Wnz91QTpmAY2Tn8C3",
      "include_colab_link": true
    },
    "kernelspec": {
      "name": "python3",
      "display_name": "Python 3"
    },
    "language_info": {
      "name": "python"
    }
  },
  "cells": [
    {
      "cell_type": "markdown",
      "metadata": {
        "id": "view-in-github",
        "colab_type": "text"
      },
      "source": [
        "<a href=\"https://colab.research.google.com/github/sim-mautner/cs1010-22t1/blob/master/lectures/03-python-and-programming-fundamentals/02-control-flow.ipynb\" target=\"_parent\"><img src=\"https://colab.research.google.com/assets/colab-badge.svg\" alt=\"Open In Colab\"/></a>"
      ]
    },
    {
      "cell_type": "markdown",
      "metadata": {
        "id": "DZASYuPR5kI3"
      },
      "source": [
        "> Topic 3<br>\n",
        "> Python and Programming Fundamentals<br>\n",
        "> COMP1010 2021 T3<br>\n",
        "> Week 1-3\n",
        "\n",
        "> Topic 3.2<br>\n",
        "> Control Flow"
      ]
    },
    {
      "cell_type": "markdown",
      "metadata": {
        "id": "0368ktSurcTf"
      },
      "source": [
        "# 2.1 - Conditionals"
      ]
    },
    {
      "cell_type": "code",
      "source": [
        "# Booleans\n",
        "\n",
        "var1 = True # <---- boolean variable\n",
        "var2 = \"true\"\n",
        "var3 = \"True\"\n",
        "var4 = False\n",
        "\n",
        "print(type(var1))\n",
        "print(type(var3))\n"
      ],
      "metadata": {
        "id": "CgY0EVnv9S4y",
        "outputId": "7b88c451-c29e-48f1-ca32-e8fc4dd8bb7c",
        "colab": {
          "base_uri": "https://localhost:8080/"
        }
      },
      "execution_count": 2,
      "outputs": [
        {
          "output_type": "stream",
          "name": "stdout",
          "text": [
            "<class 'bool'>\n",
            "<class 'str'>\n"
          ]
        }
      ]
    },
    {
      "cell_type": "markdown",
      "metadata": {
        "id": "o_7e49apRLPS"
      },
      "source": [
        "## if\n",
        "\n",
        "```\n",
        "if condition:\n",
        "  code_to_execute_if_condition_is_true\n",
        "```\n",
        "\n",
        "\n",
        "\n",
        "What happens if the condition is `True`?"
      ]
    },
    {
      "cell_type": "code",
      "metadata": {
        "id": "ujDJWU7hrJTI",
        "outputId": "177ce302-5412-4eda-aeed-8ebd5dd7a604",
        "colab": {
          "base_uri": "https://localhost:8080/"
        }
      },
      "source": [
        "if True:\n",
        "    print(\"It was true.\")"
      ],
      "execution_count": 5,
      "outputs": [
        {
          "output_type": "stream",
          "name": "stdout",
          "text": [
            "It was true.\n"
          ]
        }
      ]
    },
    {
      "cell_type": "markdown",
      "metadata": {
        "id": "Ls5OhTbhr3gN"
      },
      "source": [
        "What happens if the condition is `False`?"
      ]
    },
    {
      "cell_type": "code",
      "metadata": {
        "id": "-3JVINAbr6YR"
      },
      "source": [
        "if False:\n",
        "    print(\"Does this print?\")"
      ],
      "execution_count": 4,
      "outputs": []
    },
    {
      "cell_type": "markdown",
      "metadata": {
        "id": "0rLJlS15s1TQ"
      },
      "source": [
        "Can we have multiple lines of code to execute?"
      ]
    },
    {
      "cell_type": "code",
      "metadata": {
        "id": "5GVhji6AtRmj",
        "outputId": "a4408b6e-738e-4568-b856-8d95f357f5a8",
        "colab": {
          "base_uri": "https://localhost:8080/"
        }
      },
      "source": [
        "if True:\n",
        "    print(\"First line\")\n",
        "    print(\"Second line\")\n",
        "print(\"Unindented line\")"
      ],
      "execution_count": 7,
      "outputs": [
        {
          "output_type": "stream",
          "name": "stdout",
          "text": [
            "First line\n",
            "Second line\n",
            "Unindented line\n"
          ]
        }
      ]
    },
    {
      "cell_type": "markdown",
      "metadata": {
        "id": "qSDrVBLHr8tU"
      },
      "source": [
        "Does the indentation matter?"
      ]
    },
    {
      "cell_type": "code",
      "metadata": {
        "id": "x6kpZjREtRW-",
        "outputId": "79bf23db-d5e2-407d-f803-43ae0888312c",
        "colab": {
          "base_uri": "https://localhost:8080/"
        }
      },
      "source": [
        "if False:\n",
        "    print(\"First line\")\n",
        "    print(\"Second line\")\n",
        "print(\"Unindented line\")"
      ],
      "execution_count": 8,
      "outputs": [
        {
          "output_type": "stream",
          "name": "stdout",
          "text": [
            "Unindented line\n"
          ]
        }
      ]
    },
    {
      "cell_type": "markdown",
      "metadata": {
        "id": "693LDbk6uCQY"
      },
      "source": [
        "## Testing Variables and Creating Conditions"
      ]
    },
    {
      "cell_type": "markdown",
      "metadata": {
        "id": "nt-AoOUruhyK"
      },
      "source": [
        "Can we create a variable with a boolean to test?\n",
        "\n",
        "* `not`"
      ]
    },
    {
      "cell_type": "code",
      "metadata": {
        "colab": {
          "base_uri": "https://localhost:8080/"
        },
        "id": "TTS8JF7uuoZp",
        "outputId": "254b4d10-4cfd-444c-f297-123afd865ac1"
      },
      "source": [
        "password_correct = True\n",
        "if password_correct:\n",
        "    print(\"Welcome!\")"
      ],
      "execution_count": 9,
      "outputs": [
        {
          "output_type": "stream",
          "name": "stdout",
          "text": [
            "Welcome!\n"
          ]
        }
      ]
    },
    {
      "cell_type": "code",
      "source": [
        "#password_correct = False <-- great approach\n",
        "password_correct = not True # <-- also works\n",
        "if not password_correct:\n",
        "    print(\"Go away. Stop trying to get into my computer.\")"
      ],
      "metadata": {
        "id": "G7E-wrdU-0fA",
        "outputId": "af17cfea-684e-440d-e147-9db8ea916feb",
        "colab": {
          "base_uri": "https://localhost:8080/"
        }
      },
      "execution_count": 14,
      "outputs": [
        {
          "output_type": "stream",
          "name": "stdout",
          "text": [
            "Go away. Stop trying to get into my computer.\n"
          ]
        }
      ]
    },
    {
      "cell_type": "markdown",
      "metadata": {
        "id": "A-DTcDRpuoqG"
      },
      "source": [
        "Can we create an integer to test?\n",
        "\n",
        "* ==\n",
        "* !=\n",
        "* \\>\n",
        "* <\n",
        "* <=\n",
        "* \\>="
      ]
    },
    {
      "cell_type": "code",
      "metadata": {
        "id": "Kci8FX_juhX9",
        "outputId": "e2f24c1d-f392-4503-f980-fce32d10790d",
        "colab": {
          "base_uri": "https://localhost:8080/"
        }
      },
      "source": [
        "my_age = 72\n",
        "if my_age > 70:\n",
        "    print(\"You are entitled to the senior's concession.\")"
      ],
      "execution_count": 15,
      "outputs": [
        {
          "output_type": "stream",
          "name": "stdout",
          "text": [
            "You are entitled to the senior's concession.\n"
          ]
        }
      ]
    },
    {
      "cell_type": "code",
      "source": [
        "if 5 == 5:\n",
        "    print(\"Why this example?\")"
      ],
      "metadata": {
        "id": "f5Jx-xIB__t3",
        "outputId": "2c5d8af3-682b-4d43-d49c-4ed17caf0365",
        "colab": {
          "base_uri": "https://localhost:8080/"
        }
      },
      "execution_count": 16,
      "outputs": [
        {
          "output_type": "stream",
          "name": "stdout",
          "text": [
            "Why this example?\n"
          ]
        }
      ]
    },
    {
      "cell_type": "code",
      "source": [
        "age = 10\n",
        "if age = 5:\n",
        "    print(\"This is why.\")"
      ],
      "metadata": {
        "id": "KqsodIdpAGrR",
        "outputId": "72d10061-a6ed-4df7-8b96-5c669edfce48",
        "colab": {
          "base_uri": "https://localhost:8080/",
          "height": 132
        }
      },
      "execution_count": 18,
      "outputs": [
        {
          "output_type": "error",
          "ename": "SyntaxError",
          "evalue": "ignored",
          "traceback": [
            "\u001b[0;36m  File \u001b[0;32m\"<ipython-input-18-d953446d97e0>\"\u001b[0;36m, line \u001b[0;32m2\u001b[0m\n\u001b[0;31m    if age = 5:\u001b[0m\n\u001b[0m           ^\u001b[0m\n\u001b[0;31mSyntaxError\u001b[0m\u001b[0;31m:\u001b[0m invalid syntax\n"
          ]
        }
      ]
    },
    {
      "cell_type": "code",
      "source": [
        "if 5 != 10:\n",
        "    print(\"Now you have seen != for not equal to.\")"
      ],
      "metadata": {
        "id": "LrOUS1pbAcNQ",
        "outputId": "6f7ee7c2-79fe-4cce-cdfc-f3851a2b599e",
        "colab": {
          "base_uri": "https://localhost:8080/"
        }
      },
      "execution_count": 19,
      "outputs": [
        {
          "output_type": "stream",
          "name": "stdout",
          "text": [
            "Now you have seen != for not equal to.\n"
          ]
        }
      ]
    },
    {
      "cell_type": "code",
      "source": [
        "if not 5 == 10:\n",
        "    print(\"This works too.\")"
      ],
      "metadata": {
        "id": "oBZQaPGgAgvw",
        "outputId": "0ce32db4-ca2c-422d-be1f-82bc4cfa55e9",
        "colab": {
          "base_uri": "https://localhost:8080/"
        }
      },
      "execution_count": 20,
      "outputs": [
        {
          "output_type": "stream",
          "name": "stdout",
          "text": [
            "This works too.\n"
          ]
        }
      ]
    },
    {
      "cell_type": "markdown",
      "source": [
        "To assign: age = 5. \"Let age equal 5.\"\n",
        "To ask: age == 5. \"Is age equal to 5?\""
      ],
      "metadata": {
        "id": "OQzZPC0-AOii"
      }
    },
    {
      "cell_type": "markdown",
      "metadata": {
        "id": "hh8PwWRmwLYH"
      },
      "source": [
        "Can we create a string to test?\n",
        "\n",
        "* ==\n",
        "* !="
      ]
    },
    {
      "cell_type": "code",
      "metadata": {
        "id": "bzgFtvsWwN4H"
      },
      "source": [
        "username = \"Will\"\n",
        "if username == \"Sim\":\n",
        "    print(\"Welcome!\")\n"
      ],
      "execution_count": 22,
      "outputs": []
    },
    {
      "cell_type": "markdown",
      "metadata": {
        "id": "vL6uZVZjwt6d"
      },
      "source": [
        "What happens if we use > and < on strings?"
      ]
    },
    {
      "cell_type": "code",
      "metadata": {
        "id": "IO7URFOJww7b",
        "outputId": "736ffaf8-269d-4e52-c636-2cb5e163716e",
        "colab": {
          "base_uri": "https://localhost:8080/"
        }
      },
      "source": [
        "print(\"Will\" > \"Sim\")"
      ],
      "execution_count": 23,
      "outputs": [
        {
          "output_type": "stream",
          "name": "stdout",
          "text": [
            "True\n"
          ]
        }
      ]
    },
    {
      "cell_type": "code",
      "source": [
        "print(\"Sim\" > \"Will\")"
      ],
      "metadata": {
        "id": "6VgUXkJsAzfA",
        "outputId": "450578d6-587f-4cab-912e-bc9e970a98a9",
        "colab": {
          "base_uri": "https://localhost:8080/"
        }
      },
      "execution_count": 26,
      "outputs": [
        {
          "output_type": "stream",
          "name": "stdout",
          "text": [
            "True\n"
          ]
        }
      ]
    },
    {
      "cell_type": "code",
      "source": [
        "print(\"Sim\" > \"Kai\")"
      ],
      "metadata": {
        "id": "tP0CfMp0A7Mg",
        "outputId": "1f8e40a6-1ff5-416b-bece-c01290a509f8",
        "colab": {
          "base_uri": "https://localhost:8080/"
        }
      },
      "execution_count": 25,
      "outputs": [
        {
          "output_type": "stream",
          "name": "stdout",
          "text": [
            "True\n"
          ]
        }
      ]
    },
    {
      "cell_type": "code",
      "source": [
        "print(\"sim\" > \"Will\")"
      ],
      "metadata": {
        "id": "kzMPAxE8BBCJ",
        "outputId": "08162906-52ce-42d9-ca66-b6f4aeee4314",
        "colab": {
          "base_uri": "https://localhost:8080/"
        }
      },
      "execution_count": 27,
      "outputs": [
        {
          "output_type": "stream",
          "name": "stdout",
          "text": [
            "True\n"
          ]
        }
      ]
    },
    {
      "cell_type": "markdown",
      "source": [
        "For more information about the value of characters: https://www.alpharithms.com/ascii-table-512119/"
      ],
      "metadata": {
        "id": "5IxUIGylBY5O"
      }
    },
    {
      "cell_type": "code",
      "source": [
        "print(\"sim\" > \"simm\")"
      ],
      "metadata": {
        "id": "HaI0m4YFBcv-",
        "outputId": "c34458a4-b124-4005-ae35-e8e1e8398498",
        "colab": {
          "base_uri": "https://localhost:8080/"
        }
      },
      "execution_count": 28,
      "outputs": [
        {
          "output_type": "stream",
          "name": "stdout",
          "text": [
            "False\n"
          ]
        }
      ]
    },
    {
      "cell_type": "markdown",
      "metadata": {
        "id": "MK7ri_tSt05T"
      },
      "source": [
        "## else\n",
        "\n",
        "```\n",
        "if condition:\n",
        "  code_if_true\n",
        "else:\n",
        "  code_if_false\n",
        "```\n",
        "\n"
      ]
    },
    {
      "cell_type": "markdown",
      "metadata": {
        "id": "Dty2p3QOyP7V"
      },
      "source": [
        "## elif\n",
        "\n",
        "```\n",
        "if condition:\n",
        "  code_if_true\n",
        "elif condition_2:\n",
        "  code_if_condition1_false_and_condition2_true \n",
        "else:\n",
        "  code_if_false\n",
        "```\n",
        "\n",
        "* You must have exactly one `if`.\n",
        "* You may have 0 or more (as many as you'd like) `elif`.\n",
        "* You may have 0 or 1 `else`.\n",
        "* The order matters. Both for `if`, `elif`, `else` and for the order of the `elif`s."
      ]
    },
    {
      "cell_type": "code",
      "source": [
        "a = 80\n",
        "\n",
        "if a > 100:\n",
        "    print(\"greater than 100\")\n",
        "elif a > 50:\n",
        "    print(\"greater than 50\")\n",
        "elif a > 75:\n",
        "    print(\"greater than 75\")"
      ],
      "metadata": {
        "colab": {
          "base_uri": "https://localhost:8080/"
        },
        "id": "HUH6fb44C3uU",
        "outputId": "cc68bc0e-73fa-430c-cee9-12d6f11a8088"
      },
      "execution_count": 29,
      "outputs": [
        {
          "output_type": "stream",
          "name": "stdout",
          "text": [
            "greater than 50\n"
          ]
        }
      ]
    },
    {
      "cell_type": "code",
      "source": [
        "a = 80\n",
        "\n",
        "if a > 100:\n",
        "    print(\"greater than 100\")\n",
        "elif a > 75:\n",
        "    print(\"greater than 75\")\n",
        "elif a > 50:\n",
        "    print(\"greater than 50\")"
      ],
      "metadata": {
        "outputId": "cfc9f5b7-5fa8-4b27-d8e8-eaf5bfaf74ec",
        "colab": {
          "base_uri": "https://localhost:8080/"
        },
        "id": "vKJf8uMEDN8j"
      },
      "execution_count": 30,
      "outputs": [
        {
          "output_type": "stream",
          "name": "stdout",
          "text": [
            "greater than 75\n"
          ]
        }
      ]
    },
    {
      "cell_type": "markdown",
      "metadata": {
        "id": "335MMrGxBpup"
      },
      "source": [
        "<a name='eg_ready_to_lecture_cell'></a>\n",
        "## Example: Getting Ready to Lecture Online\n",
        "\n",
        "Lecturing from home means that I have my bed in the background of my webcam. This means that each day, before I lecture, I prefer to make my bed.\n",
        "\n",
        "(a) Write some code which:\n",
        "1. Declares a boolean `bed_made` to be `True` or `False`.\n",
        "2. Depending on the value of `bed_made`, display \"Go make your bed.\" or \"Ready to lecture.\""
      ]
    },
    {
      "cell_type": "code",
      "metadata": {
        "id": "2kooY55xCCv4",
        "outputId": "ca567332-e41d-405a-89f3-4425a273025c",
        "colab": {
          "base_uri": "https://localhost:8080/"
        }
      },
      "source": [
        "bed_made = False\n",
        "if bed_made:\n",
        "    print(\"Ready to lecture.\")\n",
        "if not bed_made:\n",
        "    print(\"Go make your bed.\")"
      ],
      "execution_count": 33,
      "outputs": [
        {
          "output_type": "stream",
          "name": "stdout",
          "text": [
            "Go make your bed.\n"
          ]
        }
      ]
    },
    {
      "cell_type": "code",
      "source": [
        "bed_made = False\n",
        "if bed_made:\n",
        "    print(\"Ready to lecture.\")\n",
        "elif not bed_made:\n",
        "    print(\"Go make your bed.\")"
      ],
      "metadata": {
        "id": "RoCqmEfWD66t",
        "outputId": "ce6e27a6-63dc-4f37-b386-568ee03ca85a",
        "colab": {
          "base_uri": "https://localhost:8080/"
        }
      },
      "execution_count": 34,
      "outputs": [
        {
          "output_type": "stream",
          "name": "stdout",
          "text": [
            "Go make your bed.\n"
          ]
        }
      ]
    },
    {
      "cell_type": "code",
      "source": [
        "bed_made = True\n",
        "if bed_made:\n",
        "    print(\"Ready to lecture.\")\n",
        "else:\n",
        "    print(\"Go make your bed.\")"
      ],
      "metadata": {
        "id": "N55pfRGxD9QN",
        "outputId": "5e7bf0df-be3d-4326-96fe-844c4611de97",
        "colab": {
          "base_uri": "https://localhost:8080/"
        }
      },
      "execution_count": 36,
      "outputs": [
        {
          "output_type": "stream",
          "name": "stdout",
          "text": [
            "Ready to lecture.\n"
          ]
        }
      ]
    },
    {
      "cell_type": "markdown",
      "metadata": {
        "id": "-7TjfhgZCDD5"
      },
      "source": [
        "(Continuing from previous question...)\n",
        "\n",
        "(b) Some days, I'm running late and I don't have time to make my bed, and end up giving lectures even if my bed is still unmade.\n",
        "\n",
        "Copy the code from the previous question and:\n",
        "1. Add a boolean `on_time` to be `True` or `False`.\n",
        "2. Depending on the values of `bed_made` and `on_time` display \"Go make your bed.\", \"Ready to lecture.\" or \"No time to make your bed. Go lecture anyway.\""
      ]
    },
    {
      "cell_type": "code",
      "metadata": {
        "id": "sI6nSImnCh9I",
        "outputId": "b7fa9bcf-30e9-4e00-9004-5a6395426e02",
        "colab": {
          "base_uri": "https://localhost:8080/"
        }
      },
      "source": [
        "bed_made = True\n",
        "on_time = False\n",
        "if bed_made:\n",
        "    print(\"Ready to lecture.\")\n",
        "if not bed_made and on_time:\n",
        "    print(\"Go make your bed.\")\n",
        "if not bed_made and not on_time:\n",
        "    print(\"No time to make your bed. Go lecture anyway.\")"
      ],
      "execution_count": 39,
      "outputs": [
        {
          "output_type": "stream",
          "name": "stdout",
          "text": [
            "Ready to lecture.\n"
          ]
        }
      ]
    },
    {
      "cell_type": "code",
      "source": [
        "bed_made = False\n",
        "on_time = False\n",
        "if bed_made:\n",
        "    print(\"Ready to lecture.\")\n",
        "elif on_time:\n",
        "    # bed not made, we are on time\n",
        "    print(\"Go make your bed.\")\n",
        "else:\n",
        "    print(\"No time to make your bed. Go lecture anyway.\")"
      ],
      "metadata": {
        "id": "gJceSpWuEf3n"
      },
      "execution_count": null,
      "outputs": []
    },
    {
      "cell_type": "code",
      "source": [
        "bed_made = False\n",
        "on_time = False\n",
        "if bed_made:\n",
        "    print(\"Ready to lecture.\")\n",
        "elif on_time:\n",
        "    # bed not made, we are on time\n",
        "    print(\"Go make your bed.\")\n",
        "if not bed_made and not on_time:\n",
        "    print(\"No time to make your bed. Go lecture anyway.\")"
      ],
      "metadata": {
        "id": "90ZGEJSxEx59"
      },
      "execution_count": null,
      "outputs": []
    },
    {
      "cell_type": "code",
      "source": [
        "bed_made = False\n",
        "on_time = True\n",
        "if on_time:\n",
        "    if not bed_made:\n",
        "        print(\"Go make your bed.\")\n",
        "    else:\n",
        "        print(\"Ready to lecture.\")\n",
        "else:\n",
        "    if bed_made:\n",
        "        print(\"Ready to lecture.\")\n",
        "    if not bed_made:\n",
        "        print(\"No time to make your bed. Go lecture anyway.\")"
      ],
      "metadata": {
        "id": "MLvUBN8SE672",
        "outputId": "c14c87c1-244e-4f71-b377-3e76602fd390",
        "colab": {
          "base_uri": "https://localhost:8080/"
        }
      },
      "execution_count": 43,
      "outputs": [
        {
          "output_type": "stream",
          "name": "stdout",
          "text": [
            "Go make your bed.\n"
          ]
        }
      ]
    },
    {
      "cell_type": "markdown",
      "metadata": {
        "id": "bvqyuwoDCiU5"
      },
      "source": [
        "(c) Can you implement the above code in a different way? (Enter at least 4 different ways of implementing the code.)\n",
        "\n"
      ]
    },
    {
      "cell_type": "code",
      "metadata": {
        "id": "3EUy369TClD4"
      },
      "source": [
        "# See above."
      ],
      "execution_count": null,
      "outputs": []
    },
    {
      "cell_type": "markdown",
      "metadata": {
        "id": "BnwzKHfrEXIh"
      },
      "source": [
        "**A note about plagiarism in writing computer programs.**"
      ]
    },
    {
      "cell_type": "markdown",
      "metadata": {
        "id": "QTO1tK_dCzWE"
      },
      "source": [
        "(d) Implement the above code, but take into consideration that I also like to have a water bottle on my desk before I start lecturing.\n",
        "\n",
        "The outputs are now:\n",
        "* No time to get ready. Start lecturing now.\n",
        "* Ready to lecture.\n",
        "* Get your water bottle.\n",
        "* Go make your bed."
      ]
    },
    {
      "cell_type": "code",
      "metadata": {
        "id": "bdpdieZYrAIz"
      },
      "source": [
        "See: https://hackmd.io/H9f1WI7aS1uiVm4MwF-fkw"
      ],
      "execution_count": null,
      "outputs": []
    },
    {
      "cell_type": "code",
      "source": [
        "# Some Notes\n",
        "\n",
        "some_condition = False\n",
        "\n",
        "if some_condition:\n",
        "    print(\"Hi\")\n",
        "\n",
        "# is the same as\n",
        "\n",
        "if some_condition == True:\n",
        "    print(\"Hi\")\n",
        "\n",
        "# And these sections of code are the same, regardless of if we set some_condition\n",
        "# to be equal to True or False at the beginning of the program."
      ],
      "metadata": {
        "id": "TxaycegDI6W1"
      },
      "execution_count": null,
      "outputs": []
    },
    {
      "cell_type": "markdown",
      "metadata": {
        "id": "Dq6fWE4oY9_P"
      },
      "source": [
        "# 2.2 - User Text Input\n",
        "\n",
        "* Get input from the user:\n",
        "`input()`\n",
        "* Put a prompt telling the user what they should be entering:\n",
        "`input(prompt)`\n",
        "* Save what the user inputs:\n",
        "`variable = input()`"
      ]
    },
    {
      "cell_type": "code",
      "metadata": {
        "id": "z-8NF2xdZCub"
      },
      "source": [
        ""
      ],
      "execution_count": null,
      "outputs": []
    },
    {
      "cell_type": "code",
      "metadata": {
        "id": "EAwF-3-DAaQo"
      },
      "source": [
        ""
      ],
      "execution_count": null,
      "outputs": []
    },
    {
      "cell_type": "markdown",
      "metadata": {
        "id": "fvKZYreWZcrQ"
      },
      "source": [
        "Write some code which asks the user for their name. If they enter \"Sim\", then say \"Hello Sim\". If they enter any other name, say \"Goodbye\"."
      ]
    },
    {
      "cell_type": "code",
      "metadata": {
        "id": "50fqNw9xBBGI"
      },
      "source": [
        ""
      ],
      "execution_count": null,
      "outputs": []
    },
    {
      "cell_type": "markdown",
      "metadata": {
        "id": "mBrpzl21BBZ_"
      },
      "source": [
        "Write some code which asks the user for their name. If they enter one word (no spaces) display \"Hello \\<name\\>\". If they enter more than one word, display \"Goodbye\"."
      ]
    },
    {
      "cell_type": "code",
      "metadata": {
        "id": "I1aiz-OUBQqO"
      },
      "source": [
        ""
      ],
      "execution_count": null,
      "outputs": []
    },
    {
      "cell_type": "markdown",
      "metadata": {
        "id": "Gle9bA2XwlK-"
      },
      "source": [
        "<a name='eg_password_evaluator_cell'></a>\n",
        "Example: Password Evaluator\n",
        "\n",
        "Write some code which asks the user to suggest a password, and then displays:\n",
        "* \"Strong\" if the password is 12 or more characters, and contains both upper and lower case characters\n",
        "* \"Weak\" if the password satisfies only one of the above conditions\n",
        "* \"Very weak\" if the password satisfies neither of the above conditions."
      ]
    },
    {
      "cell_type": "code",
      "metadata": {
        "id": "59M-Wcf1wrVJ"
      },
      "source": [
        ""
      ],
      "execution_count": null,
      "outputs": []
    },
    {
      "cell_type": "markdown",
      "metadata": {
        "id": "YkNbABqZcwVC"
      },
      "source": [
        "# 2.3 - Loops"
      ]
    },
    {
      "cell_type": "markdown",
      "metadata": {
        "id": "-4TeqaL8CRM9"
      },
      "source": [
        "## While Loops\n",
        "\n",
        "```\n",
        "while condition:\n",
        "  code_to_execute_while_condition_is_true\n",
        "```\n",
        "\n",
        "Following on from the [password evaluator](#eg_password_evaluator_cell) example, what happens if the user enters a password which doesn't satisfy the requirements? Can we ask them to keep entering passwords until they choose a \"strong\" password?"
      ]
    },
    {
      "cell_type": "code",
      "metadata": {
        "id": "GEpm1mgveFOJ"
      },
      "source": [
        ""
      ],
      "execution_count": null,
      "outputs": []
    },
    {
      "cell_type": "markdown",
      "metadata": {
        "id": "qK27eu5W59Xl"
      },
      "source": [
        "Is there a better way to do this?\n",
        "\n",
        "In short, we want to keep doing the same thing over and over again, until a condition is met.\n",
        "\n",
        "> Demo:\n",
        "> * Control flow in loops in general\n",
        "> * Control flow in this example\n",
        "\n"
      ]
    },
    {
      "cell_type": "code",
      "metadata": {
        "id": "WN_9P0QF6G3T"
      },
      "source": [
        ""
      ],
      "execution_count": null,
      "outputs": []
    },
    {
      "cell_type": "markdown",
      "metadata": {
        "id": "4KXXnG4tfj35"
      },
      "source": [
        "<a name='eg_square_numbers_cell'></a>\n",
        "### Example: Square Numbers\n",
        "\n",
        "> Demo:\n",
        "> * What are square numbers? How do we calculate them?\n",
        "> * How do we write this code?\n",
        "\n",
        "Write some code which takes in a number from the user, and prints out the numbers from 1 up to that number, and the squares of those numbers.\n",
        "\n",
        "```\n",
        "Enter a number: 5\n",
        "\n",
        "1 1\n",
        "2 4\n",
        "3 9\n",
        "4 16\n",
        "```"
      ]
    },
    {
      "cell_type": "code",
      "metadata": {
        "id": "rWytniVuDNXz"
      },
      "source": [
        ""
      ],
      "execution_count": null,
      "outputs": []
    },
    {
      "cell_type": "markdown",
      "metadata": {
        "id": "MZ9ug9b_DNs3"
      },
      "source": [
        "<a name='eg_triangular_numbers_cell'></a>\n",
        "### Example: Triangular Numbers\n",
        "\n",
        "> Demo:\n",
        "> * What are triangular numbers? How do we calculate them? (This is more of an aside.)\n",
        "> * How do we write this code?\n",
        "\n",
        "Write some code which takes in a number from the user, and prints out the sum of the numbers from 1 up to and including that number. (ie 3 --> 1+2+3 = 6)\n",
        "\n",
        "```\n",
        "Enter a number: 3\n",
        "\n",
        "6\n",
        "```"
      ]
    },
    {
      "cell_type": "code",
      "metadata": {
        "id": "xc7A6Pp9JApm"
      },
      "source": [
        ""
      ],
      "execution_count": null,
      "outputs": []
    },
    {
      "cell_type": "markdown",
      "metadata": {
        "id": "32MS8qvuDklj"
      },
      "source": [
        "## For Loops\n",
        "\n",
        "```\n",
        "for ... in ...:\n",
        "  code_to_execute_on_each_value\n",
        "```"
      ]
    },
    {
      "cell_type": "markdown",
      "metadata": {
        "id": "o2g7udMkDpMd"
      },
      "source": [
        "Redo the [square numbers](#eg_square_numbers_cell) example and the [triangular numbers](#eg_triangular_numbers_cell) example using for loops instead of while loops."
      ]
    },
    {
      "cell_type": "code",
      "metadata": {
        "id": "LxAjyoYFDv3z"
      },
      "source": [
        ""
      ],
      "execution_count": null,
      "outputs": []
    },
    {
      "cell_type": "code",
      "metadata": {
        "id": "H2AVVV3ZDwKE"
      },
      "source": [
        ""
      ],
      "execution_count": null,
      "outputs": []
    },
    {
      "cell_type": "markdown",
      "metadata": {
        "id": "obYBHYlwN0nl"
      },
      "source": [
        "### Example: Strings - one letter at a time.\n",
        "\n",
        "Write some code which prints out the letters of a string one at a time."
      ]
    },
    {
      "cell_type": "code",
      "metadata": {
        "id": "ftJ3bHMyOLk-"
      },
      "source": [
        "# Using a counter to access individual elements (while loop or for loop)"
      ],
      "execution_count": null,
      "outputs": []
    },
    {
      "cell_type": "code",
      "metadata": {
        "id": "jq4lduglOOQt"
      },
      "source": [
        "# Using the features of a string as an iterator (for loop)"
      ],
      "execution_count": null,
      "outputs": []
    },
    {
      "cell_type": "markdown",
      "metadata": {
        "id": "HPEBS58xnYI4"
      },
      "source": [
        "### Obfuscation\n",
        "Is there another way to solve this problem?\n",
        "\n",
        "> Oh no, somaona hes dona somathing tarribla to my writing. Thay'va sweppad eround tha lattar 'e' end tha lattar 'a'"
      ]
    },
    {
      "cell_type": "markdown",
      "metadata": {
        "id": "Dsm5N-CGLh7S"
      },
      "source": [
        "# 2.4 - Bringing it all together\n",
        "\n",
        "Example: Guess my number\n",
        "\n",
        "Write a program (piece of python code) which:\n",
        "1. Asks the user to choose a number between 1 and 100 (but not enter it).\n",
        "2. The program then guesses the user's number, and asks if the user's number is higher or lower than their guess.\n",
        "3. The user then enters `H` for higher, `L` for lower or `C` for correct, depending on whether or not the program has guessed their number.\n",
        "4. The program keeps repeating steps 2 and 3 until it manages to guess the number."
      ]
    },
    {
      "cell_type": "code",
      "metadata": {
        "id": "uXw-qkGuRAdp"
      },
      "source": [
        ""
      ],
      "execution_count": null,
      "outputs": []
    },
    {
      "cell_type": "markdown",
      "metadata": {
        "id": "k9cMFgGkuuDK"
      },
      "source": [
        "# 2.5 - Functions"
      ]
    },
    {
      "cell_type": "markdown",
      "metadata": {
        "id": "6_6ffqy8OolO"
      },
      "source": [
        "Purposes of functions:\n",
        "\n",
        "* Re-use code (\"Every line of code you don't write is bug free.\")\n",
        "* Testing\n",
        "* Abstraction / readability\n",
        "* Re-use code with different parameters\n",
        "\n",
        "(Point 1 and point 4 are different as it's often useful to use functions to not repeat ourselves even if (especially when?) the code is identical and doesn't require parameters to adapt it.)\n",
        "\n"
      ]
    },
    {
      "cell_type": "markdown",
      "metadata": {
        "id": "MZIdfUIcgHcs"
      },
      "source": [
        "Do you remember this box?\n",
        "\n",
        "Can we create a string with this box in it?\n",
        "\n",
        "```\n",
        "+-----+\n",
        "|     |\n",
        "|     |\n",
        "|     |\n",
        "+-----+\n",
        "```"
      ]
    },
    {
      "cell_type": "code",
      "metadata": {
        "id": "-CsBtFSHgWXm"
      },
      "source": [
        ""
      ],
      "execution_count": null,
      "outputs": []
    },
    {
      "cell_type": "markdown",
      "metadata": {
        "id": "Hci2yRlggWua"
      },
      "source": [
        "Can we create this box too?\n",
        "\n",
        "```\n",
        "+----------+\n",
        "|          |\n",
        "|          |\n",
        "|          |\n",
        "+----------+\n",
        "```"
      ]
    },
    {
      "cell_type": "code",
      "metadata": {
        "id": "GwxjSEeygg4m"
      },
      "source": [
        ""
      ],
      "execution_count": null,
      "outputs": []
    },
    {
      "cell_type": "markdown",
      "metadata": {
        "id": "MEPnCq72ghPn"
      },
      "source": [
        "And this one too?\n",
        "\n",
        "```\n",
        "+----------+\n",
        "|          |\n",
        "+----------+\n",
        "```"
      ]
    },
    {
      "cell_type": "markdown",
      "metadata": {
        "id": "xyPLKx0JgqcX"
      },
      "source": [
        "By looking at what the code in each situation has in common, we can write a function which will work for any size box."
      ]
    },
    {
      "cell_type": "code",
      "metadata": {
        "id": "2-5_gU7zgxW4"
      },
      "source": [
        ""
      ],
      "execution_count": null,
      "outputs": []
    },
    {
      "cell_type": "markdown",
      "metadata": {
        "id": "ODCWq1Ydhhha"
      },
      "source": [
        "## Returning values from functions"
      ]
    },
    {
      "cell_type": "markdown",
      "metadata": {
        "id": "AQ9aOqsThOKE"
      },
      "source": [
        "Write a function `my_len()` which takes in a string as a parameter and returns the length of the string. (You can do this using the `len()` function, but the exercise is to do it without it.)"
      ]
    },
    {
      "cell_type": "code",
      "metadata": {
        "id": "x5ZGVZ1chPok"
      },
      "source": [
        ""
      ],
      "execution_count": null,
      "outputs": []
    },
    {
      "cell_type": "markdown",
      "metadata": {
        "id": "m0tGIH5uhP6B"
      },
      "source": [
        "Write your own function `my_count()` which takes in a string and a character and returns the number of times that character occurs in that string."
      ]
    },
    {
      "cell_type": "code",
      "metadata": {
        "id": "qEUo2lyIh7-l"
      },
      "source": [
        ""
      ],
      "execution_count": null,
      "outputs": []
    },
    {
      "cell_type": "markdown",
      "metadata": {
        "id": "8OTO2hrWSFOl"
      },
      "source": [
        "## Functions for Readability\n",
        "\n",
        "Re-write our code from the [Password Evaluator](#eg_password_evaluator_cell) question to use functions to make the code more readable."
      ]
    },
    {
      "cell_type": "code",
      "metadata": {
        "id": "9PDD_lHbSWoJ"
      },
      "source": [
        ""
      ],
      "execution_count": null,
      "outputs": []
    },
    {
      "cell_type": "markdown",
      "source": [
        "# 2.6 Fun Stuff with Conditionals, Loops, and Strings"
      ],
      "metadata": {
        "id": "azQTBldYWzlj"
      }
    },
    {
      "cell_type": "markdown",
      "source": [
        "## `split`"
      ],
      "metadata": {
        "id": "gwb9z17GXuBL"
      }
    },
    {
      "cell_type": "markdown",
      "source": [
        "## `join`"
      ],
      "metadata": {
        "id": "yjX-Z_jyXwwa"
      }
    },
    {
      "cell_type": "markdown",
      "source": [
        "## `in`"
      ],
      "metadata": {
        "id": "M04pwaQPXyOa"
      }
    },
    {
      "cell_type": "markdown",
      "source": [
        "## `string.punctuation`"
      ],
      "metadata": {
        "id": "53SgexLAX0zC"
      }
    },
    {
      "cell_type": "markdown",
      "source": [
        "Improve your Password Evaluator to check your password has at least one punctuation character in it."
      ],
      "metadata": {
        "id": "Uy9K7IIlYLIj"
      }
    },
    {
      "cell_type": "markdown",
      "metadata": {
        "id": "gHLgpeGq50Yg"
      },
      "source": [
        "# Feedback (Topic 3.2)\n",
        "\n",
        "[https://forms.gle/Uod5Jpr7AJ2z7cHLA](https://forms.gle/Uod5Jpr7AJ2z7cHLA)\n",
        "\n",
        "![](https://i.imgur.com/0L50D4L.png)"
      ]
    }
  ]
}