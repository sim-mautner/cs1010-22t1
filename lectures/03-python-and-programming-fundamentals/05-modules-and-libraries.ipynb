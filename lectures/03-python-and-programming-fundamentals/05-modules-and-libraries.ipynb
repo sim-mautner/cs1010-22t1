{
  "nbformat": 4,
  "nbformat_minor": 0,
  "metadata": {
    "colab": {
      "name": "05-modules-and-libraries.ipynb",
      "provenance": [],
      "authorship_tag": "ABX9TyOy073T28fy8R1vU+z84eo0",
      "include_colab_link": true
    },
    "kernelspec": {
      "name": "python3",
      "display_name": "Python 3"
    },
    "language_info": {
      "name": "python"
    }
  },
  "cells": [
    {
      "cell_type": "markdown",
      "metadata": {
        "id": "view-in-github",
        "colab_type": "text"
      },
      "source": [
        "<a href=\"https://colab.research.google.com/github/sim-mautner/cs1010-22t1/blob/master/lectures/03-python-and-programming-fundamentals/05-modules-and-libraries.ipynb\" target=\"_parent\"><img src=\"https://colab.research.google.com/assets/colab-badge.svg\" alt=\"Open In Colab\"/></a>"
      ]
    },
    {
      "cell_type": "markdown",
      "metadata": {
        "id": "DZASYuPR5kI3"
      },
      "source": [
        "> Topic 3<br>\n",
        "> Python and Programming Fundamentals<br>\n",
        "> COMP1010 2021 T3<br>\n",
        "> Week 1-3\n",
        "\n",
        "> Topic 3.5<br>\n",
        "> Modules and Libraries"
      ]
    },
    {
      "cell_type": "markdown",
      "metadata": {
        "id": "l3wd6RG-8oXI"
      },
      "source": [
        "# Modules and Libraries\n"
      ]
    },
    {
      "cell_type": "markdown",
      "metadata": {
        "id": "2HccA5Zg8zEb"
      },
      "source": [
        "\n",
        "Why do we have them?\n",
        "\n",
        "Where can I find more? [PyPI - Python Package Index](https://pypi.org/)"
      ]
    },
    {
      "cell_type": "markdown",
      "metadata": {
        "id": "axgGxbd35JVg"
      },
      "source": [
        "## 1 - Datetime"
      ]
    },
    {
      "cell_type": "markdown",
      "metadata": {
        "id": "tyJrTtUKLgTa"
      },
      "source": [
        "This section also includes a lot of subtleties about passing parameters into functions."
      ]
    },
    {
      "cell_type": "markdown",
      "metadata": {
        "id": "1HQ9OmH8BxVO"
      },
      "source": [
        "Can we get the current datetime?\n"
      ]
    },
    {
      "cell_type": "code",
      "metadata": {
        "id": "vEXQz60eDuGg",
        "outputId": "07396be8-6ecc-4cb7-9bef-3c046559638d",
        "colab": {
          "base_uri": "https://localhost:8080/"
        }
      },
      "source": [
        "import datetime\n",
        "\n",
        "today = datetime.datetime.now()\n",
        "print(today)"
      ],
      "execution_count": 1,
      "outputs": [
        {
          "output_type": "stream",
          "name": "stdout",
          "text": [
            "2022-03-08 00:09:52.135767\n"
          ]
        }
      ]
    },
    {
      "cell_type": "code",
      "source": [
        "from datetime import datetime\n",
        "\n",
        "today = datetime.now()\n",
        "print(today)"
      ],
      "metadata": {
        "id": "N1j5I52Z3LQm",
        "outputId": "51388e80-d49d-49c9-8c05-cc29897fb21c",
        "colab": {
          "base_uri": "https://localhost:8080/"
        }
      },
      "execution_count": 2,
      "outputs": [
        {
          "output_type": "stream",
          "name": "stdout",
          "text": [
            "2022-03-08 00:10:40.180502\n"
          ]
        }
      ]
    },
    {
      "cell_type": "markdown",
      "metadata": {
        "id": "4uIVMAMIDuY_"
      },
      "source": [
        "Can we create an object with a specific datetime?"
      ]
    },
    {
      "cell_type": "code",
      "metadata": {
        "id": "ravghWwj7o2L",
        "outputId": "5fa1431d-de53-4389-f90d-4615bcee95de",
        "colab": {
          "base_uri": "https://localhost:8080/"
        }
      },
      "source": [
        "import datetime\n",
        "\n",
        "other_date = datetime.datetime(2020, 3, 17)\n",
        "print(other_date)"
      ],
      "execution_count": 4,
      "outputs": [
        {
          "output_type": "stream",
          "name": "stdout",
          "text": [
            "2020-03-17 00:00:00\n"
          ]
        }
      ]
    },
    {
      "cell_type": "markdown",
      "metadata": {
        "id": "bsydqR0UDrjP"
      },
      "source": [
        "Can we print out the current date and time, in the format:\n",
        "\n",
        "> Today is Wednesday, 30/04/2021\n",
        "\n",
        "Some useful/common formats:\n",
        "* %a\tWeekday, short version\tWed\t\n",
        "* %A\tWeekday, full version\tWednesday\t\t\n",
        "* %d\tDay of month 01-31\t31\t\n",
        "* %b\tMonth name, short version\tDec\t\n",
        "* %B\tMonth name, full version\tDecember\t\n",
        "* %m\tMonth as a number 01-12\t12\t\n",
        "* %y\tYear, short version, without century\t18\t\n",
        "* %Y\tYear, full version\t2018\t\n",
        "* %H\tHour 00-23\t17\t\n",
        "* %I\tHour 00-12\t05\t\n",
        "* %p\tAM/PM\tPM\t\n",
        "* %M\tMinute 00-59\t41\t\n",
        "* %S\tSecond 00-59\t08\n",
        "\n",
        "([complete list of formats](https://www.w3schools.com/python/python_datetime.asp))"
      ]
    },
    {
      "cell_type": "code",
      "metadata": {
        "id": "BdHisgwGDs0I",
        "outputId": "e223b9ea-d9a3-4878-9746-502ea77c7f1b",
        "colab": {
          "base_uri": "https://localhost:8080/"
        }
      },
      "source": [
        "# str f time -> string from time\n",
        "print(f\"Today is {today.strftime('%A, %d/%m/%Y')}.\")"
      ],
      "execution_count": 8,
      "outputs": [
        {
          "output_type": "stream",
          "name": "stdout",
          "text": [
            "Today is Tuesday, 08/03/2022.\n"
          ]
        }
      ]
    },
    {
      "cell_type": "markdown",
      "metadata": {
        "id": "Y9JrjbQbFZXf"
      },
      "source": [
        "As well as `datetime`, there is `date` and `time` if we are only storing the date part or the time part and we don't need the two together."
      ]
    },
    {
      "cell_type": "markdown",
      "metadata": {
        "id": "XtgVhF6sEV0u"
      },
      "source": [
        "Can we find the difference between 2 dates?"
      ]
    },
    {
      "cell_type": "code",
      "metadata": {
        "id": "JVWa0bgoFnHQ",
        "outputId": "a3c2a1f3-5ba9-4455-d914-8b1fe19ba589",
        "colab": {
          "base_uri": "https://localhost:8080/"
        }
      },
      "source": [
        "date_1 = datetime.datetime(2022, 1, 5)\n",
        "date_2 = datetime.datetime(2022, 2, 17)\n",
        "# Should give us 31+12=43\n",
        "print(date_2-date_1)"
      ],
      "execution_count": 10,
      "outputs": [
        {
          "output_type": "stream",
          "name": "stdout",
          "text": [
            "43 days, 0:00:00\n"
          ]
        }
      ]
    },
    {
      "cell_type": "code",
      "source": [
        "date_1 = datetime.datetime(2021, 1, 5)\n",
        "date_2 = datetime.datetime(2022, 2, 17)\n",
        "# Should give us 365+31+12=1 year and 43 days\n",
        "print(date_2-date_1)"
      ],
      "metadata": {
        "id": "_-xq0PqH5Xzi",
        "outputId": "fb98ff65-efcf-4577-db0f-721b454bb5b5",
        "colab": {
          "base_uri": "https://localhost:8080/"
        }
      },
      "execution_count": 11,
      "outputs": [
        {
          "output_type": "stream",
          "name": "stdout",
          "text": [
            "408 days, 0:00:00\n"
          ]
        }
      ]
    },
    {
      "cell_type": "markdown",
      "metadata": {
        "id": "1wVF-pCCGJ5r"
      },
      "source": [
        "A timedelta object represents a duration, the difference between two dates or times.\n",
        "\n",
        "`datetime.timedelta(days=0, seconds=0, microseconds=0, milliseconds=0, minutes=0, hours=0, weeks=0)`"
      ]
    },
    {
      "cell_type": "markdown",
      "metadata": {
        "id": "3ScDMDwcFyN2"
      },
      "source": [
        "Can we find the date 10 days after a given date?"
      ]
    },
    {
      "cell_type": "code",
      "metadata": {
        "id": "CDarv3smF1Fj",
        "outputId": "f3e97c96-8af7-4728-88b8-1e2b41a63360",
        "colab": {
          "base_uri": "https://localhost:8080/"
        }
      },
      "source": [
        "ten_days = datetime.timedelta(10)\n",
        "print(today+ten_days)"
      ],
      "execution_count": 12,
      "outputs": [
        {
          "output_type": "stream",
          "name": "stdout",
          "text": [
            "2022-03-18 00:10:40.180502\n"
          ]
        }
      ]
    },
    {
      "cell_type": "markdown",
      "metadata": {
        "id": "X6KW49r-GhIk"
      },
      "source": [
        "And 5 mintues later?\n",
        "\n",
        "\n",
        "**Useful Notes**\n",
        "\n",
        "There are 2 ways we can create a `timedelta` object for 5 minutes:\n",
        "* `timedelta(0,0,0,0,5)`\n",
        "* `timedelta(minutes=5)`\n",
        "\n",
        "The latter is more readable and concise.\n",
        "\n",
        "We can combine a `date` object with a `time` object into a `datetime` object.\n",
        "\n",
        "We can create an empty (zeroed) time object using `time()`\n"
      ]
    },
    {
      "cell_type": "code",
      "metadata": {
        "id": "LPi-oj74GiwL",
        "outputId": "77544c1a-4bb3-4c73-9154-abf38e990b06",
        "colab": {
          "base_uri": "https://localhost:8080/"
        }
      },
      "source": [
        "five_minutes = datetime.timedelta(minutes=5)\n",
        "print(today+ten_days+five_minutes)"
      ],
      "execution_count": 13,
      "outputs": [
        {
          "output_type": "stream",
          "name": "stdout",
          "text": [
            "2022-03-18 00:15:40.180502\n"
          ]
        }
      ]
    },
    {
      "cell_type": "code",
      "source": [
        "day = datetime.date(2022,2,2)\n",
        "# Need to convert the day into a datetime in order to hold the time as well.\n",
        "day = datetime.datetime.combine(day, datetime.time())\n",
        "print(day+five_minutes)"
      ],
      "metadata": {
        "id": "nQl9kkrq6dpO",
        "outputId": "1c8047a6-cf25-4c65-a6e0-ebf90ccd4fde",
        "colab": {
          "base_uri": "https://localhost:8080/"
        }
      },
      "execution_count": 15,
      "outputs": [
        {
          "output_type": "stream",
          "name": "stdout",
          "text": [
            "2022-02-02 00:05:00\n"
          ]
        }
      ]
    },
    {
      "cell_type": "code",
      "source": [
        "print(datetime.time())"
      ],
      "metadata": {
        "id": "XXlJz6d97MUM",
        "outputId": "b5ac69a4-3a2e-43ad-8f4e-d429c11cd731",
        "colab": {
          "base_uri": "https://localhost:8080/"
        }
      },
      "execution_count": 16,
      "outputs": [
        {
          "output_type": "stream",
          "name": "stdout",
          "text": [
            "00:00:00\n"
          ]
        }
      ]
    },
    {
      "cell_type": "markdown",
      "metadata": {
        "id": "VXbJW1E6ITpk"
      },
      "source": [
        "Can we convert it into a string (to save it into a dictionary or file)?"
      ]
    },
    {
      "cell_type": "code",
      "metadata": {
        "id": "hbkk3IYqIY62",
        "outputId": "c37a168a-c4b9-4494-bbb2-3c91ec90234c",
        "colab": {
          "base_uri": "https://localhost:8080/"
        }
      },
      "source": [
        "format = \"%d%m%y%H%M%S\"\n",
        "print(type(today))\n",
        "print(today)\n",
        "today_string = today.strftime(format)\n",
        "print(today_string)\n",
        "format2 = \"%d%m%y %H%M%S\"\n",
        "today_string2 = today.strftime(format2)\n",
        "print(today_string2)"
      ],
      "execution_count": 23,
      "outputs": [
        {
          "output_type": "stream",
          "name": "stdout",
          "text": [
            "<class 'datetime.datetime'>\n",
            "2022-03-08 00:10:40.180502\n",
            "080322001040\n",
            "080322 001040\n"
          ]
        }
      ]
    },
    {
      "cell_type": "markdown",
      "metadata": {
        "id": "UmUTBsmOIZUY"
      },
      "source": [
        "Can we convert it back from a string into a datetime object?"
      ]
    },
    {
      "cell_type": "code",
      "metadata": {
        "id": "W4AH_m6RIaLx",
        "outputId": "e411891f-16f0-416f-851c-1a1bb6c018b6",
        "colab": {
          "base_uri": "https://localhost:8080/"
        }
      },
      "source": [
        "today_retrieved = datetime.datetime.strptime(today_string, format)\n",
        "print(today_retrieved)"
      ],
      "execution_count": 24,
      "outputs": [
        {
          "output_type": "stream",
          "name": "stdout",
          "text": [
            "2022-03-08 00:10:40\n"
          ]
        }
      ]
    },
    {
      "cell_type": "markdown",
      "metadata": {
        "id": "cHzVlf4iEQB6"
      },
      "source": [
        "For further information, specifically managing different timezones: https://docs.python.org/3/library/datetime.html"
      ]
    },
    {
      "cell_type": "markdown",
      "metadata": {
        "id": "pmyZPba6Aztc"
      },
      "source": [
        "## 2 - Random\n",
        "\n"
      ]
    },
    {
      "cell_type": "markdown",
      "metadata": {
        "id": "Au-2Elod1gTz"
      },
      "source": [
        "* `random.randint(start, stop)` (start and stop are both included in the range)\n",
        "* `random.choices(sequence, weights=None, cum_weights=None, k=1)`"
      ]
    },
    {
      "cell_type": "markdown",
      "metadata": {
        "id": "yq3sKbWq1YuI"
      },
      "source": [
        "Write a function which simulates the rolling of a 6-sided dice."
      ]
    },
    {
      "cell_type": "code",
      "metadata": {
        "id": "cOqnLS0OBZp3",
        "outputId": "0dabe10f-5c95-49ae-a90c-11e6abf5eb20",
        "colab": {
          "base_uri": "https://localhost:8080/"
        }
      },
      "source": [
        "import random\n",
        "\n",
        "def roll_dice():\n",
        "    return random.randint(1,6)\n",
        "\n",
        "for i in range(1,10):\n",
        "    print(roll_dice())"
      ],
      "execution_count": 36,
      "outputs": [
        {
          "output_type": "stream",
          "name": "stdout",
          "text": [
            "1\n",
            "3\n",
            "2\n",
            "4\n",
            "1\n",
            "1\n",
            "4\n",
            "2\n",
            "1\n"
          ]
        }
      ]
    },
    {
      "cell_type": "markdown",
      "metadata": {
        "id": "tQUL7Lts1frh"
      },
      "source": [
        "Writie a function which takes in an integer n, and simulates the rolling of an n-sided dice."
      ]
    },
    {
      "cell_type": "code",
      "metadata": {
        "id": "S4jaGJ_F1kD8",
        "outputId": "4990139e-c11d-46f0-8456-41d1ead2a742",
        "colab": {
          "base_uri": "https://localhost:8080/"
        }
      },
      "source": [
        "def roll_dice(num_sides):\n",
        "    return random.randint(1,num_sides)\n",
        "\n",
        "for i in range(1,10):\n",
        "    print(roll_dice(42))"
      ],
      "execution_count": 37,
      "outputs": [
        {
          "output_type": "stream",
          "name": "stdout",
          "text": [
            "3\n",
            "26\n",
            "12\n",
            "14\n",
            "9\n",
            "24\n",
            "22\n",
            "15\n",
            "39\n"
          ]
        }
      ]
    },
    {
      "cell_type": "markdown",
      "metadata": {
        "id": "Ol11Pm580Ip7"
      },
      "source": [
        "Is it possible to flip a weighted coin?\n",
        "\n",
        "Imagine we have a coin, in which there is 1/3 chance you'll get 'heads' and 2/3 chance you'll get 'tails'."
      ]
    },
    {
      "cell_type": "code",
      "metadata": {
        "id": "0e9URhZR1OmH",
        "outputId": "f287eb40-ea0b-407d-d555-f301ccc54595",
        "colab": {
          "base_uri": "https://localhost:8080/"
        }
      },
      "source": [
        "values = ['H', 'T']\n",
        "weights = [1, 2] # for every one heads I want 2 tails\n",
        "results = random.choices(values, weights, k=30)\n",
        "print(results)\n",
        "print(f\"Heads: {results.count('H')} Tails: {results.count('T')}.\")"
      ],
      "execution_count": 51,
      "outputs": [
        {
          "output_type": "stream",
          "name": "stdout",
          "text": [
            "['H', 'T', 'T', 'T', 'T', 'T', 'H', 'T', 'T', 'H', 'H', 'H', 'H', 'T', 'T', 'T', 'H', 'T', 'T', 'H', 'T', 'T', 'H', 'H', 'T', 'T', 'T', 'T', 'H', 'H']\n",
            "Heads: 12 Tails: 18.\n"
          ]
        }
      ]
    },
    {
      "cell_type": "markdown",
      "metadata": {
        "id": "ancPp3sz1Jin"
      },
      "source": [
        "Can we do this 12 times a get a list of the results?"
      ]
    },
    {
      "cell_type": "code",
      "metadata": {
        "id": "-C9XzRrR1M6B"
      },
      "source": [
        "# See above."
      ],
      "execution_count": null,
      "outputs": []
    },
    {
      "cell_type": "markdown",
      "metadata": {
        "id": "ZEFihde3_aXd"
      },
      "source": [
        "## 3 - Images"
      ]
    },
    {
      "cell_type": "markdown",
      "metadata": {
        "id": "Kvxtudo1_kHk"
      },
      "source": [
        "Important info:\n",
        "* An image is a width x height grid of pixels\n",
        "* Each pixel has a Red, Green, and Blue component"
      ]
    },
    {
      "cell_type": "markdown",
      "metadata": {
        "id": "SeQyXNX4_vdT"
      },
      "source": [
        "Using the [Pillow](https://python-pillow.org/) library in python allows us to create and manipulate images.\n",
        "\n",
        "**Note:** This is not something we will be covering in depth in this course, so don't feel you have to memorise how to manipulate images."
      ]
    },
    {
      "cell_type": "code",
      "source": [
        "!pip install Pillow"
      ],
      "metadata": {
        "id": "jmzxIp6A-ydv",
        "outputId": "c25f1f48-bfcb-4c6b-c626-6e47f52bd3c5",
        "colab": {
          "base_uri": "https://localhost:8080/"
        }
      },
      "execution_count": 52,
      "outputs": [
        {
          "output_type": "stream",
          "name": "stdout",
          "text": [
            "Requirement already satisfied: Pillow in /usr/local/lib/python3.7/dist-packages (7.1.2)\n"
          ]
        }
      ]
    },
    {
      "cell_type": "code",
      "source": [
        "from PIL import Image\n",
        "\n",
        "im = Image.new(mode=\"RGB\", size=(800,600), color=\"white\")\n",
        "\n",
        "im"
      ],
      "metadata": {
        "id": "6SMmZ_2s_Pk6",
        "outputId": "3711d866-b4d6-4583-e06a-1230baf40fc0",
        "colab": {
          "base_uri": "https://localhost:8080/",
          "height": 617
        }
      },
      "execution_count": 53,
      "outputs": [
        {
          "output_type": "execute_result",
          "data": {
            "image/png": "[encoded data removed]",
            "text/plain": [
              "<PIL.Image.Image image mode=RGB size=800x600 at 0x7F3B06E6D710>"
            ]
          },
          "metadata": {},
          "execution_count": 53
        }
      ]
    },
    {
      "cell_type": "code",
      "source": [
        "from PIL import Image, ImageDraw\n",
        "\n",
        "im = Image.new(mode=\"RGB\", size=(800,600), color=\"white\")\n",
        "\n",
        "marker = ImageDraw.Draw(im)\n",
        "\n",
        "\n",
        "#marker.line((0,0,100,100), fill=(255,0,0), width=10)\n",
        "\n",
        "#marker.line((100,100,200,100), fill=(100, 107, 189), width=10)\n",
        "\n",
        "for i in range(50):\n",
        "    start_x = random.randint(0,800)\n",
        "    start_y = random.randint(0,600)\n",
        "    end_x = random.randint(0,800)\n",
        "    end_y = random.randint(0,600)\n",
        "    r = random.randint(0,255)\n",
        "    g = random.randint(0,255)\n",
        "    b = random.randint(0,255)\n",
        "    marker.line((start_x,start_y,end_x,end_y), fill=(r,g,b), width=10)\n",
        "\n",
        "im"
      ],
      "metadata": {
        "id": "jYAN8b3l_x9v",
        "outputId": "840b8d60-5ac8-4a54-f0c3-f13d92660e6f",
        "colab": {
          "base_uri": "https://localhost:8080/",
          "height": 617
        }
      },
      "execution_count": 61,
      "outputs": [
        {
          "output_type": "execute_result",
          "data": {
            "image/png": "[encoded data removed]",
            "text/plain": [
              "<PIL.Image.Image image mode=RGB size=800x600 at 0x7F3AFE4DEF50>"
            ]
          },
          "metadata": {},
          "execution_count": 61
        }
      ]
    },
    {
      "cell_type": "markdown",
      "metadata": {
        "id": "23RbVs1EYKG8"
      },
      "source": [
        "## 4 - Pandas and Plotly (a detour into Musk tweets)"
      ]
    },
    {
      "cell_type": "markdown",
      "metadata": {
        "id": "5iONl3mxYRzF"
      },
      "source": [
        "This code cell creates a list from some of Elon Musk's tweets. \n",
        "\n",
        "*You're not expected to completely understand this code yet. It's only here to give us interesting data*."
      ]
    },
    {
      "cell_type": "code",
      "metadata": {
        "id": "T2UcZXKtYXBb"
      },
      "source": [
        "import pandas\n",
        "\n",
        "raw_tweets = pandas.read_csv('https://raw.githubusercontent.com/sim-mautner/cs1010-21t3/main/data/elonmusk.csv')\n",
        "elon_tweets = list(raw_tweets.tweet)\n",
        "\n",
        "#elon_tweets"
      ],
      "execution_count": 69,
      "outputs": []
    },
    {
      "cell_type": "markdown",
      "metadata": {
        "id": "SSEDVtEdQ1o9"
      },
      "source": [
        "How many tweets are there in our dataset?"
      ]
    },
    {
      "cell_type": "code",
      "metadata": {
        "id": "9IH7gp4PQ4Ko",
        "outputId": "27b2b8d8-9599-4053-853c-246d1a52ab68",
        "colab": {
          "base_uri": "https://localhost:8080/"
        }
      },
      "source": [
        "len(elon_tweets)"
      ],
      "execution_count": 70,
      "outputs": [
        {
          "output_type": "execute_result",
          "data": {
            "text/plain": [
              "9167"
            ]
          },
          "metadata": {},
          "execution_count": 70
        }
      ]
    },
    {
      "cell_type": "markdown",
      "metadata": {
        "id": "3-x1Sk2AaR9q"
      },
      "source": [
        "In what tweets has Elon Musk said \"simulation\"?"
      ]
    },
    {
      "cell_type": "code",
      "metadata": {
        "id": "RTKak5pvaXDo",
        "outputId": "43419a57-b40a-4b06-8816-f94e2c2cf064",
        "colab": {
          "base_uri": "https://localhost:8080/"
        }
      },
      "source": [
        "for tweet in elon_tweets:\n",
        "    if \"simulation\" in tweet:\n",
        "        print(tweet)"
      ],
      "execution_count": 72,
      "outputs": [
        {
          "output_type": "stream",
          "name": "stdout",
          "text": [
            "Pretty much. We place high value on simulation too, but nothing’s as weird as reality!\n",
            "Hope you’re enjoying the simulation\n",
            "8 years later, the simulation is mostly real\n",
            "Root of energy to mass ratio is max render speed of the simulation\n",
            "Physics is a set of compression functions for the simulation\n",
            "Cramer is a simulation. He’s not real.\n",
            "Uh it’s a simulation hello\n",
            "Appears to be simulations all the way down\n",
            "All parameters in a simulation are necessarily quantized\n",
            "Yes, if there is no listener, a simulation probably wouldn’t spend computing power on sound\n",
            "To conserve computing power, a simulation would only render an object when it is observed\n",
            "Second best answer to the Fermi Paradox after the simulation argument\n",
            "Falcon Heavy launch simulation almost ready. Will be set to Bowie’s Life on Mars.\n",
            "The singularity for this level of the simulation is coming soon. I wonder what the levels above us look like. \n",
            "\n",
            "Good chance they are less interesting and deeper levels are better. So far, even our primitive sims are often more entertaining than reality itself.\n",
            "Probably. Either that, simulation, great filter or they are very, very subtle.\n",
            "Will try out @NoMansSky this weekend. Maybe reality is just a series of nested simulations all the way down ...\n",
            "It is simulations all the way down\n"
          ]
        }
      ]
    },
    {
      "cell_type": "markdown",
      "metadata": {
        "id": "HUVyHkreaOz7"
      },
      "source": [
        "What emoji does Elon Musk use?"
      ]
    },
    {
      "cell_type": "code",
      "metadata": {
        "id": "3w8EAUQaaoGz",
        "outputId": "14ce2622-2b3c-4e3c-aef1-d5542509cd01",
        "colab": {
          "base_uri": "https://localhost:8080/"
        }
      },
      "source": [
        "!pip install emoji"
      ],
      "execution_count": 73,
      "outputs": [
        {
          "output_type": "stream",
          "name": "stdout",
          "text": [
            "Collecting emoji\n",
            "  Downloading emoji-1.6.3.tar.gz (174 kB)\n",
            "\u001b[?25l\r\u001b[K     |█▉                              | 10 kB 22.0 MB/s eta 0:00:01\r\u001b[K     |███▊                            | 20 kB 29.9 MB/s eta 0:00:01\r\u001b[K     |█████▋                          | 30 kB 34.7 MB/s eta 0:00:01\r\u001b[K     |███████▌                        | 40 kB 13.8 MB/s eta 0:00:01\r\u001b[K     |█████████▍                      | 51 kB 11.5 MB/s eta 0:00:01\r\u001b[K     |███████████▎                    | 61 kB 13.1 MB/s eta 0:00:01\r\u001b[K     |█████████████▏                  | 71 kB 11.5 MB/s eta 0:00:01\r\u001b[K     |███████████████                 | 81 kB 12.4 MB/s eta 0:00:01\r\u001b[K     |█████████████████               | 92 kB 13.7 MB/s eta 0:00:01\r\u001b[K     |██████████████████▉             | 102 kB 12.7 MB/s eta 0:00:01\r\u001b[K     |████████████████████▊           | 112 kB 12.7 MB/s eta 0:00:01\r\u001b[K     |██████████████████████▋         | 122 kB 12.7 MB/s eta 0:00:01\r\u001b[K     |████████████████████████▌       | 133 kB 12.7 MB/s eta 0:00:01\r\u001b[K     |██████████████████████████▍     | 143 kB 12.7 MB/s eta 0:00:01\r\u001b[K     |████████████████████████████▏   | 153 kB 12.7 MB/s eta 0:00:01\r\u001b[K     |██████████████████████████████  | 163 kB 12.7 MB/s eta 0:00:01\r\u001b[K     |████████████████████████████████| 174 kB 12.7 MB/s eta 0:00:01\r\u001b[K     |████████████████████████████████| 174 kB 12.7 MB/s \n",
            "\u001b[?25hBuilding wheels for collected packages: emoji\n",
            "  Building wheel for emoji (setup.py) ... \u001b[?25l\u001b[?25hdone\n",
            "  Created wheel for emoji: filename=emoji-1.6.3-py3-none-any.whl size=170298 sha256=910767ffa66496cef99d86f9f421006ed28242fcefdafbedb7d39cae3b4c3dba\n",
            "  Stored in directory: /root/.cache/pip/wheels/03/8b/d7/ad579fbef83c287215c0caab60fb0ae0f30c4d7ce5f580eade\n",
            "Successfully built emoji\n",
            "Installing collected packages: emoji\n",
            "Successfully installed emoji-1.6.3\n"
          ]
        }
      ]
    },
    {
      "cell_type": "code",
      "source": [
        "import emoji\n",
        "\n",
        "elon_emoji = []\n",
        "for tweet in elon_tweets:\n",
        "    for character in tweet:\n",
        "        if character in emoji.UNICODE_EMOJI_ALIAS_ENGLISH:\n",
        "            elon_emoji.append(character)\n",
        "\n",
        "print(elon_emoji)"
      ],
      "metadata": {
        "id": "ZR14id7JCpqd",
        "outputId": "6ede3ba3-d128-4d1c-bc5d-fd7df3ffeab1",
        "colab": {
          "base_uri": "https://localhost:8080/"
        }
      },
      "execution_count": 75,
      "outputs": [
        {
          "output_type": "stream",
          "name": "stdout",
          "text": [
            "['👀', '👀', '👀', '🔥', '🔥', '🖤', '✨', '✨', '🖤', '🤣', '🤣', '💕', '🤣', '🤣', '🤣', '🤣', '🤣', '🤣', '🤣', '🤣', '🤣', '🤣', '😂', '😂', '🤣', '🤣', '🤔', '💕', '🤣', '🤣', '🤣', '🤣', '🤣', '🤣', '🤣', '🤣', '🤣', '🤣', '😢', '🤣', '🤣', '🤣', '🤣', '🐈', '😅', '🤣', '🤣', '🤣', '🤣', '🤣', '🤣', '🤣', '🤣', '🎶', '🎶', '🤣', '😉', '😎', '🤣', '🤣', '🚀', '🤣', '🤣', '🖤', '🤣', '💕', '🤣', '🤣', '🤣', '🤣', '🌹', '👻', '🤣', '🤣', '🤣', '💕', '🤣', '🤣', '💕', '😀', '👍', '🤣', '🐝', '🐝', '🤣', '🤣', '🤣', '🤣', '🧚', '👸', '🤣', '🤣', '💕', '🔥', '🤣', '🤣', '🧲', '🤣', '🤣', '🥜', '🤣', '🤣', '🔥', '🤣', '🤣', '👆', '💯', '😅', '🥜', '🔥', '🔥', '🔥', '👍', '🤣', '🤣', '🤣', '🤣', '🤣', '👍', '🤣', '🤣', '😉', '🤣', '🤣', '🤓', '🤣', '🤣', '🤣', '🤣', '🤣', '🤣', '🤣', '🤣', '🤣', '😀', '🤣', '🤣', '😅', '😀', '🐇', '💯', '🤣', '🤣', '😮', '🤣', '🤣', '🤣', '🤣', '🤣', '🤣', '👍', '😀', '🤔', '🤣', '🤣', '🤣', '🤣', '💖', '🤣', '🤣', '😀', '🤣', '🤣', '👍', '😀', '⚡', '🤣', '🤣', '🤔', '💕', '👀', '🤣', '🤣', '🔭', '🔥', '🔥', '😀', '🤣', '🤣', '😊', '💘', '💘', '😉', '🤹', '🏻', '🤣', '🤣', '💯', '🔥', '🔥', '🤣', '🤣', '💕', '🤣', '🤣', '🤣', '🔥', '🔥', '🔥', '😀', '🤣', '🤣', '😅', '🤣', '🤣', '🕺', '\\U0001fa91', '🍻', '🤣', '💯', '🔭', '🌏', '💨', '🤣', '🤣', '😞', '🔥', '⚡', '🎶', '🎶', '😉', '👶', '🏻', '🤣', '🤣', '🔥', '🔥', '🤣', '🤣', '🤣', '🤣', '🚀', '🚘', '🐈', '🎥', '🤣', '🤣', '🤣', '🤣', '🤣', '🤣', '😎', '😮', '🧱', '🤣', '🤣', '🖤', '🐌', '🤣', '🤣', '🎄', '🎁', '😀', '🤣', '🤣', '🚘', '💨', '🤣', '🤣', '🤣', '🤣', '🤣', '🐼', '🤞', '🤣', '🤣', '🎄', '😀', '💕', '🔥', '🔥', '🤣', '🤣', '🤣', '🤣', '🤣', '🤣', '🤣', '🤣', '🖤', '🖤', '🖤', '🖤', '🖤', '🖤', '😉', '🧝', '🧝', '🖤', '🖤', '💛', '💛', '🖤', '😘', '🎃', '😉', '🔥', '🤣', '🤣', '🥇', '🎥', '🤣', '🤣', '🍟', '😈', '😉', '🤣', '🤣', '🚀', '🚘', '🧠', '🚘', '🎤', '🦌', '🦶', '💨', '🤣', '💨', '🐐', '🤣', '🤣', '🤣', '🤣', '💩', '🤣', '🤣', '😀', '😉', '🔥', '😉', '🥧', '🔥', '💣', '💦', '🚀', '🚀', '👍', '🤣', '🤣', '👍', '🤣', '🤣', '🥳', '😲', '🤗', '🤔', '🤣', '🤣', '😅', '🍀', '😋', '😉', '😢', '🤣', '🤣', '👍', '👍', '🤣', '🤣', '😀', '🤣', '🤣', '🤣', '🔥', '🔥', '😉', '🤣', '🤣', '🤣', '🥜', '🚀', '🤔', '😀', '🎶', '🎶', '🚀', '🚘', '🧠', '🐝', '🐝', '🐝', '🧐', '👍', '🐝', '👌', '🐝', '🐝', '🐝', '🎩', '🤣', '🤣', '🤝', '🐏', '😢', '🐏', '🥳', '🤣', '🤣', '🍷', '🚀', '🥳', '🤣', '🤣', '👽', '👽', '🔥', '🍀', '🍀', '😋', '🤣', '🤣', '🤖', '🚘', '😀', '👍', '🧙', '🤣', '🤣', '🤣', '🤣', '😀', '💕', '🤣', '🤣', '🚀', '🚀', '🖤', '🖤', '🤗', '🤣', '🤣', '🦆', '🦆', '💰', '🎶', '🎶', '🤣', '🤣', '😇', '🖤', '😀', '😉', '🧲', '⚡', '🤣', '💖', '💖', '🚀', '😀', '👍', '😀', '🐣', '🧨', '🧠', '🤣', '😀', '🤣', '💨', '🌌', '👍', '🤣', '🤣', '🐌', '😉', '😐', '🤣', '😋', '🏴', '🍀', '👍', '🚀', '🤣', '😉', '😔', '👌', '🖤', '🖤', '💙', '💨', '🍭', '🙏', '🐐', '🤣', '🤣', '👌', '🤣', '🤣', '😜', '😜', '🍁', '🍃', '🍂', '😔', '🤣', '🤣', '🦆', '🐍', '🐍', '🐍', '🐏', '💡', '🚀', '🙏', '🤔', '🤣', '🤣', '🧦', '🔥', '🔥', '💕', '💕', '💫', '💫', '😀', '😀', '🧦', '🚀', '💫', '💫', '🚀', '💫', '😲', '🧀', '🐈', '🧁', '🤔', '😀', '👍', '🦊', '🐜', '🤖', '🦆', '🤗', '🌏', '💛', '💛', '🥧', '😉', '🤣', '💕', '💕', '💕', '😉', '😍', '😍', '😍', '😍', '😍', '😍', '😢', '🤗', '🐜', '👟', '🤣', '😜', '😀', '😀', '🚀', '🤡', '👌', '🎼', '🤡', '😎', '💩', '🔥', '🥜', '💨', '🍃', '💫', '🚀', '🥰', '😅', '🔥', '🖤', '🖤', '🔥', '💙', '💙', '💨', '😀', '💩', '😀', '🤔', '💡', '😀', '🐉', '👨', '🚀', '👩', '🚀', '🚀', '🚀', '😉', '🤣', '⭐', '😲', '😀', '⛄', '🎄', '🎁', '🎅', '💝', '😀', '🤣', '😀', '👌', '💛', '💛', '🙏', '😴', '💨', '💨', '💨', '👍', '😀', '💨', '💨', '👍', '😉', '💕', '🍜', '🍜', '💕', '😀', '⚾', '👍', '🦙', '💩', '✨', '😴', '🚘', '🛸', '🛸', '🛸', '🛸', '😀', '🧙', '😉', '😉', '🖤', '🚀', '🚀', '😀', '🚀', '🥜', '👌', '🐻', '🧠', '🚘', '🐻', '🧠', '😉', '😉', '🖤', '😀', '😀', '🖤', '🖤', '🖤', '🖤', '🚘', '🚘', '🚘', '🚘', '🖤', '🖤', '🖤', '🖤', '💗', '👽', '👾', '😉', '😀', '😀', '👽', '👾', '🐻', '🧠', '🚘', '😀', '😀', '😇', '😉', '😀', '👽', '💘', '😀', '😀', '😉', '😎', '🚀', '😀', '🎮', '🦊', '🐶', '😀', '🖤', '🚀', '🖤', '🖤', '🖤', '🤣', '😀', '🖤', '🖤', '🖤', '🤣', '🤣', '🤣', '😛', '🔬', '💫', '🌏', '🚀', '👨', '🔬', '😀', '😱', '🖤', '🚀', '💫', '🤗', '🦄', '💨', '😅', '🧙', '👽', '🌌', '💫', '🍩', '😊', '🖤', '🖤', '🖤', '🖤', '🖤', '🖤', '🎁', '🎉', '🎂', '⚡', '⚡', '💡', '🧛', '🛸', '🐇', '👻', '🍒', '💨', '🐌', '🧡', '💛', '💚', '💙', '💜', '🖤', '💖', '🌈', '🛸', '🛸', '🛸', '🛸', '🛸', '🛸', '🛸', '🛸', '🛸', '🛸', '🚀', '⛺', '😜', '🤖', '🖤', '🐈', '🧙', '⛪', '🌃', '🤗', '🚘', '💫', '💕', '👽', '🧚', '🚀', '🍃', '🍄', '🍕', '🍕', '🍕', '🚘', '🤔', '👽', '💕', '🚀', '🤔', '🧠', '🛸', '👽', '💫', '🥜', '🔥', '🚀', '🚀', '🚀', '💕', '👻', '😅', '🚘', '🖤', '😀', '🤣', '🖤', '🚀', '🎶', '👻', '🐇', '🧚', '💫', '😃', '😢', '🙃', '😊', '🚀', '🔬', '🤔', '🚗', '🚙', '🚘', '🚀', '🌏', '🤗', '🎼', '🐇', '😔', '👻', '😉', '🦄', '🚀', '💫', '🎉', '🐌', '🎩', '🍭', '🌸', '🖤', '🖤', '😉', '🐉', '😉', '🐱', '🤗', '🤗', '🤗', '😘', '🐻', '🔥', '🥜', '🔥', '🔥', '💩', '😎']\n"
          ]
        }
      ]
    },
    {
      "cell_type": "markdown",
      "metadata": {
        "id": "Yzz3BH7ia4VY"
      },
      "source": [
        "Can we build a dictionary counting how often Elon Musk uses each Emoji?"
      ]
    },
    {
      "cell_type": "code",
      "metadata": {
        "id": "YNYeEqDYa_Hw",
        "outputId": "f6ee11b3-ca35-472a-f9ef-e90dbcca246a",
        "colab": {
          "base_uri": "https://localhost:8080/"
        }
      },
      "source": [
        "'''\n",
        "smiley: 6\n",
        "heart: 5\n",
        "'''\n",
        "\n",
        "emoji_freq = {}\n",
        "for an_emoji in elon_emoji:\n",
        "    if an_emoji not in emoji_freq:\n",
        "        emoji_freq[an_emoji] = elon_emoji.count(an_emoji)\n",
        "\n",
        "print(emoji_freq)"
      ],
      "execution_count": 76,
      "outputs": [
        {
          "output_type": "stream",
          "name": "stdout",
          "text": [
            "{'👀': 4, '🔥': 34, '🖤': 50, '✨': 3, '🤣': 226, '💕': 20, '😂': 2, '🤔': 11, '😢': 5, '🐈': 4, '😅': 8, '🎶': 9, '😉': 28, '😎': 5, '🚀': 38, '🌹': 1, '👻': 5, '😀': 48, '👍': 18, '🐝': 9, '🧚': 3, '👸': 1, '🧲': 2, '🥜': 7, '👆': 1, '💯': 4, '🤓': 1, '🐇': 4, '😮': 2, '💖': 4, '⚡': 5, '🔭': 2, '😊': 3, '💘': 3, '🤹': 1, '🏻': 2, '🕺': 1, '\\U0001fa91': 1, '🍻': 1, '🌏': 4, '💨': 15, '😞': 1, '👶': 1, '🚘': 17, '🎥': 2, '🧱': 1, '🐌': 4, '🎄': 3, '🎁': 3, '🐼': 1, '🤞': 1, '🧝': 2, '💛': 7, '😘': 2, '🎃': 1, '🥇': 1, '🍟': 1, '😈': 1, '🧠': 7, '🎤': 1, '🦌': 1, '🦶': 1, '🐐': 2, '💩': 5, '🥧': 2, '💣': 1, '💦': 1, '🥳': 3, '😲': 3, '🤗': 10, '🍀': 4, '😋': 3, '🧐': 1, '👌': 6, '🎩': 2, '🤝': 1, '🐏': 3, '🍷': 1, '👽': 9, '🤖': 3, '🧙': 4, '🦆': 4, '💰': 1, '😇': 2, '🐣': 1, '🧨': 1, '🌌': 2, '😐': 1, '🏴': 1, '😔': 3, '💙': 4, '🍭': 2, '🙏': 3, '😜': 4, '🍁': 1, '🍃': 3, '🍂': 1, '🐍': 3, '💡': 3, '🧦': 2, '💫': 13, '🧀': 1, '🧁': 1, '🦊': 2, '🐜': 2, '😍': 6, '👟': 1, '🤡': 2, '🎼': 2, '🥰': 1, '🐉': 2, '👨': 2, '👩': 1, '⭐': 1, '⛄': 1, '🎅': 1, '💝': 1, '😴': 2, '🍜': 2, '⚾': 1, '🦙': 1, '🛸': 16, '🐻': 4, '💗': 1, '👾': 2, '🎮': 1, '🐶': 1, '😛': 1, '🔬': 3, '😱': 1, '🦄': 2, '🍩': 1, '🎉': 2, '🎂': 1, '🧛': 1, '🍒': 1, '🧡': 1, '💚': 1, '💜': 1, '🌈': 1, '⛺': 1, '⛪': 1, '🌃': 1, '🍄': 1, '🍕': 3, '😃': 1, '🙃': 1, '🚗': 1, '🚙': 1, '🌸': 1, '🐱': 1}\n"
          ]
        }
      ]
    },
    {
      "cell_type": "markdown",
      "metadata": {
        "id": "tCkMvSwwbI3H"
      },
      "source": [
        "Can we plot it?"
      ]
    },
    {
      "cell_type": "code",
      "metadata": {
        "id": "cr0SzU9WbKBW",
        "outputId": "7ebdbd47-78ce-4467-a568-709192281799",
        "colab": {
          "base_uri": "https://localhost:8080/",
          "height": 595
        }
      },
      "source": [
        "!pip install plotly\n",
        "import plotly.express\n",
        "\n",
        "plotly.express.bar(x=list(emoji_freq.keys()),y=list(emoji_freq.values()))"
      ],
      "execution_count": 77,
      "outputs": [
        {
          "output_type": "stream",
          "name": "stdout",
          "text": [
            "Requirement already satisfied: plotly in /usr/local/lib/python3.7/dist-packages (5.5.0)\n",
            "Requirement already satisfied: six in /usr/local/lib/python3.7/dist-packages (from plotly) (1.15.0)\n",
            "Requirement already satisfied: tenacity>=6.2.0 in /usr/local/lib/python3.7/dist-packages (from plotly) (8.0.1)\n"
          ]
        },
        {
          "output_type": "display_data",
          "data": {
            "text/html": [
              "<html>\n",
              "<head><meta charset=\"utf-8\" /></head>\n",
              "<body>\n",
              "    <div>            <script src=\"https://cdnjs.cloudflare.com/ajax/libs/mathjax/2.7.5/MathJax.js?config=TeX-AMS-MML_SVG\"></script><script type=\"text/javascript\">if (window.MathJax) {MathJax.Hub.Config({SVG: {font: \"STIX-Web\"}});}</script>                <script type=\"text/javascript\">window.PlotlyConfig = {MathJaxConfig: 'local'};</script>\n",
              "        <script src=\"https://cdn.plot.ly/plotly-2.8.3.min.js\"></script>                <div id=\"b47b082d-bc46-44cb-b6d8-aa8ea8cdcebd\" class=\"plotly-graph-div\" style=\"height:525px; width:100%;\"></div>            <script type=\"text/javascript\">                                    window.PLOTLYENV=window.PLOTLYENV || {};                                    if (document.getElementById(\"b47b082d-bc46-44cb-b6d8-aa8ea8cdcebd\")) {                    Plotly.newPlot(                        \"b47b082d-bc46-44cb-b6d8-aa8ea8cdcebd\",                        [{\"alignmentgroup\":\"True\",\"hovertemplate\":\"x=%{x}<br>y=%{y}<extra></extra>\",\"legendgroup\":\"\",\"marker\":{\"color\":\"#636efa\",\"pattern\":{\"shape\":\"\"}},\"name\":\"\",\"offsetgroup\":\"\",\"orientation\":\"v\",\"showlegend\":false,\"textposition\":\"auto\",\"x\":[\"\\ud83d\\udc40\",\"\\ud83d\\udd25\",\"\\ud83d\\udda4\",\"\\u2728\",\"\\ud83e\\udd23\",\"\\ud83d\\udc95\",\"\\ud83d\\ude02\",\"\\ud83e\\udd14\",\"\\ud83d\\ude22\",\"\\ud83d\\udc08\",\"\\ud83d\\ude05\",\"\\ud83c\\udfb6\",\"\\ud83d\\ude09\",\"\\ud83d\\ude0e\",\"\\ud83d\\ude80\",\"\\ud83c\\udf39\",\"\\ud83d\\udc7b\",\"\\ud83d\\ude00\",\"\\ud83d\\udc4d\",\"\\ud83d\\udc1d\",\"\\ud83e\\uddda\",\"\\ud83d\\udc78\",\"\\ud83e\\uddf2\",\"\\ud83e\\udd5c\",\"\\ud83d\\udc46\",\"\\ud83d\\udcaf\",\"\\ud83e\\udd13\",\"\\ud83d\\udc07\",\"\\ud83d\\ude2e\",\"\\ud83d\\udc96\",\"\\u26a1\",\"\\ud83d\\udd2d\",\"\\ud83d\\ude0a\",\"\\ud83d\\udc98\",\"\\ud83e\\udd39\",\"\\ud83c\\udffb\",\"\\ud83d\\udd7a\",\"\\ud83e\\ude91\",\"\\ud83c\\udf7b\",\"\\ud83c\\udf0f\",\"\\ud83d\\udca8\",\"\\ud83d\\ude1e\",\"\\ud83d\\udc76\",\"\\ud83d\\ude98\",\"\\ud83c\\udfa5\",\"\\ud83e\\uddf1\",\"\\ud83d\\udc0c\",\"\\ud83c\\udf84\",\"\\ud83c\\udf81\",\"\\ud83d\\udc3c\",\"\\ud83e\\udd1e\",\"\\ud83e\\udddd\",\"\\ud83d\\udc9b\",\"\\ud83d\\ude18\",\"\\ud83c\\udf83\",\"\\ud83e\\udd47\",\"\\ud83c\\udf5f\",\"\\ud83d\\ude08\",\"\\ud83e\\udde0\",\"\\ud83c\\udfa4\",\"\\ud83e\\udd8c\",\"\\ud83e\\uddb6\",\"\\ud83d\\udc10\",\"\\ud83d\\udca9\",\"\\ud83e\\udd67\",\"\\ud83d\\udca3\",\"\\ud83d\\udca6\",\"\\ud83e\\udd73\",\"\\ud83d\\ude32\",\"\\ud83e\\udd17\",\"\\ud83c\\udf40\",\"\\ud83d\\ude0b\",\"\\ud83e\\uddd0\",\"\\ud83d\\udc4c\",\"\\ud83c\\udfa9\",\"\\ud83e\\udd1d\",\"\\ud83d\\udc0f\",\"\\ud83c\\udf77\",\"\\ud83d\\udc7d\",\"\\ud83e\\udd16\",\"\\ud83e\\uddd9\",\"\\ud83e\\udd86\",\"\\ud83d\\udcb0\",\"\\ud83d\\ude07\",\"\\ud83d\\udc23\",\"\\ud83e\\udde8\",\"\\ud83c\\udf0c\",\"\\ud83d\\ude10\",\"\\ud83c\\udff4\",\"\\ud83d\\ude14\",\"\\ud83d\\udc99\",\"\\ud83c\\udf6d\",\"\\ud83d\\ude4f\",\"\\ud83d\\ude1c\",\"\\ud83c\\udf41\",\"\\ud83c\\udf43\",\"\\ud83c\\udf42\",\"\\ud83d\\udc0d\",\"\\ud83d\\udca1\",\"\\ud83e\\udde6\",\"\\ud83d\\udcab\",\"\\ud83e\\uddc0\",\"\\ud83e\\uddc1\",\"\\ud83e\\udd8a\",\"\\ud83d\\udc1c\",\"\\ud83d\\ude0d\",\"\\ud83d\\udc5f\",\"\\ud83e\\udd21\",\"\\ud83c\\udfbc\",\"\\ud83e\\udd70\",\"\\ud83d\\udc09\",\"\\ud83d\\udc68\",\"\\ud83d\\udc69\",\"\\u2b50\",\"\\u26c4\",\"\\ud83c\\udf85\",\"\\ud83d\\udc9d\",\"\\ud83d\\ude34\",\"\\ud83c\\udf5c\",\"\\u26be\",\"\\ud83e\\udd99\",\"\\ud83d\\udef8\",\"\\ud83d\\udc3b\",\"\\ud83d\\udc97\",\"\\ud83d\\udc7e\",\"\\ud83c\\udfae\",\"\\ud83d\\udc36\",\"\\ud83d\\ude1b\",\"\\ud83d\\udd2c\",\"\\ud83d\\ude31\",\"\\ud83e\\udd84\",\"\\ud83c\\udf69\",\"\\ud83c\\udf89\",\"\\ud83c\\udf82\",\"\\ud83e\\udddb\",\"\\ud83c\\udf52\",\"\\ud83e\\udde1\",\"\\ud83d\\udc9a\",\"\\ud83d\\udc9c\",\"\\ud83c\\udf08\",\"\\u26fa\",\"\\u26ea\",\"\\ud83c\\udf03\",\"\\ud83c\\udf44\",\"\\ud83c\\udf55\",\"\\ud83d\\ude03\",\"\\ud83d\\ude43\",\"\\ud83d\\ude97\",\"\\ud83d\\ude99\",\"\\ud83c\\udf38\",\"\\ud83d\\udc31\"],\"xaxis\":\"x\",\"y\":[4,34,50,3,226,20,2,11,5,4,8,9,28,5,38,1,5,48,18,9,3,1,2,7,1,4,1,4,2,4,5,2,3,3,1,2,1,1,1,4,15,1,1,17,2,1,4,3,3,1,1,2,7,2,1,1,1,1,7,1,1,1,2,5,2,1,1,3,3,10,4,3,1,6,2,1,3,1,9,3,4,4,1,2,1,1,2,1,1,3,4,2,3,4,1,3,1,3,3,2,13,1,1,2,2,6,1,2,2,1,2,2,1,1,1,1,1,2,2,1,1,16,4,1,2,1,1,1,3,1,2,1,2,1,1,1,1,1,1,1,1,1,1,1,3,1,1,1,1,1,1],\"yaxis\":\"y\",\"type\":\"bar\"}],                        {\"template\":{\"data\":{\"bar\":[{\"error_x\":{\"color\":\"#2a3f5f\"},\"error_y\":{\"color\":\"#2a3f5f\"},\"marker\":{\"line\":{\"color\":\"#E5ECF6\",\"width\":0.5},\"pattern\":{\"fillmode\":\"overlay\",\"size\":10,\"solidity\":0.2}},\"type\":\"bar\"}],\"barpolar\":[{\"marker\":{\"line\":{\"color\":\"#E5ECF6\",\"width\":0.5},\"pattern\":{\"fillmode\":\"overlay\",\"size\":10,\"solidity\":0.2}},\"type\":\"barpolar\"}],\"carpet\":[{\"aaxis\":{\"endlinecolor\":\"#2a3f5f\",\"gridcolor\":\"white\",\"linecolor\":\"white\",\"minorgridcolor\":\"white\",\"startlinecolor\":\"#2a3f5f\"},\"baxis\":{\"endlinecolor\":\"#2a3f5f\",\"gridcolor\":\"white\",\"linecolor\":\"white\",\"minorgridcolor\":\"white\",\"startlinecolor\":\"#2a3f5f\"},\"type\":\"carpet\"}],\"choropleth\":[{\"colorbar\":{\"outlinewidth\":0,\"ticks\":\"\"},\"type\":\"choropleth\"}],\"contour\":[{\"colorbar\":{\"outlinewidth\":0,\"ticks\":\"\"},\"colorscale\":[[0.0,\"#0d0887\"],[0.1111111111111111,\"#46039f\"],[0.2222222222222222,\"#7201a8\"],[0.3333333333333333,\"#9c179e\"],[0.4444444444444444,\"#bd3786\"],[0.5555555555555556,\"#d8576b\"],[0.6666666666666666,\"#ed7953\"],[0.7777777777777778,\"#fb9f3a\"],[0.8888888888888888,\"#fdca26\"],[1.0,\"#f0f921\"]],\"type\":\"contour\"}],\"contourcarpet\":[{\"colorbar\":{\"outlinewidth\":0,\"ticks\":\"\"},\"type\":\"contourcarpet\"}],\"heatmap\":[{\"colorbar\":{\"outlinewidth\":0,\"ticks\":\"\"},\"colorscale\":[[0.0,\"#0d0887\"],[0.1111111111111111,\"#46039f\"],[0.2222222222222222,\"#7201a8\"],[0.3333333333333333,\"#9c179e\"],[0.4444444444444444,\"#bd3786\"],[0.5555555555555556,\"#d8576b\"],[0.6666666666666666,\"#ed7953\"],[0.7777777777777778,\"#fb9f3a\"],[0.8888888888888888,\"#fdca26\"],[1.0,\"#f0f921\"]],\"type\":\"heatmap\"}],\"heatmapgl\":[{\"colorbar\":{\"outlinewidth\":0,\"ticks\":\"\"},\"colorscale\":[[0.0,\"#0d0887\"],[0.1111111111111111,\"#46039f\"],[0.2222222222222222,\"#7201a8\"],[0.3333333333333333,\"#9c179e\"],[0.4444444444444444,\"#bd3786\"],[0.5555555555555556,\"#d8576b\"],[0.6666666666666666,\"#ed7953\"],[0.7777777777777778,\"#fb9f3a\"],[0.8888888888888888,\"#fdca26\"],[1.0,\"#f0f921\"]],\"type\":\"heatmapgl\"}],\"histogram\":[{\"marker\":{\"pattern\":{\"fillmode\":\"overlay\",\"size\":10,\"solidity\":0.2}},\"type\":\"histogram\"}],\"histogram2d\":[{\"colorbar\":{\"outlinewidth\":0,\"ticks\":\"\"},\"colorscale\":[[0.0,\"#0d0887\"],[0.1111111111111111,\"#46039f\"],[0.2222222222222222,\"#7201a8\"],[0.3333333333333333,\"#9c179e\"],[0.4444444444444444,\"#bd3786\"],[0.5555555555555556,\"#d8576b\"],[0.6666666666666666,\"#ed7953\"],[0.7777777777777778,\"#fb9f3a\"],[0.8888888888888888,\"#fdca26\"],[1.0,\"#f0f921\"]],\"type\":\"histogram2d\"}],\"histogram2dcontour\":[{\"colorbar\":{\"outlinewidth\":0,\"ticks\":\"\"},\"colorscale\":[[0.0,\"#0d0887\"],[0.1111111111111111,\"#46039f\"],[0.2222222222222222,\"#7201a8\"],[0.3333333333333333,\"#9c179e\"],[0.4444444444444444,\"#bd3786\"],[0.5555555555555556,\"#d8576b\"],[0.6666666666666666,\"#ed7953\"],[0.7777777777777778,\"#fb9f3a\"],[0.8888888888888888,\"#fdca26\"],[1.0,\"#f0f921\"]],\"type\":\"histogram2dcontour\"}],\"mesh3d\":[{\"colorbar\":{\"outlinewidth\":0,\"ticks\":\"\"},\"type\":\"mesh3d\"}],\"parcoords\":[{\"line\":{\"colorbar\":{\"outlinewidth\":0,\"ticks\":\"\"}},\"type\":\"parcoords\"}],\"pie\":[{\"automargin\":true,\"type\":\"pie\"}],\"scatter\":[{\"marker\":{\"colorbar\":{\"outlinewidth\":0,\"ticks\":\"\"}},\"type\":\"scatter\"}],\"scatter3d\":[{\"line\":{\"colorbar\":{\"outlinewidth\":0,\"ticks\":\"\"}},\"marker\":{\"colorbar\":{\"outlinewidth\":0,\"ticks\":\"\"}},\"type\":\"scatter3d\"}],\"scattercarpet\":[{\"marker\":{\"colorbar\":{\"outlinewidth\":0,\"ticks\":\"\"}},\"type\":\"scattercarpet\"}],\"scattergeo\":[{\"marker\":{\"colorbar\":{\"outlinewidth\":0,\"ticks\":\"\"}},\"type\":\"scattergeo\"}],\"scattergl\":[{\"marker\":{\"colorbar\":{\"outlinewidth\":0,\"ticks\":\"\"}},\"type\":\"scattergl\"}],\"scattermapbox\":[{\"marker\":{\"colorbar\":{\"outlinewidth\":0,\"ticks\":\"\"}},\"type\":\"scattermapbox\"}],\"scatterpolar\":[{\"marker\":{\"colorbar\":{\"outlinewidth\":0,\"ticks\":\"\"}},\"type\":\"scatterpolar\"}],\"scatterpolargl\":[{\"marker\":{\"colorbar\":{\"outlinewidth\":0,\"ticks\":\"\"}},\"type\":\"scatterpolargl\"}],\"scatterternary\":[{\"marker\":{\"colorbar\":{\"outlinewidth\":0,\"ticks\":\"\"}},\"type\":\"scatterternary\"}],\"surface\":[{\"colorbar\":{\"outlinewidth\":0,\"ticks\":\"\"},\"colorscale\":[[0.0,\"#0d0887\"],[0.1111111111111111,\"#46039f\"],[0.2222222222222222,\"#7201a8\"],[0.3333333333333333,\"#9c179e\"],[0.4444444444444444,\"#bd3786\"],[0.5555555555555556,\"#d8576b\"],[0.6666666666666666,\"#ed7953\"],[0.7777777777777778,\"#fb9f3a\"],[0.8888888888888888,\"#fdca26\"],[1.0,\"#f0f921\"]],\"type\":\"surface\"}],\"table\":[{\"cells\":{\"fill\":{\"color\":\"#EBF0F8\"},\"line\":{\"color\":\"white\"}},\"header\":{\"fill\":{\"color\":\"#C8D4E3\"},\"line\":{\"color\":\"white\"}},\"type\":\"table\"}]},\"layout\":{\"annotationdefaults\":{\"arrowcolor\":\"#2a3f5f\",\"arrowhead\":0,\"arrowwidth\":1},\"autotypenumbers\":\"strict\",\"coloraxis\":{\"colorbar\":{\"outlinewidth\":0,\"ticks\":\"\"}},\"colorscale\":{\"diverging\":[[0,\"#8e0152\"],[0.1,\"#c51b7d\"],[0.2,\"#de77ae\"],[0.3,\"#f1b6da\"],[0.4,\"#fde0ef\"],[0.5,\"#f7f7f7\"],[0.6,\"#e6f5d0\"],[0.7,\"#b8e186\"],[0.8,\"#7fbc41\"],[0.9,\"#4d9221\"],[1,\"#276419\"]],\"sequential\":[[0.0,\"#0d0887\"],[0.1111111111111111,\"#46039f\"],[0.2222222222222222,\"#7201a8\"],[0.3333333333333333,\"#9c179e\"],[0.4444444444444444,\"#bd3786\"],[0.5555555555555556,\"#d8576b\"],[0.6666666666666666,\"#ed7953\"],[0.7777777777777778,\"#fb9f3a\"],[0.8888888888888888,\"#fdca26\"],[1.0,\"#f0f921\"]],\"sequentialminus\":[[0.0,\"#0d0887\"],[0.1111111111111111,\"#46039f\"],[0.2222222222222222,\"#7201a8\"],[0.3333333333333333,\"#9c179e\"],[0.4444444444444444,\"#bd3786\"],[0.5555555555555556,\"#d8576b\"],[0.6666666666666666,\"#ed7953\"],[0.7777777777777778,\"#fb9f3a\"],[0.8888888888888888,\"#fdca26\"],[1.0,\"#f0f921\"]]},\"colorway\":[\"#636efa\",\"#EF553B\",\"#00cc96\",\"#ab63fa\",\"#FFA15A\",\"#19d3f3\",\"#FF6692\",\"#B6E880\",\"#FF97FF\",\"#FECB52\"],\"font\":{\"color\":\"#2a3f5f\"},\"geo\":{\"bgcolor\":\"white\",\"lakecolor\":\"white\",\"landcolor\":\"#E5ECF6\",\"showlakes\":true,\"showland\":true,\"subunitcolor\":\"white\"},\"hoverlabel\":{\"align\":\"left\"},\"hovermode\":\"closest\",\"mapbox\":{\"style\":\"light\"},\"paper_bgcolor\":\"white\",\"plot_bgcolor\":\"#E5ECF6\",\"polar\":{\"angularaxis\":{\"gridcolor\":\"white\",\"linecolor\":\"white\",\"ticks\":\"\"},\"bgcolor\":\"#E5ECF6\",\"radialaxis\":{\"gridcolor\":\"white\",\"linecolor\":\"white\",\"ticks\":\"\"}},\"scene\":{\"xaxis\":{\"backgroundcolor\":\"#E5ECF6\",\"gridcolor\":\"white\",\"gridwidth\":2,\"linecolor\":\"white\",\"showbackground\":true,\"ticks\":\"\",\"zerolinecolor\":\"white\"},\"yaxis\":{\"backgroundcolor\":\"#E5ECF6\",\"gridcolor\":\"white\",\"gridwidth\":2,\"linecolor\":\"white\",\"showbackground\":true,\"ticks\":\"\",\"zerolinecolor\":\"white\"},\"zaxis\":{\"backgroundcolor\":\"#E5ECF6\",\"gridcolor\":\"white\",\"gridwidth\":2,\"linecolor\":\"white\",\"showbackground\":true,\"ticks\":\"\",\"zerolinecolor\":\"white\"}},\"shapedefaults\":{\"line\":{\"color\":\"#2a3f5f\"}},\"ternary\":{\"aaxis\":{\"gridcolor\":\"white\",\"linecolor\":\"white\",\"ticks\":\"\"},\"baxis\":{\"gridcolor\":\"white\",\"linecolor\":\"white\",\"ticks\":\"\"},\"bgcolor\":\"#E5ECF6\",\"caxis\":{\"gridcolor\":\"white\",\"linecolor\":\"white\",\"ticks\":\"\"}},\"title\":{\"x\":0.05},\"xaxis\":{\"automargin\":true,\"gridcolor\":\"white\",\"linecolor\":\"white\",\"ticks\":\"\",\"title\":{\"standoff\":15},\"zerolinecolor\":\"white\",\"zerolinewidth\":2},\"yaxis\":{\"automargin\":true,\"gridcolor\":\"white\",\"linecolor\":\"white\",\"ticks\":\"\",\"title\":{\"standoff\":15},\"zerolinecolor\":\"white\",\"zerolinewidth\":2}}},\"xaxis\":{\"anchor\":\"y\",\"domain\":[0.0,1.0],\"title\":{\"text\":\"x\"}},\"yaxis\":{\"anchor\":\"x\",\"domain\":[0.0,1.0],\"title\":{\"text\":\"y\"}},\"legend\":{\"tracegroupgap\":0},\"margin\":{\"t\":60},\"barmode\":\"relative\"},                        {\"responsive\": true}                    ).then(function(){\n",
              "                            \n",
              "var gd = document.getElementById('b47b082d-bc46-44cb-b6d8-aa8ea8cdcebd');\n",
              "var x = new MutationObserver(function (mutations, observer) {{\n",
              "        var display = window.getComputedStyle(gd).display;\n",
              "        if (!display || display === 'none') {{\n",
              "            console.log([gd, 'removed!']);\n",
              "            Plotly.purge(gd);\n",
              "            observer.disconnect();\n",
              "        }}\n",
              "}});\n",
              "\n",
              "// Listen for the removal of the full notebook cells\n",
              "var notebookContainer = gd.closest('#notebook-container');\n",
              "if (notebookContainer) {{\n",
              "    x.observe(notebookContainer, {childList: true});\n",
              "}}\n",
              "\n",
              "// Listen for the clearing of the current output cell\n",
              "var outputEl = gd.closest('.output');\n",
              "if (outputEl) {{\n",
              "    x.observe(outputEl, {childList: true});\n",
              "}}\n",
              "\n",
              "                        })                };                            </script>        </div>\n",
              "</body>\n",
              "</html>"
            ]
          },
          "metadata": {}
        }
      ]
    },
    {
      "cell_type": "markdown",
      "metadata": {
        "id": "EXteVdg6czQQ"
      },
      "source": [
        "What about only the most frequently used ones?"
      ]
    },
    {
      "cell_type": "code",
      "metadata": {
        "id": "Mqz1ozAKbYvG",
        "outputId": "1cb71c4a-28f0-4650-e298-f6d53cd42a88",
        "colab": {
          "base_uri": "https://localhost:8080/",
          "height": 542
        }
      },
      "source": [
        "common_emojis = {}\n",
        "for an_emoji,freq in emoji_freq.items():\n",
        "    if freq > 10:\n",
        "        common_emojis[an_emoji] = freq\n",
        "\n",
        "plotly.express.bar(x=list(common_emojis.keys()),y=list(common_emojis.values()))"
      ],
      "execution_count": 81,
      "outputs": [
        {
          "output_type": "display_data",
          "data": {
            "text/html": [
              "<html>\n",
              "<head><meta charset=\"utf-8\" /></head>\n",
              "<body>\n",
              "    <div>            <script src=\"https://cdnjs.cloudflare.com/ajax/libs/mathjax/2.7.5/MathJax.js?config=TeX-AMS-MML_SVG\"></script><script type=\"text/javascript\">if (window.MathJax) {MathJax.Hub.Config({SVG: {font: \"STIX-Web\"}});}</script>                <script type=\"text/javascript\">window.PlotlyConfig = {MathJaxConfig: 'local'};</script>\n",
              "        <script src=\"https://cdn.plot.ly/plotly-2.8.3.min.js\"></script>                <div id=\"d1a33727-6168-425a-9408-4c80ce470e5c\" class=\"plotly-graph-div\" style=\"height:525px; width:100%;\"></div>            <script type=\"text/javascript\">                                    window.PLOTLYENV=window.PLOTLYENV || {};                                    if (document.getElementById(\"d1a33727-6168-425a-9408-4c80ce470e5c\")) {                    Plotly.newPlot(                        \"d1a33727-6168-425a-9408-4c80ce470e5c\",                        [{\"alignmentgroup\":\"True\",\"hovertemplate\":\"x=%{x}<br>y=%{y}<extra></extra>\",\"legendgroup\":\"\",\"marker\":{\"color\":\"#636efa\",\"pattern\":{\"shape\":\"\"}},\"name\":\"\",\"offsetgroup\":\"\",\"orientation\":\"v\",\"showlegend\":false,\"textposition\":\"auto\",\"x\":[\"\\ud83d\\udd25\",\"\\ud83d\\udda4\",\"\\ud83e\\udd23\",\"\\ud83d\\udc95\",\"\\ud83e\\udd14\",\"\\ud83d\\ude09\",\"\\ud83d\\ude80\",\"\\ud83d\\ude00\",\"\\ud83d\\udc4d\",\"\\ud83d\\udca8\",\"\\ud83d\\ude98\",\"\\ud83d\\udcab\",\"\\ud83d\\udef8\"],\"xaxis\":\"x\",\"y\":[34,50,226,20,11,28,38,48,18,15,17,13,16],\"yaxis\":\"y\",\"type\":\"bar\"}],                        {\"template\":{\"data\":{\"bar\":[{\"error_x\":{\"color\":\"#2a3f5f\"},\"error_y\":{\"color\":\"#2a3f5f\"},\"marker\":{\"line\":{\"color\":\"#E5ECF6\",\"width\":0.5},\"pattern\":{\"fillmode\":\"overlay\",\"size\":10,\"solidity\":0.2}},\"type\":\"bar\"}],\"barpolar\":[{\"marker\":{\"line\":{\"color\":\"#E5ECF6\",\"width\":0.5},\"pattern\":{\"fillmode\":\"overlay\",\"size\":10,\"solidity\":0.2}},\"type\":\"barpolar\"}],\"carpet\":[{\"aaxis\":{\"endlinecolor\":\"#2a3f5f\",\"gridcolor\":\"white\",\"linecolor\":\"white\",\"minorgridcolor\":\"white\",\"startlinecolor\":\"#2a3f5f\"},\"baxis\":{\"endlinecolor\":\"#2a3f5f\",\"gridcolor\":\"white\",\"linecolor\":\"white\",\"minorgridcolor\":\"white\",\"startlinecolor\":\"#2a3f5f\"},\"type\":\"carpet\"}],\"choropleth\":[{\"colorbar\":{\"outlinewidth\":0,\"ticks\":\"\"},\"type\":\"choropleth\"}],\"contour\":[{\"colorbar\":{\"outlinewidth\":0,\"ticks\":\"\"},\"colorscale\":[[0.0,\"#0d0887\"],[0.1111111111111111,\"#46039f\"],[0.2222222222222222,\"#7201a8\"],[0.3333333333333333,\"#9c179e\"],[0.4444444444444444,\"#bd3786\"],[0.5555555555555556,\"#d8576b\"],[0.6666666666666666,\"#ed7953\"],[0.7777777777777778,\"#fb9f3a\"],[0.8888888888888888,\"#fdca26\"],[1.0,\"#f0f921\"]],\"type\":\"contour\"}],\"contourcarpet\":[{\"colorbar\":{\"outlinewidth\":0,\"ticks\":\"\"},\"type\":\"contourcarpet\"}],\"heatmap\":[{\"colorbar\":{\"outlinewidth\":0,\"ticks\":\"\"},\"colorscale\":[[0.0,\"#0d0887\"],[0.1111111111111111,\"#46039f\"],[0.2222222222222222,\"#7201a8\"],[0.3333333333333333,\"#9c179e\"],[0.4444444444444444,\"#bd3786\"],[0.5555555555555556,\"#d8576b\"],[0.6666666666666666,\"#ed7953\"],[0.7777777777777778,\"#fb9f3a\"],[0.8888888888888888,\"#fdca26\"],[1.0,\"#f0f921\"]],\"type\":\"heatmap\"}],\"heatmapgl\":[{\"colorbar\":{\"outlinewidth\":0,\"ticks\":\"\"},\"colorscale\":[[0.0,\"#0d0887\"],[0.1111111111111111,\"#46039f\"],[0.2222222222222222,\"#7201a8\"],[0.3333333333333333,\"#9c179e\"],[0.4444444444444444,\"#bd3786\"],[0.5555555555555556,\"#d8576b\"],[0.6666666666666666,\"#ed7953\"],[0.7777777777777778,\"#fb9f3a\"],[0.8888888888888888,\"#fdca26\"],[1.0,\"#f0f921\"]],\"type\":\"heatmapgl\"}],\"histogram\":[{\"marker\":{\"pattern\":{\"fillmode\":\"overlay\",\"size\":10,\"solidity\":0.2}},\"type\":\"histogram\"}],\"histogram2d\":[{\"colorbar\":{\"outlinewidth\":0,\"ticks\":\"\"},\"colorscale\":[[0.0,\"#0d0887\"],[0.1111111111111111,\"#46039f\"],[0.2222222222222222,\"#7201a8\"],[0.3333333333333333,\"#9c179e\"],[0.4444444444444444,\"#bd3786\"],[0.5555555555555556,\"#d8576b\"],[0.6666666666666666,\"#ed7953\"],[0.7777777777777778,\"#fb9f3a\"],[0.8888888888888888,\"#fdca26\"],[1.0,\"#f0f921\"]],\"type\":\"histogram2d\"}],\"histogram2dcontour\":[{\"colorbar\":{\"outlinewidth\":0,\"ticks\":\"\"},\"colorscale\":[[0.0,\"#0d0887\"],[0.1111111111111111,\"#46039f\"],[0.2222222222222222,\"#7201a8\"],[0.3333333333333333,\"#9c179e\"],[0.4444444444444444,\"#bd3786\"],[0.5555555555555556,\"#d8576b\"],[0.6666666666666666,\"#ed7953\"],[0.7777777777777778,\"#fb9f3a\"],[0.8888888888888888,\"#fdca26\"],[1.0,\"#f0f921\"]],\"type\":\"histogram2dcontour\"}],\"mesh3d\":[{\"colorbar\":{\"outlinewidth\":0,\"ticks\":\"\"},\"type\":\"mesh3d\"}],\"parcoords\":[{\"line\":{\"colorbar\":{\"outlinewidth\":0,\"ticks\":\"\"}},\"type\":\"parcoords\"}],\"pie\":[{\"automargin\":true,\"type\":\"pie\"}],\"scatter\":[{\"marker\":{\"colorbar\":{\"outlinewidth\":0,\"ticks\":\"\"}},\"type\":\"scatter\"}],\"scatter3d\":[{\"line\":{\"colorbar\":{\"outlinewidth\":0,\"ticks\":\"\"}},\"marker\":{\"colorbar\":{\"outlinewidth\":0,\"ticks\":\"\"}},\"type\":\"scatter3d\"}],\"scattercarpet\":[{\"marker\":{\"colorbar\":{\"outlinewidth\":0,\"ticks\":\"\"}},\"type\":\"scattercarpet\"}],\"scattergeo\":[{\"marker\":{\"colorbar\":{\"outlinewidth\":0,\"ticks\":\"\"}},\"type\":\"scattergeo\"}],\"scattergl\":[{\"marker\":{\"colorbar\":{\"outlinewidth\":0,\"ticks\":\"\"}},\"type\":\"scattergl\"}],\"scattermapbox\":[{\"marker\":{\"colorbar\":{\"outlinewidth\":0,\"ticks\":\"\"}},\"type\":\"scattermapbox\"}],\"scatterpolar\":[{\"marker\":{\"colorbar\":{\"outlinewidth\":0,\"ticks\":\"\"}},\"type\":\"scatterpolar\"}],\"scatterpolargl\":[{\"marker\":{\"colorbar\":{\"outlinewidth\":0,\"ticks\":\"\"}},\"type\":\"scatterpolargl\"}],\"scatterternary\":[{\"marker\":{\"colorbar\":{\"outlinewidth\":0,\"ticks\":\"\"}},\"type\":\"scatterternary\"}],\"surface\":[{\"colorbar\":{\"outlinewidth\":0,\"ticks\":\"\"},\"colorscale\":[[0.0,\"#0d0887\"],[0.1111111111111111,\"#46039f\"],[0.2222222222222222,\"#7201a8\"],[0.3333333333333333,\"#9c179e\"],[0.4444444444444444,\"#bd3786\"],[0.5555555555555556,\"#d8576b\"],[0.6666666666666666,\"#ed7953\"],[0.7777777777777778,\"#fb9f3a\"],[0.8888888888888888,\"#fdca26\"],[1.0,\"#f0f921\"]],\"type\":\"surface\"}],\"table\":[{\"cells\":{\"fill\":{\"color\":\"#EBF0F8\"},\"line\":{\"color\":\"white\"}},\"header\":{\"fill\":{\"color\":\"#C8D4E3\"},\"line\":{\"color\":\"white\"}},\"type\":\"table\"}]},\"layout\":{\"annotationdefaults\":{\"arrowcolor\":\"#2a3f5f\",\"arrowhead\":0,\"arrowwidth\":1},\"autotypenumbers\":\"strict\",\"coloraxis\":{\"colorbar\":{\"outlinewidth\":0,\"ticks\":\"\"}},\"colorscale\":{\"diverging\":[[0,\"#8e0152\"],[0.1,\"#c51b7d\"],[0.2,\"#de77ae\"],[0.3,\"#f1b6da\"],[0.4,\"#fde0ef\"],[0.5,\"#f7f7f7\"],[0.6,\"#e6f5d0\"],[0.7,\"#b8e186\"],[0.8,\"#7fbc41\"],[0.9,\"#4d9221\"],[1,\"#276419\"]],\"sequential\":[[0.0,\"#0d0887\"],[0.1111111111111111,\"#46039f\"],[0.2222222222222222,\"#7201a8\"],[0.3333333333333333,\"#9c179e\"],[0.4444444444444444,\"#bd3786\"],[0.5555555555555556,\"#d8576b\"],[0.6666666666666666,\"#ed7953\"],[0.7777777777777778,\"#fb9f3a\"],[0.8888888888888888,\"#fdca26\"],[1.0,\"#f0f921\"]],\"sequentialminus\":[[0.0,\"#0d0887\"],[0.1111111111111111,\"#46039f\"],[0.2222222222222222,\"#7201a8\"],[0.3333333333333333,\"#9c179e\"],[0.4444444444444444,\"#bd3786\"],[0.5555555555555556,\"#d8576b\"],[0.6666666666666666,\"#ed7953\"],[0.7777777777777778,\"#fb9f3a\"],[0.8888888888888888,\"#fdca26\"],[1.0,\"#f0f921\"]]},\"colorway\":[\"#636efa\",\"#EF553B\",\"#00cc96\",\"#ab63fa\",\"#FFA15A\",\"#19d3f3\",\"#FF6692\",\"#B6E880\",\"#FF97FF\",\"#FECB52\"],\"font\":{\"color\":\"#2a3f5f\"},\"geo\":{\"bgcolor\":\"white\",\"lakecolor\":\"white\",\"landcolor\":\"#E5ECF6\",\"showlakes\":true,\"showland\":true,\"subunitcolor\":\"white\"},\"hoverlabel\":{\"align\":\"left\"},\"hovermode\":\"closest\",\"mapbox\":{\"style\":\"light\"},\"paper_bgcolor\":\"white\",\"plot_bgcolor\":\"#E5ECF6\",\"polar\":{\"angularaxis\":{\"gridcolor\":\"white\",\"linecolor\":\"white\",\"ticks\":\"\"},\"bgcolor\":\"#E5ECF6\",\"radialaxis\":{\"gridcolor\":\"white\",\"linecolor\":\"white\",\"ticks\":\"\"}},\"scene\":{\"xaxis\":{\"backgroundcolor\":\"#E5ECF6\",\"gridcolor\":\"white\",\"gridwidth\":2,\"linecolor\":\"white\",\"showbackground\":true,\"ticks\":\"\",\"zerolinecolor\":\"white\"},\"yaxis\":{\"backgroundcolor\":\"#E5ECF6\",\"gridcolor\":\"white\",\"gridwidth\":2,\"linecolor\":\"white\",\"showbackground\":true,\"ticks\":\"\",\"zerolinecolor\":\"white\"},\"zaxis\":{\"backgroundcolor\":\"#E5ECF6\",\"gridcolor\":\"white\",\"gridwidth\":2,\"linecolor\":\"white\",\"showbackground\":true,\"ticks\":\"\",\"zerolinecolor\":\"white\"}},\"shapedefaults\":{\"line\":{\"color\":\"#2a3f5f\"}},\"ternary\":{\"aaxis\":{\"gridcolor\":\"white\",\"linecolor\":\"white\",\"ticks\":\"\"},\"baxis\":{\"gridcolor\":\"white\",\"linecolor\":\"white\",\"ticks\":\"\"},\"bgcolor\":\"#E5ECF6\",\"caxis\":{\"gridcolor\":\"white\",\"linecolor\":\"white\",\"ticks\":\"\"}},\"title\":{\"x\":0.05},\"xaxis\":{\"automargin\":true,\"gridcolor\":\"white\",\"linecolor\":\"white\",\"ticks\":\"\",\"title\":{\"standoff\":15},\"zerolinecolor\":\"white\",\"zerolinewidth\":2},\"yaxis\":{\"automargin\":true,\"gridcolor\":\"white\",\"linecolor\":\"white\",\"ticks\":\"\",\"title\":{\"standoff\":15},\"zerolinecolor\":\"white\",\"zerolinewidth\":2}}},\"xaxis\":{\"anchor\":\"y\",\"domain\":[0.0,1.0],\"title\":{\"text\":\"x\"}},\"yaxis\":{\"anchor\":\"x\",\"domain\":[0.0,1.0],\"title\":{\"text\":\"y\"}},\"legend\":{\"tracegroupgap\":0},\"margin\":{\"t\":60},\"barmode\":\"relative\"},                        {\"responsive\": true}                    ).then(function(){\n",
              "                            \n",
              "var gd = document.getElementById('d1a33727-6168-425a-9408-4c80ce470e5c');\n",
              "var x = new MutationObserver(function (mutations, observer) {{\n",
              "        var display = window.getComputedStyle(gd).display;\n",
              "        if (!display || display === 'none') {{\n",
              "            console.log([gd, 'removed!']);\n",
              "            Plotly.purge(gd);\n",
              "            observer.disconnect();\n",
              "        }}\n",
              "}});\n",
              "\n",
              "// Listen for the removal of the full notebook cells\n",
              "var notebookContainer = gd.closest('#notebook-container');\n",
              "if (notebookContainer) {{\n",
              "    x.observe(notebookContainer, {childList: true});\n",
              "}}\n",
              "\n",
              "// Listen for the clearing of the current output cell\n",
              "var outputEl = gd.closest('.output');\n",
              "if (outputEl) {{\n",
              "    x.observe(outputEl, {childList: true});\n",
              "}}\n",
              "\n",
              "                        })                };                            </script>        </div>\n",
              "</body>\n",
              "</html>"
            ]
          },
          "metadata": {}
        }
      ]
    },
    {
      "cell_type": "markdown",
      "metadata": {
        "id": "1JHlGGzR6AF_"
      },
      "source": [
        "# Feedback (Topic 3.5)\n",
        "\n",
        "[https://forms.gle/Uod5Jpr7AJ2z7cHLA](https://forms.gle/Uod5Jpr7AJ2z7cHLA)\n",
        "\n",
        "![](https://i.imgur.com/0L50D4L.png)"
      ]
    }
  ]
}