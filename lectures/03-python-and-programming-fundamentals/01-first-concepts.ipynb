{
  "nbformat": 4,
  "nbformat_minor": 0,
  "metadata": {
    "colab": {
      "name": "01-first-concepts.ipynb",
      "provenance": [],
      "toc_visible": true,
      "authorship_tag": "ABX9TyN+kCK0q14ZeXXk98kKte+P",
      "include_colab_link": true
    },
    "kernelspec": {
      "name": "python3",
      "display_name": "Python 3"
    },
    "language_info": {
      "name": "python"
    }
  },
  "cells": [
    {
      "cell_type": "markdown",
      "metadata": {
        "id": "view-in-github",
        "colab_type": "text"
      },
      "source": [
        "<a href=\"https://colab.research.google.com/github/sim-mautner/cs1010-22t1/blob/master/lectures/03-python-and-programming-fundamentals/01-first-concepts.ipynb\" target=\"_parent\"><img src=\"https://colab.research.google.com/assets/colab-badge.svg\" alt=\"Open In Colab\"/></a>"
      ]
    },
    {
      "cell_type": "markdown",
      "metadata": {
        "id": "DZASYuPR5kI3"
      },
      "source": [
        "> Topic 3<br>\n",
        "> Python and Programming Fundamentals<br>\n",
        "> COMP1010 2021 T3<br>\n",
        "> Week 1-3\n",
        "\n",
        "> Topic 3.1<br>\n",
        "> First Concepts"
      ]
    },
    {
      "cell_type": "markdown",
      "metadata": {
        "id": "Jg4-Rn-Hozhy"
      },
      "source": [
        "# 1 - Introduction to Python, Programming, and Variables"
      ]
    },
    {
      "cell_type": "markdown",
      "metadata": {
        "id": "Xbo0-z1AolkY"
      },
      "source": [
        "## First Python program\n",
        "\n",
        "What is 1 + 1?"
      ]
    },
    {
      "cell_type": "code",
      "metadata": {
        "id": "THwccXjCnnQO",
        "colab": {
          "base_uri": "https://localhost:8080/"
        },
        "outputId": "fedd8ddd-47b2-48f3-c7ad-3d6dd5b9142f"
      },
      "source": [
        "1+1"
      ],
      "execution_count": null,
      "outputs": [
        {
          "output_type": "execute_result",
          "data": {
            "text/plain": [
              "2"
            ]
          },
          "metadata": {},
          "execution_count": 1
        }
      ]
    },
    {
      "cell_type": "markdown",
      "metadata": {
        "id": "B8Jm8OlNnxBO"
      },
      "source": [
        "A shop is 12 metres by 8 metres. Social distancing rules say that there should be no more than 1 person for every 4 square meters. How many people can be in the shop at once?"
      ]
    },
    {
      "cell_type": "code",
      "metadata": {
        "id": "u-YAkdXHorg9",
        "colab": {
          "base_uri": "https://localhost:8080/"
        },
        "outputId": "c4b0980b-1193-4635-f1ea-14f46fbcd781"
      },
      "source": [
        "number_of_square_metres = 12 * 8\n",
        "number_of_people = number_of_square_metres / 4\n",
        "number_of_people"
      ],
      "execution_count": null,
      "outputs": [
        {
          "output_type": "execute_result",
          "data": {
            "text/plain": [
              "24.0"
            ]
          },
          "metadata": {},
          "execution_count": 4
        }
      ]
    },
    {
      "cell_type": "markdown",
      "metadata": {
        "id": "gQWg9GNDnyDc"
      },
      "source": [
        "A student has received marks for a course. They got:\n",
        "\n",
        "* 75% in the first assignment, which is worth 20% of the course mark\n",
        "* 80% in the second assignment, which is worth 30% of the course mark\n",
        "* 60% in the final exam, which is worth 50% of the course mark\n",
        "\n",
        "What is their overall course mark?"
      ]
    },
    {
      "cell_type": "code",
      "metadata": {
        "id": "SsxQ76EWosFG",
        "colab": {
          "base_uri": "https://localhost:8080/"
        },
        "outputId": "c0727f56-03f1-41a9-d264-05aceaabae1a"
      },
      "source": [
        "first_assignment = .75*.2\n",
        "second_assignment = .8*.3\n",
        "third_assignment = .6*.5\n",
        "final = first_assignment + second_assignment + third_assignment\n",
        "final"
      ],
      "execution_count": null,
      "outputs": [
        {
          "output_type": "execute_result",
          "data": {
            "text/plain": [
              "0.69"
            ]
          },
          "metadata": {},
          "execution_count": 5
        }
      ]
    },
    {
      "cell_type": "markdown",
      "metadata": {
        "id": "MG-14GJOwXUr"
      },
      "source": [
        "## Python on the Forums\n",
        "\n",
        "You can copy blocks of Python code into a forum post, using the <> button."
      ]
    },
    {
      "cell_type": "markdown",
      "metadata": {
        "id": "K8WHDxJqwalo"
      },
      "source": [
        "## Variables\n",
        "\n",
        "* To some extent, **variables** are comparable to the cells on a spreadsheet.\n",
        "* You can also think of them as a box. With a label on it.\n",
        "* We can put a **value** into a variable. And change it as needed."
      ]
    },
    {
      "cell_type": "markdown",
      "metadata": {
        "id": "wXzRcKCDxEmw"
      },
      "source": [
        "Create a variable."
      ]
    },
    {
      "cell_type": "code",
      "metadata": {
        "id": "uE3HprTDwaQq",
        "colab": {
          "base_uri": "https://localhost:8080/"
        },
        "outputId": "42f85698-fa5f-4f76-e3f5-c310d6e816aa"
      },
      "source": [
        "sims_age = 3\n",
        "sims_age"
      ],
      "execution_count": null,
      "outputs": [
        {
          "output_type": "execute_result",
          "data": {
            "text/plain": [
              "3"
            ]
          },
          "metadata": {},
          "execution_count": 6
        }
      ]
    },
    {
      "cell_type": "markdown",
      "metadata": {
        "id": "SlpQ9f_3xBy3"
      },
      "source": [
        "Change the value in the variable."
      ]
    },
    {
      "cell_type": "code",
      "metadata": {
        "id": "hcXApHWkxBFt",
        "colab": {
          "base_uri": "https://localhost:8080/"
        },
        "outputId": "118200fc-c864-43a9-facb-13dc17e83f08"
      },
      "source": [
        "sims_age = 5\n",
        "sims_age"
      ],
      "execution_count": null,
      "outputs": [
        {
          "output_type": "execute_result",
          "data": {
            "text/plain": [
              "5"
            ]
          },
          "metadata": {},
          "execution_count": 8
        }
      ]
    },
    {
      "cell_type": "markdown",
      "metadata": {
        "id": "E9h80tMqxAfa"
      },
      "source": [
        "Take the value in the variable, add 1 to it, and store it back into the variable."
      ]
    },
    {
      "cell_type": "code",
      "metadata": {
        "id": "B5zOon5sxSQo",
        "colab": {
          "base_uri": "https://localhost:8080/"
        },
        "outputId": "4952a9a6-6fb7-46e0-9f13-a2e9fe5b7f0e"
      },
      "source": [
        "sims_age = sims_age + 1\n",
        "sims_age"
      ],
      "execution_count": null,
      "outputs": [
        {
          "output_type": "execute_result",
          "data": {
            "text/plain": [
              "8"
            ]
          },
          "metadata": {},
          "execution_count": 11
        }
      ]
    },
    {
      "cell_type": "markdown",
      "metadata": {
        "id": "xMU9bIVoShPT"
      },
      "source": [
        "See slides for a step by step of what's happening here."
      ]
    },
    {
      "cell_type": "markdown",
      "metadata": {
        "id": "DbEnqaUnwfZp"
      },
      "source": [
        "## Variable Naming\n",
        "\n",
        "See slides on Code Style [here](https://hackmd.io/@sim/Sy1054OFO#/)."
      ]
    },
    {
      "cell_type": "markdown",
      "metadata": {
        "id": "KhmKoARh8t28"
      },
      "source": [
        "## Order Matters\n",
        "\n",
        "* A computer program is a set of instructions.\n",
        "* Like the method of a recipe, the order in which the instructions are given, and executed, matters.\n",
        "\n",
        "Before running the code below, try and guess the value of x at the end of the program."
      ]
    },
    {
      "cell_type": "markdown",
      "metadata": {
        "id": "I5MdZlSL9Wmx"
      },
      "source": [
        "Guess:\n",
        "\n",
        "Actual:"
      ]
    },
    {
      "cell_type": "code",
      "metadata": {
        "id": "91MT0mX19Hfz",
        "colab": {
          "base_uri": "https://localhost:8080/"
        },
        "outputId": "60612204-6f7a-40d8-c21e-a1ded9473f02"
      },
      "source": [
        "x = 0\n",
        "x = x + 1\n",
        "x = 5\n",
        "x"
      ],
      "execution_count": null,
      "outputs": [
        {
          "output_type": "execute_result",
          "data": {
            "text/plain": [
              "5"
            ]
          },
          "metadata": {},
          "execution_count": 12
        }
      ]
    },
    {
      "cell_type": "markdown",
      "metadata": {
        "id": "QQh8ziTO9Y9N"
      },
      "source": [
        "Guess:\n",
        "\n",
        "Actual:"
      ]
    },
    {
      "cell_type": "code",
      "metadata": {
        "id": "O-hFzb389Hza",
        "colab": {
          "base_uri": "https://localhost:8080/"
        },
        "outputId": "9f25853f-74ab-4e6f-a96d-7ebf220b99c1"
      },
      "source": [
        "x = 0\n",
        "x = 5\n",
        "x = x + 1\n",
        "x"
      ],
      "execution_count": null,
      "outputs": [
        {
          "output_type": "execute_result",
          "data": {
            "text/plain": [
              "6"
            ]
          },
          "metadata": {},
          "execution_count": 13
        }
      ]
    },
    {
      "cell_type": "markdown",
      "metadata": {
        "id": "VVcWvNsW0FM5"
      },
      "source": [
        "## Comments\n",
        "\n",
        "* Ignored by the computer\n",
        "* Start with a `#`\n",
        "* Used to help programmers read and understand their code (and make notes for themselves to come back and do things later)"
      ]
    },
    {
      "cell_type": "code",
      "metadata": {
        "id": "SSMZ3kJo0aKI"
      },
      "source": [
        "#This is not a comment\n",
        "# this is a comment\n",
        "#\n",
        "x = 5\n",
        "# x += 1 --> means the same thing as: x = x + 1\n",
        "print(x)"
      ],
      "execution_count": null,
      "outputs": []
    },
    {
      "cell_type": "markdown",
      "metadata": {
        "id": "vOBvioy3WDO_"
      },
      "source": [
        "## Learning Programming - What happens if... ?\n",
        "\n",
        "* A big part of programming is \"trying stuff and seeing what works\".\n",
        "* Ask questions.\n",
        "* Investigate.\n",
        "* Optional: Record your answers in your journal."
      ]
    },
    {
      "cell_type": "markdown",
      "metadata": {
        "id": "deE821kTx16Q"
      },
      "source": [
        "# 2 - Strings\n",
        "\n",
        "* A **string** is a sequence of characters.\n",
        "* A **character** is a letter, or space, or piece of punctuation.\n",
        "* Basically, text.\n",
        "* It is held together by quotes."
      ]
    },
    {
      "cell_type": "code",
      "metadata": {
        "id": "yIuLLiVrzDrN",
        "colab": {
          "base_uri": "https://localhost:8080/",
          "height": 35
        },
        "outputId": "3bfe2a64-bb9c-4b97-ddb2-0bf0e4ce980a"
      },
      "source": [
        "my_name = \"ada twist scientist\"\n",
        "my_name"
      ],
      "execution_count": null,
      "outputs": [
        {
          "output_type": "execute_result",
          "data": {
            "application/vnd.google.colaboratory.intrinsic+json": {
              "type": "string"
            },
            "text/plain": [
              "'ada twist scientist'"
            ]
          },
          "metadata": {},
          "execution_count": 14
        }
      ]
    },
    {
      "cell_type": "code",
      "source": [
        "another_name = 'iggy peck architect'\n",
        "another_name"
      ],
      "metadata": {
        "colab": {
          "base_uri": "https://localhost:8080/",
          "height": 35
        },
        "id": "6oOyr2tmILKf",
        "outputId": "1be3cc61-59ab-43b6-a863-3f6beb0049f8"
      },
      "execution_count": null,
      "outputs": [
        {
          "output_type": "execute_result",
          "data": {
            "application/vnd.google.colaboratory.intrinsic+json": {
              "type": "string"
            },
            "text/plain": [
              "'iggy peck architect'"
            ]
          },
          "metadata": {},
          "execution_count": 15
        }
      ]
    },
    {
      "cell_type": "markdown",
      "metadata": {
        "id": "g8GMlICtykMa"
      },
      "source": [
        "What happens if we want to have quotes inside our string?"
      ]
    },
    {
      "cell_type": "code",
      "metadata": {
        "id": "422x2l-ByXdy",
        "colab": {
          "base_uri": "https://localhost:8080/",
          "height": 35
        },
        "outputId": "14b97f6d-9e20-49fc-9f91-b442ff359292"
      },
      "source": [
        "name = \"someone 'fancy'\"\n",
        "name"
      ],
      "execution_count": null,
      "outputs": [
        {
          "output_type": "execute_result",
          "data": {
            "application/vnd.google.colaboratory.intrinsic+json": {
              "type": "string"
            },
            "text/plain": [
              "\"someone 'fancy'\""
            ]
          },
          "metadata": {},
          "execution_count": 16
        }
      ]
    },
    {
      "cell_type": "markdown",
      "metadata": {
        "id": "XeeAo1AkznrP"
      },
      "source": [
        "How can we make this work?"
      ]
    },
    {
      "cell_type": "code",
      "metadata": {
        "id": "7Z4XzLw1zpJh"
      },
      "source": [
        "# see above"
      ],
      "execution_count": null,
      "outputs": []
    },
    {
      "cell_type": "markdown",
      "metadata": {
        "id": "P_SG9SiKzSBj"
      },
      "source": [
        "What happens if we try to add strings together?"
      ]
    },
    {
      "cell_type": "code",
      "metadata": {
        "id": "WzVcM1RzzSuX",
        "colab": {
          "base_uri": "https://localhost:8080/"
        },
        "outputId": "1abd481e-0677-49a0-af0c-92b8010b7440"
      },
      "source": [
        "answer = 5 + 6\n",
        "answer"
      ],
      "execution_count": null,
      "outputs": [
        {
          "output_type": "execute_result",
          "data": {
            "text/plain": [
              "11"
            ]
          },
          "metadata": {},
          "execution_count": 17
        }
      ]
    },
    {
      "cell_type": "code",
      "source": [
        "answer = \"hello \" + \"goodbye\"\n",
        "answer"
      ],
      "metadata": {
        "colab": {
          "base_uri": "https://localhost:8080/",
          "height": 35
        },
        "id": "2iEoeOYGIkPY",
        "outputId": "d0c4d79b-ca7d-4d52-fc3a-10ef35ec85d5"
      },
      "execution_count": null,
      "outputs": [
        {
          "output_type": "execute_result",
          "data": {
            "application/vnd.google.colaboratory.intrinsic+json": {
              "type": "string"
            },
            "text/plain": [
              "'hello goodbye'"
            ]
          },
          "metadata": {},
          "execution_count": 19
        }
      ]
    },
    {
      "cell_type": "code",
      "source": [
        "answer = \"5\" + \"6\"\n",
        "answer"
      ],
      "metadata": {
        "colab": {
          "base_uri": "https://localhost:8080/",
          "height": 35
        },
        "id": "imLRAKlwIqNn",
        "outputId": "c551d9d9-76c5-4ae3-c63e-94d4a7cbd068"
      },
      "execution_count": null,
      "outputs": [
        {
          "output_type": "execute_result",
          "data": {
            "application/vnd.google.colaboratory.intrinsic+json": {
              "type": "string"
            },
            "text/plain": [
              "'56'"
            ]
          },
          "metadata": {},
          "execution_count": 20
        }
      ]
    },
    {
      "cell_type": "markdown",
      "metadata": {
        "id": "Ns0ewWPwSRJv"
      },
      "source": [
        "What happens if we try to multiply a string by a number?"
      ]
    },
    {
      "cell_type": "code",
      "metadata": {
        "id": "DDvD6n88SWIw",
        "colab": {
          "base_uri": "https://localhost:8080/",
          "height": 35
        },
        "outputId": "d1a8dd04-2d00-4913-c6e1-9c6ffbc6f49d"
      },
      "source": [
        "\"hello\" * 5"
      ],
      "execution_count": null,
      "outputs": [
        {
          "output_type": "execute_result",
          "data": {
            "application/vnd.google.colaboratory.intrinsic+json": {
              "type": "string"
            },
            "text/plain": [
              "'hellohellohellohellohello'"
            ]
          },
          "metadata": {},
          "execution_count": 21
        }
      ]
    },
    {
      "cell_type": "markdown",
      "metadata": {
        "id": "B7pFKvdMSkO0"
      },
      "source": [
        "What happens if we try to multiply a string by a string?"
      ]
    },
    {
      "cell_type": "code",
      "metadata": {
        "id": "DNakhfwTSj11",
        "colab": {
          "base_uri": "https://localhost:8080/",
          "height": 166
        },
        "outputId": "acc78f87-eb1a-4d27-c58d-017a5776a105"
      },
      "source": [
        "\"hello\" * \"goodbye\""
      ],
      "execution_count": null,
      "outputs": [
        {
          "output_type": "error",
          "ename": "TypeError",
          "evalue": "ignored",
          "traceback": [
            "\u001b[0;31m---------------------------------------------------------------------------\u001b[0m",
            "\u001b[0;31mTypeError\u001b[0m                                 Traceback (most recent call last)",
            "\u001b[0;32m<ipython-input-22-17acdbf6e882>\u001b[0m in \u001b[0;36m<module>\u001b[0;34m()\u001b[0m\n\u001b[0;32m----> 1\u001b[0;31m \u001b[0;34m\"hello\"\u001b[0m \u001b[0;34m*\u001b[0m \u001b[0;34m\"goodbye\"\u001b[0m\u001b[0;34m\u001b[0m\u001b[0;34m\u001b[0m\u001b[0m\n\u001b[0m",
            "\u001b[0;31mTypeError\u001b[0m: can't multiply sequence by non-int of type 'str'"
          ]
        }
      ]
    },
    {
      "cell_type": "markdown",
      "metadata": {
        "id": "l9sSuvhGSwIT"
      },
      "source": [
        "Can we extract individual characters?"
      ]
    },
    {
      "cell_type": "code",
      "metadata": {
        "id": "m_7sBju4TCSO",
        "colab": {
          "base_uri": "https://localhost:8080/",
          "height": 35
        },
        "outputId": "ed41f4ae-b315-4125-f528-09bbd5e884d0"
      },
      "source": [
        "name = \"ada twist scientist\"\n",
        "name[5]"
      ],
      "execution_count": null,
      "outputs": [
        {
          "output_type": "execute_result",
          "data": {
            "application/vnd.google.colaboratory.intrinsic+json": {
              "type": "string"
            },
            "text/plain": [
              "'w'"
            ]
          },
          "metadata": {},
          "execution_count": 23
        }
      ]
    },
    {
      "cell_type": "markdown",
      "source": [
        "Why when we asked for 5, expecting the 't', did we get 'w'?\n",
        "* It doesn't count the space\n",
        "* Indexing starts from zero"
      ],
      "metadata": {
        "id": "r7zQwAkDJcvi"
      }
    },
    {
      "cell_type": "code",
      "source": [
        "# Test hypothesis: \"It doesn't count the space\"\n",
        "name = \"adatwist\"\n",
        "name[4]\n",
        "# Conclusion: That wasn't the problem."
      ],
      "metadata": {
        "colab": {
          "base_uri": "https://localhost:8080/",
          "height": 35
        },
        "id": "gjScd9qCJn5t",
        "outputId": "91ed8923-93db-4355-dc90-4f3d2cadf6fa"
      },
      "execution_count": null,
      "outputs": [
        {
          "output_type": "execute_result",
          "data": {
            "application/vnd.google.colaboratory.intrinsic+json": {
              "type": "string"
            },
            "text/plain": [
              "'w'"
            ]
          },
          "metadata": {},
          "execution_count": 24
        }
      ]
    },
    {
      "cell_type": "code",
      "source": [
        "# Test hypothesis: Indexing starts from zero --> \n",
        "# We started counting with the number 1, maybe we were supposed to start counting with 0.\n",
        "\n",
        "name = \"ada twist scientist\"\n",
        "name[4]\n",
        "# Conclusion: It seems we need to start counting at 0."
      ],
      "metadata": {
        "colab": {
          "base_uri": "https://localhost:8080/",
          "height": 35
        },
        "id": "qqAMnx7TJ4hd",
        "outputId": "c0f802aa-8fda-4890-9f38-2e739af1f0d5"
      },
      "execution_count": null,
      "outputs": [
        {
          "output_type": "execute_result",
          "data": {
            "application/vnd.google.colaboratory.intrinsic+json": {
              "type": "string"
            },
            "text/plain": [
              "'t'"
            ]
          },
          "metadata": {},
          "execution_count": 25
        }
      ]
    },
    {
      "cell_type": "markdown",
      "metadata": {
        "id": "ftNEXaeHUlw5"
      },
      "source": [
        "* Strings are a sequence of characters (or **elements**).\n",
        "* Each character in the sequence has a number, this number is often referred to as the **index**.\n",
        "* When we talk about sequences, each **element** has an **index**.\n",
        "* You can also think of a string as a street with lots of houses.\n",
        "  * The string's name is the name of the street.\n",
        "  * The **index** is the house number.\n",
        "  * The **element** (or character) is who lives there.\n",
        "\n",
        " <img width=\"40%\" src=\"https://i.imgur.com/FuUEFhA.png\" />"
      ]
    },
    {
      "cell_type": "markdown",
      "metadata": {
        "id": "CRQgX47vM5nU"
      },
      "source": [
        "## What is wrong with programmers?\n",
        "\n",
        "<img width=\"40%\" src=\"https://i.imgur.com/NSxLS8D.png\" />\n",
        "\n",
        "Important info:\n",
        "\n",
        "* Programmers start counting from 0\n",
        "* This is a common source of errors for new programmers"
      ]
    },
    {
      "cell_type": "markdown",
      "metadata": {
        "id": "6uBUEwM2UaHc"
      },
      "source": [
        "## Back to Strings"
      ]
    },
    {
      "cell_type": "code",
      "source": [
        "example = \"this is my example for this question\""
      ],
      "metadata": {
        "id": "6Zs-N7yZK296"
      },
      "execution_count": null,
      "outputs": []
    },
    {
      "cell_type": "markdown",
      "metadata": {
        "id": "uasiOS9wUdNL"
      },
      "source": [
        "Can we extract parts of strings?"
      ]
    },
    {
      "cell_type": "code",
      "metadata": {
        "id": "2mMKFhcbUgKb",
        "colab": {
          "base_uri": "https://localhost:8080/",
          "height": 35
        },
        "outputId": "de58e020-ff8e-440a-a906-ad7937818509"
      },
      "source": [
        "example[1:3]"
      ],
      "execution_count": null,
      "outputs": [
        {
          "output_type": "execute_result",
          "data": {
            "application/vnd.google.colaboratory.intrinsic+json": {
              "type": "string"
            },
            "text/plain": [
              "'hi'"
            ]
          },
          "metadata": {},
          "execution_count": 28
        }
      ]
    },
    {
      "cell_type": "code",
      "source": [
        "example[5:13]"
      ],
      "metadata": {
        "colab": {
          "base_uri": "https://localhost:8080/",
          "height": 35
        },
        "id": "j_uQjoyHLEDF",
        "outputId": "bac75b77-9e88-490d-da55-020d976f5107"
      },
      "execution_count": null,
      "outputs": [
        {
          "output_type": "execute_result",
          "data": {
            "application/vnd.google.colaboratory.intrinsic+json": {
              "type": "string"
            },
            "text/plain": [
              "'is my ex'"
            ]
          },
          "metadata": {},
          "execution_count": 29
        }
      ]
    },
    {
      "cell_type": "markdown",
      "metadata": {
        "id": "qaBmGTxrUf1r"
      },
      "source": [
        "What happens if we put a negative number in as the index?"
      ]
    },
    {
      "cell_type": "code",
      "metadata": {
        "id": "War6Wm7lV9Wl",
        "colab": {
          "base_uri": "https://localhost:8080/",
          "height": 35
        },
        "outputId": "5821dafe-97c4-46d4-93d0-7aec5c7612e4"
      },
      "source": [
        "example[-1]"
      ],
      "execution_count": null,
      "outputs": [
        {
          "output_type": "execute_result",
          "data": {
            "application/vnd.google.colaboratory.intrinsic+json": {
              "type": "string"
            },
            "text/plain": [
              "'n'"
            ]
          },
          "metadata": {},
          "execution_count": 30
        }
      ]
    },
    {
      "cell_type": "code",
      "source": [
        "example[-5]"
      ],
      "metadata": {
        "colab": {
          "base_uri": "https://localhost:8080/",
          "height": 35
        },
        "id": "RGtVzXx3LUDS",
        "outputId": "0066bf03-4e94-436f-b6e0-2bb63b5d702e"
      },
      "execution_count": null,
      "outputs": [
        {
          "output_type": "execute_result",
          "data": {
            "application/vnd.google.colaboratory.intrinsic+json": {
              "type": "string"
            },
            "text/plain": [
              "'s'"
            ]
          },
          "metadata": {},
          "execution_count": 31
        }
      ]
    },
    {
      "cell_type": "code",
      "source": [
        "example[-7:-5]"
      ],
      "metadata": {
        "colab": {
          "base_uri": "https://localhost:8080/",
          "height": 35
        },
        "id": "p-ixDr6wLW0d",
        "outputId": "44ec28a2-9635-413d-b9d1-f489fc6020ec"
      },
      "execution_count": null,
      "outputs": [
        {
          "output_type": "execute_result",
          "data": {
            "application/vnd.google.colaboratory.intrinsic+json": {
              "type": "string"
            },
            "text/plain": [
              "'ue'"
            ]
          },
          "metadata": {},
          "execution_count": 32
        }
      ]
    },
    {
      "cell_type": "markdown",
      "metadata": {
        "id": "JzPhzMxp6rAr"
      },
      "source": [
        "Can we get the length of a string?"
      ]
    },
    {
      "cell_type": "code",
      "metadata": {
        "id": "cc5vOO5G6wHz",
        "colab": {
          "base_uri": "https://localhost:8080/"
        },
        "outputId": "a480b8fc-db07-4541-b25a-3853664e7624"
      },
      "source": [
        "len(example)"
      ],
      "execution_count": null,
      "outputs": [
        {
          "output_type": "execute_result",
          "data": {
            "text/plain": [
              "36"
            ]
          },
          "metadata": {},
          "execution_count": 33
        }
      ]
    },
    {
      "cell_type": "code",
      "source": [
        "len(\"a string here\")"
      ],
      "metadata": {
        "colab": {
          "base_uri": "https://localhost:8080/"
        },
        "id": "NLCBNKBwLmNE",
        "outputId": "97f00d81-3738-4498-fb00-939e28d69270"
      },
      "execution_count": null,
      "outputs": [
        {
          "output_type": "execute_result",
          "data": {
            "text/plain": [
              "13"
            ]
          },
          "metadata": {},
          "execution_count": 34
        }
      ]
    },
    {
      "cell_type": "markdown",
      "metadata": {
        "id": "sxobJv-Y8dlW"
      },
      "source": [
        "Can we count the number of e's in a string?"
      ]
    },
    {
      "cell_type": "code",
      "metadata": {
        "id": "8kE89xQQ9fgE",
        "colab": {
          "base_uri": "https://localhost:8080/"
        },
        "outputId": "0cfb8450-3293-4ba8-c361-77b8653020e5"
      },
      "source": [
        "example.count('e')"
      ],
      "execution_count": null,
      "outputs": [
        {
          "output_type": "execute_result",
          "data": {
            "text/plain": [
              "3"
            ]
          },
          "metadata": {},
          "execution_count": 36
        }
      ]
    },
    {
      "cell_type": "code",
      "source": [
        "\"a different string\".count('e')"
      ],
      "metadata": {
        "colab": {
          "base_uri": "https://localhost:8080/"
        },
        "id": "JlxQHdw2L41H",
        "outputId": "2805219f-73a0-438a-813e-6678c1852702"
      },
      "execution_count": null,
      "outputs": [
        {
          "output_type": "execute_result",
          "data": {
            "text/plain": [
              "2"
            ]
          },
          "metadata": {},
          "execution_count": 37
        }
      ]
    },
    {
      "cell_type": "markdown",
      "metadata": {
        "id": "26pq6sCa9f1D"
      },
      "source": [
        "Can we replace the the e's with a's?"
      ]
    },
    {
      "cell_type": "code",
      "metadata": {
        "id": "apa0ykn_AKjk",
        "colab": {
          "base_uri": "https://localhost:8080/",
          "height": 35
        },
        "outputId": "2667b1dd-5fc6-4c7e-a11a-ef33287d5aa4"
      },
      "source": [
        "example.replace('e','a')"
      ],
      "execution_count": null,
      "outputs": [
        {
          "output_type": "execute_result",
          "data": {
            "application/vnd.google.colaboratory.intrinsic+json": {
              "type": "string"
            },
            "text/plain": [
              "'this is my axampla for this quastion'"
            ]
          },
          "metadata": {},
          "execution_count": 39
        }
      ]
    },
    {
      "cell_type": "code",
      "source": [
        "# Find the length of my example variable\n",
        "#   len           (example)\n",
        "#    ^               ^\n",
        "#   what to do       what to do it to\n",
        "\n",
        "# Count the number of e's\n",
        "#   example                 .count            ('e')\n",
        "#    ^                         ^                ^\n",
        "#    what to do it to         what to do     extra information/details\n",
        "\n",
        "\n",
        "\n",
        "# Put your hat on your head\n",
        "# doing: put your hat on\n",
        "# to: your head\n"
      ],
      "metadata": {
        "id": "qtbPoohDPb-X"
      },
      "execution_count": null,
      "outputs": []
    },
    {
      "cell_type": "markdown",
      "metadata": {
        "id": "IhVg7mInnDuk"
      },
      "source": [
        "### Obfuscation\n",
        "Solve the problem described in this text.\n",
        "\n",
        "> Oh no, somaona hes dona somathing tarribla to my writing. Thay'va sweppad eround tha lattar 'e' end tha lattar 'a'\n",
        "\n"
      ]
    },
    {
      "cell_type": "code",
      "metadata": {
        "id": "fI2wrdtWnMZ5",
        "colab": {
          "base_uri": "https://localhost:8080/",
          "height": 35
        },
        "outputId": "8ad1f24e-1ffb-4d9e-9e45-ed8f4e053a19"
      },
      "source": [
        "text = \"Oh no, somaona hes dona somathing tarribla to my writing. Thay'va sweppad eround tha lattar 'e' end tha lattar 'a'\"\n",
        "# a's are e and e's are a\n",
        "text = text.replace('a','e')\n",
        "# a's are e and e's are e\n",
        "text = text.replace('e','a')\n",
        "# a's are a and e's are a\n",
        "text"
      ],
      "execution_count": null,
      "outputs": [
        {
          "output_type": "execute_result",
          "data": {
            "application/vnd.google.colaboratory.intrinsic+json": {
              "type": "string"
            },
            "text/plain": [
              "\"Oh no, somaona has dona somathing tarribla to my writing. Thay'va swappad around tha lattar 'a' and tha lattar 'a'\""
            ]
          },
          "metadata": {},
          "execution_count": 44
        }
      ]
    },
    {
      "cell_type": "code",
      "source": [
        "# Better, working solution\n",
        "\n",
        "text = \"Oh no, somaona hes dona somathing tarribla to my writing. Thay'va sweppad eround tha lattar 'e' end tha lattar 'a'\"\n",
        "# 1. Replace all a's with another character, which isn't in our string.\n",
        "text = text.replace('a','$')\n",
        "# 2. Replace all e's with a.\n",
        "text = text.replace('e','a')\n",
        "# 3. Replace all our \"another character which isn't in our string\", with e.\n",
        "text = text.replace('$','e')\n",
        "\n",
        "text"
      ],
      "metadata": {
        "colab": {
          "base_uri": "https://localhost:8080/",
          "height": 35
        },
        "id": "7Xm3WSgINX5O",
        "outputId": "4585614b-231a-4027-e213-6eb282461092"
      },
      "execution_count": null,
      "outputs": [
        {
          "output_type": "execute_result",
          "data": {
            "application/vnd.google.colaboratory.intrinsic+json": {
              "type": "string"
            },
            "text/plain": [
              "\"Oh no, someone has done something terrible to my writing. They've swapped around the letter 'a' and the letter 'e'\""
            ]
          },
          "metadata": {},
          "execution_count": 45
        }
      ]
    },
    {
      "cell_type": "markdown",
      "metadata": {
        "id": "pVufceYcpugu"
      },
      "source": [
        "# 3 - Functions and Methods"
      ]
    },
    {
      "cell_type": "markdown",
      "metadata": {
        "id": "clMhQF4k6wx-"
      },
      "source": [
        "## Aside: Functions vs Methods\n",
        "\n",
        "Functions:\n",
        "* **len** is one of the **built-in functions** in Python\n",
        "* other built-in functions can be found [here](https://www.w3schools.com/python/python_ref_functions.asp)\n",
        "* to call (use) a function: `function_name(variable)`\n",
        "* functions either display or return a value\n",
        "\n",
        "Methods:\n",
        "* **count** is one of the methods which can be executed on a string in Python\n",
        "* other string methods can be found [here](https://www.w3schools.com/python/python_ref_string.asp)\n",
        "* to call (use) a method: `variable.function_name()` or `variable.function_name(other, parameters, here)`"
      ]
    },
    {
      "cell_type": "markdown",
      "metadata": {
        "id": "g-n6ohsr-2Z_"
      },
      "source": [
        "## Storing the Results of a Function or Method Call"
      ]
    },
    {
      "cell_type": "markdown",
      "metadata": {
        "id": "PjPzefX1_AX4"
      },
      "source": [
        "Can we get the length of a string and store it in a variable?"
      ]
    },
    {
      "cell_type": "code",
      "metadata": {
        "id": "SKlkLvgb_EH_",
        "colab": {
          "base_uri": "https://localhost:8080/"
        },
        "outputId": "7cf57ed1-d2ab-4f79-c609-b3918780d8c3"
      },
      "source": [
        "text = \"this is my example text\"\n",
        "length_of_text = len(text)"
      ],
      "execution_count": null,
      "outputs": [
        {
          "output_type": "execute_result",
          "data": {
            "text/plain": [
              "28"
            ]
          },
          "metadata": {},
          "execution_count": 3
        }
      ]
    },
    {
      "cell_type": "markdown",
      "metadata": {
        "id": "dw3cCmbJ_Ear"
      },
      "source": [
        "Can we count the number of e's in a string and store it in a variable?"
      ]
    },
    {
      "cell_type": "code",
      "metadata": {
        "id": "LBtV3WHX_H-o",
        "colab": {
          "base_uri": "https://localhost:8080/"
        },
        "outputId": "a4849bda-2f41-4af4-d009-ccc336046a1c"
      },
      "source": [
        "number_of_es = text.count('e')\n",
        "number_of_es"
      ],
      "execution_count": null,
      "outputs": [
        {
          "output_type": "execute_result",
          "data": {
            "text/plain": [
              "3"
            ]
          },
          "metadata": {},
          "execution_count": 4
        }
      ]
    },
    {
      "cell_type": "code",
      "metadata": {
        "id": "FN0TXEC95iyW"
      },
      "source": [
        ""
      ],
      "execution_count": null,
      "outputs": []
    },
    {
      "cell_type": "markdown",
      "metadata": {
        "id": "2vG33InB4wPG"
      },
      "source": [
        "# 4 - Printing Literals and Variables\n",
        "\n",
        "* Until now we could only display one thing at the end of each code block.\n",
        "* To display more frequently, we can use the `print()` function.\n",
        "* `print()` is a built-in function, so the \"stuff to print\" goes inside the brackets.\n"
      ]
    },
    {
      "cell_type": "code",
      "metadata": {
        "id": "NyiNJbCQAVE8",
        "colab": {
          "base_uri": "https://localhost:8080/"
        },
        "outputId": "57675551-d433-47c0-9ff6-2f17c8fb23d2"
      },
      "source": [
        "name = \"Sim\"\n",
        "course = \"COMP1010\"\n",
        "location = \"online\"\n",
        "print(name)\n",
        "print(course)\n",
        "print(location)\n",
        "print(\"I'm finished now.\")"
      ],
      "execution_count": null,
      "outputs": [
        {
          "output_type": "stream",
          "name": "stdout",
          "text": [
            "Sim\n",
            "COMP1010\n",
            "online\n",
            "I'm finished now.\n"
          ]
        }
      ]
    },
    {
      "cell_type": "markdown",
      "metadata": {
        "id": "ULFZC2P1AfCY"
      },
      "source": [
        "# 5 - Special Characters\n",
        "\n"
      ]
    },
    {
      "cell_type": "markdown",
      "metadata": {
        "id": "D0qihz2Ru_ba"
      },
      "source": [
        "Strings can contain special characters that either can't be visualised or can't be typed on most keyboards.\n",
        "\n",
        "These include:\n",
        "* The \"newline\" character.\n",
        "  * Indicates that any characters after it should go on a new line.\n",
        "  * Written as \"\\n\"\n",
        "* Characters from alphabets other than the \"latin\" alphabet.\n",
        "* Emoji!\n",
        "  * Written as \"\\N{name of the emoji}\"\n",
        "  * You can look up names [here](https://emojipedia.org)"
      ]
    },
    {
      "cell_type": "markdown",
      "metadata": {
        "id": "1R2lqXZXBDaW"
      },
      "source": [
        "Can we create a string with this box in it?\n",
        "\n",
        "```\n",
        "+-----+\n",
        "|     |\n",
        "|     |\n",
        "|     |\n",
        "+-----+\n",
        "```"
      ]
    },
    {
      "cell_type": "code",
      "metadata": {
        "id": "xzOzW8jQBFPm",
        "colab": {
          "base_uri": "https://localhost:8080/"
        },
        "outputId": "bba7b986-7699-4656-afd0-7e649278c443"
      },
      "source": [
        "print(\"+-----+\")\n",
        "print(\"|     |\")\n",
        "print(\"|     |\")\n",
        "print(\"|     |\")\n",
        "print(\"+-----+\")"
      ],
      "execution_count": null,
      "outputs": [
        {
          "output_type": "stream",
          "name": "stdout",
          "text": [
            "+-----+\n",
            "|     |\n",
            "|     |\n",
            "|     |\n",
            "+-----+\n"
          ]
        }
      ]
    },
    {
      "cell_type": "code",
      "source": [
        "print(\"+-----+\\n|     |\\n|     |\\n|     |\\n+-----+\")"
      ],
      "metadata": {
        "colab": {
          "base_uri": "https://localhost:8080/"
        },
        "id": "JzoQyS2exLEk",
        "outputId": "de893af4-a4e7-4474-89f8-d4b6bbc22ba9"
      },
      "execution_count": null,
      "outputs": [
        {
          "output_type": "stream",
          "name": "stdout",
          "text": [
            "+-----+\n",
            "|     |\n",
            "|     |\n",
            "|     |\n",
            "+-----+\n"
          ]
        }
      ]
    },
    {
      "cell_type": "markdown",
      "metadata": {
        "id": "vuYuvdUB_RdE"
      },
      "source": [
        "What if we actually want to print \"\\n\"?"
      ]
    },
    {
      "cell_type": "code",
      "metadata": {
        "id": "lb51dsvu_XnK",
        "colab": {
          "base_uri": "https://localhost:8080/"
        },
        "outputId": "21dc9a6c-5f3c-424d-9e86-206c0d5ff789"
      },
      "source": [
        "print(\"\\\\n\")"
      ],
      "execution_count": null,
      "outputs": [
        {
          "output_type": "stream",
          "name": "stdout",
          "text": [
            "\\n\n"
          ]
        }
      ]
    },
    {
      "cell_type": "markdown",
      "metadata": {
        "id": "gC5bW8iN_alR"
      },
      "source": [
        "Can we take a string with spaces between the words, and change it so that each word appears on a different line?"
      ]
    },
    {
      "cell_type": "code",
      "metadata": {
        "id": "uOvJsRlMAWlj",
        "colab": {
          "base_uri": "https://localhost:8080/"
        },
        "outputId": "b93951de-5b11-4cd3-c376-b802c0ef0331"
      },
      "source": [
        "text = \"Hello my name is Sim.\"\n",
        "print(text)\n",
        "line_separated_text = text.replace(' ', '\\n')\n",
        "print(line_separated_text)"
      ],
      "execution_count": null,
      "outputs": [
        {
          "output_type": "stream",
          "name": "stdout",
          "text": [
            "Hello my name is Sim.\n",
            "Hello\n",
            "my\n",
            "name\n",
            "is\n",
            "Sim.\n"
          ]
        }
      ]
    },
    {
      "cell_type": "markdown",
      "metadata": {
        "id": "1z-ORJW1_kIp"
      },
      "source": [
        "Can we change it back?"
      ]
    },
    {
      "cell_type": "code",
      "metadata": {
        "id": "9zyVMm9kAXHk",
        "colab": {
          "base_uri": "https://localhost:8080/"
        },
        "outputId": "3cd2c087-4a77-4aed-fac3-79cdd5fc22ec"
      },
      "source": [
        "fixed_text = line_separated_text.replace('\\n', ' ')\n",
        "print(fixed_text)"
      ],
      "execution_count": null,
      "outputs": [
        {
          "output_type": "stream",
          "name": "stdout",
          "text": [
            "Hello my name is Sim.\n"
          ]
        }
      ]
    },
    {
      "cell_type": "markdown",
      "metadata": {
        "id": "lWLq3uupBIUe"
      },
      "source": [
        "Can we describe 2020 with Emoji?"
      ]
    },
    {
      "cell_type": "code",
      "source": [
        "print(\"\\N{Sleeping Face}\")"
      ],
      "metadata": {
        "colab": {
          "base_uri": "https://localhost:8080/"
        },
        "id": "o70agxr-ye5I",
        "outputId": "ca1377b4-66b3-43e3-da1e-53e782f87765"
      },
      "execution_count": null,
      "outputs": [
        {
          "output_type": "stream",
          "name": "stdout",
          "text": [
            "😴\n"
          ]
        }
      ]
    },
    {
      "cell_type": "code",
      "source": [
        "print(\"\\N{Microbe}\")"
      ],
      "metadata": {
        "colab": {
          "base_uri": "https://localhost:8080/"
        },
        "id": "fwKQ90a0ymyB",
        "outputId": "085c8c2a-fca7-4b94-fe7d-14b8d1ad6e98"
      },
      "execution_count": null,
      "outputs": [
        {
          "output_type": "stream",
          "name": "stdout",
          "text": [
            "🦠\n"
          ]
        }
      ]
    },
    {
      "cell_type": "markdown",
      "metadata": {
        "id": "RASu1vuRz8Bf"
      },
      "source": [
        "# 6 - Data Types\n",
        "\n",
        "* Each variable has a **data type**.\n",
        "* So far we have looked at **ints** (numbers) and **strings** (text).\n",
        "* The type of the variable determines its behaviour. (Eg the difference between adding two ints together, or adding two strings together.)\n",
        "* A list of data types in Python can be found here: [https://www.w3schools.com/python/python_datatypes.asp](https://www.w3schools.com/python/python_datatypes.asp)"
      ]
    },
    {
      "cell_type": "markdown",
      "metadata": {
        "id": "oFgEchGk0inf"
      },
      "source": [
        "Given a variable can we find out it's data type?"
      ]
    },
    {
      "cell_type": "code",
      "metadata": {
        "id": "esPqHWBi0nDF",
        "colab": {
          "base_uri": "https://localhost:8080/"
        },
        "outputId": "c8d57fe8-115e-4f37-dd3c-2b56684ad836"
      },
      "source": [
        "mystery_variable = \"hello\"\n",
        "print(type(mystery_variable))"
      ],
      "execution_count": null,
      "outputs": [
        {
          "output_type": "stream",
          "name": "stdout",
          "text": [
            "<class 'str'>\n"
          ]
        }
      ]
    },
    {
      "cell_type": "code",
      "source": [
        "mystery_variable = 5\n",
        "print(type(mystery_variable))"
      ],
      "metadata": {
        "colab": {
          "base_uri": "https://localhost:8080/"
        },
        "id": "_qaRmPOQze1a",
        "outputId": "9551e0f5-4689-41b3-f8fd-1a221f5ee9b8"
      },
      "execution_count": null,
      "outputs": [
        {
          "output_type": "stream",
          "name": "stdout",
          "text": [
            "<class 'int'>\n"
          ]
        }
      ]
    },
    {
      "cell_type": "code",
      "source": [
        "mystery_variable = \"5\"\n",
        "print(type(mystery_variable))"
      ],
      "metadata": {
        "colab": {
          "base_uri": "https://localhost:8080/"
        },
        "id": "qCjSub-iziyj",
        "outputId": "8f3a2b71-47ae-4a27-a940-c54e47f41754"
      },
      "execution_count": null,
      "outputs": [
        {
          "output_type": "stream",
          "name": "stdout",
          "text": [
            "<class 'str'>\n"
          ]
        }
      ]
    },
    {
      "cell_type": "markdown",
      "metadata": {
        "id": "vzOFenKi1LZs"
      },
      "source": [
        "What happens when we try to add two values together, when they are of different types?"
      ]
    },
    {
      "cell_type": "code",
      "metadata": {
        "id": "1MObB3dB1K91",
        "colab": {
          "base_uri": "https://localhost:8080/",
          "height": 203
        },
        "outputId": "5e138d93-898d-4b5a-f313-540249285c2e"
      },
      "source": [
        "var1 = \"hello\"\n",
        "var2 = 5\n",
        "var1 + var2"
      ],
      "execution_count": null,
      "outputs": [
        {
          "output_type": "error",
          "ename": "TypeError",
          "evalue": "ignored",
          "traceback": [
            "\u001b[0;31m---------------------------------------------------------------------------\u001b[0m",
            "\u001b[0;31mTypeError\u001b[0m                                 Traceback (most recent call last)",
            "\u001b[0;32m<ipython-input-28-4f3b8dfb7602>\u001b[0m in \u001b[0;36m<module>\u001b[0;34m()\u001b[0m\n\u001b[1;32m      1\u001b[0m \u001b[0mvar1\u001b[0m \u001b[0;34m=\u001b[0m \u001b[0;34m\"hello\"\u001b[0m\u001b[0;34m\u001b[0m\u001b[0;34m\u001b[0m\u001b[0m\n\u001b[1;32m      2\u001b[0m \u001b[0mvar2\u001b[0m \u001b[0;34m=\u001b[0m \u001b[0;36m5\u001b[0m\u001b[0;34m\u001b[0m\u001b[0;34m\u001b[0m\u001b[0m\n\u001b[0;32m----> 3\u001b[0;31m \u001b[0mvar1\u001b[0m \u001b[0;34m+\u001b[0m \u001b[0mvar2\u001b[0m\u001b[0;34m\u001b[0m\u001b[0;34m\u001b[0m\u001b[0m\n\u001b[0m",
            "\u001b[0;31mTypeError\u001b[0m: can only concatenate str (not \"int\") to str"
          ]
        }
      ]
    },
    {
      "cell_type": "markdown",
      "metadata": {
        "id": "QCJuEgL01csp"
      },
      "source": [
        "Can we change the type of a variable?"
      ]
    },
    {
      "cell_type": "code",
      "metadata": {
        "id": "LmGWAsqT2OXj",
        "colab": {
          "base_uri": "https://localhost:8080/",
          "height": 35
        },
        "outputId": "6fb8d255-1af0-45e6-be17-2f66fa79df89"
      },
      "source": [
        "var1 + str(var2)"
      ],
      "execution_count": null,
      "outputs": [
        {
          "output_type": "execute_result",
          "data": {
            "application/vnd.google.colaboratory.intrinsic+json": {
              "type": "string"
            },
            "text/plain": [
              "'hello5'"
            ]
          },
          "metadata": {},
          "execution_count": 29
        }
      ]
    },
    {
      "cell_type": "code",
      "source": [
        "\"hello\" + str(5)"
      ],
      "metadata": {
        "colab": {
          "base_uri": "https://localhost:8080/",
          "height": 35
        },
        "id": "MnxGNGClz-Py",
        "outputId": "460f3ad0-659a-487a-f8c0-fcc9896dd1ee"
      },
      "execution_count": null,
      "outputs": [
        {
          "output_type": "execute_result",
          "data": {
            "application/vnd.google.colaboratory.intrinsic+json": {
              "type": "string"
            },
            "text/plain": [
              "'hello5'"
            ]
          },
          "metadata": {},
          "execution_count": 30
        }
      ]
    },
    {
      "cell_type": "markdown",
      "metadata": {
        "id": "uHWmiGBz385u"
      },
      "source": [
        "Changing the type of a variable is called **casting**. We can cast variables to different types, as long as they can be converted.\n",
        "\n",
        "What happens if we try to cast a variable to a type it is incompatible with?"
      ]
    },
    {
      "cell_type": "code",
      "metadata": {
        "id": "t54J_n2M4OJR",
        "colab": {
          "base_uri": "https://localhost:8080/"
        },
        "outputId": "71dd409c-0421-4425-bc87-aee729c93e5c"
      },
      "source": [
        "int(\"5\")"
      ],
      "execution_count": null,
      "outputs": [
        {
          "output_type": "execute_result",
          "data": {
            "text/plain": [
              "5"
            ]
          },
          "metadata": {},
          "execution_count": 31
        }
      ]
    },
    {
      "cell_type": "code",
      "source": [
        "int(\"a word\")"
      ],
      "metadata": {
        "colab": {
          "base_uri": "https://localhost:8080/",
          "height": 168
        },
        "id": "MlkVYZR_0OHE",
        "outputId": "1b40f08f-b415-4ab5-d1f6-450b86c2b10d"
      },
      "execution_count": null,
      "outputs": [
        {
          "output_type": "error",
          "ename": "ValueError",
          "evalue": "ignored",
          "traceback": [
            "\u001b[0;31m---------------------------------------------------------------------------\u001b[0m",
            "\u001b[0;31mValueError\u001b[0m                                Traceback (most recent call last)",
            "\u001b[0;32m<ipython-input-32-f7963d5ff1fe>\u001b[0m in \u001b[0;36m<module>\u001b[0;34m()\u001b[0m\n\u001b[0;32m----> 1\u001b[0;31m \u001b[0mint\u001b[0m\u001b[0;34m(\u001b[0m\u001b[0;34m\"a word\"\u001b[0m\u001b[0;34m)\u001b[0m\u001b[0;34m\u001b[0m\u001b[0;34m\u001b[0m\u001b[0m\n\u001b[0m",
            "\u001b[0;31mValueError\u001b[0m: invalid literal for int() with base 10: 'a word'"
          ]
        }
      ]
    },
    {
      "cell_type": "markdown",
      "metadata": {
        "id": "6BnpalugR263"
      },
      "source": [
        "Can you combine strings and variables of different data types in a `print()` statement without casting?"
      ]
    },
    {
      "cell_type": "code",
      "metadata": {
        "id": "PVNiAWCJSA1F",
        "colab": {
          "base_uri": "https://localhost:8080/",
          "height": 203
        },
        "outputId": "7464c515-da9b-45d4-e48a-58926b44b791"
      },
      "source": [
        "name = \"Sim\"\n",
        "course_code = 1010\n",
        "print(\"My name is \"+name+\" I am taking COMP\"+course_code)"
      ],
      "execution_count": null,
      "outputs": [
        {
          "output_type": "error",
          "ename": "TypeError",
          "evalue": "ignored",
          "traceback": [
            "\u001b[0;31m---------------------------------------------------------------------------\u001b[0m",
            "\u001b[0;31mTypeError\u001b[0m                                 Traceback (most recent call last)",
            "\u001b[0;32m<ipython-input-33-0ea79d3cfba2>\u001b[0m in \u001b[0;36m<module>\u001b[0;34m()\u001b[0m\n\u001b[1;32m      1\u001b[0m \u001b[0mname\u001b[0m \u001b[0;34m=\u001b[0m \u001b[0;34m\"Sim\"\u001b[0m\u001b[0;34m\u001b[0m\u001b[0;34m\u001b[0m\u001b[0m\n\u001b[1;32m      2\u001b[0m \u001b[0mcourse_code\u001b[0m \u001b[0;34m=\u001b[0m \u001b[0;36m1010\u001b[0m\u001b[0;34m\u001b[0m\u001b[0;34m\u001b[0m\u001b[0m\n\u001b[0;32m----> 3\u001b[0;31m \u001b[0mprint\u001b[0m\u001b[0;34m(\u001b[0m\u001b[0;34m\"My name is \"\u001b[0m\u001b[0;34m+\u001b[0m\u001b[0mname\u001b[0m\u001b[0;34m+\u001b[0m\u001b[0;34m\" I am taking COMP\"\u001b[0m\u001b[0;34m+\u001b[0m\u001b[0mcourse_code\u001b[0m\u001b[0;34m)\u001b[0m\u001b[0;34m\u001b[0m\u001b[0;34m\u001b[0m\u001b[0m\n\u001b[0m",
            "\u001b[0;31mTypeError\u001b[0m: can only concatenate str (not \"int\") to str"
          ]
        }
      ]
    },
    {
      "cell_type": "code",
      "source": [
        "name = \"Sim\"\n",
        "course_code = 1010\n",
        "print(\"My name is \"+name+\" I am taking COMP\"+str(course_code))"
      ],
      "metadata": {
        "colab": {
          "base_uri": "https://localhost:8080/"
        },
        "id": "ztv4r4kW0s68",
        "outputId": "35b4da1c-ef26-467d-a170-7f46e0b3ee92"
      },
      "execution_count": null,
      "outputs": [
        {
          "output_type": "stream",
          "name": "stdout",
          "text": [
            "My name is Sim I am taking COMP1010\n"
          ]
        }
      ]
    },
    {
      "cell_type": "markdown",
      "metadata": {
        "id": "lHezovahucUF"
      },
      "source": [
        "Fill in the following summary of data types:\n",
        "\n",
        "\n",
        "Data Type | Declaration Examples | Printing Examples\n",
        "---|---|---\n",
        "string | name=\"Sim\" <br> age=\"42\" | \"Sim\" <br> \"42\"\n",
        "int |  age=42 | 42\n",
        "   |   |\n",
        "\n"
      ]
    },
    {
      "cell_type": "markdown",
      "metadata": {
        "id": "aTFCzqGnuAGB"
      },
      "source": [
        "# 7 - F-Strings"
      ]
    },
    {
      "cell_type": "markdown",
      "metadata": {
        "id": "IilEe6SRSsY4"
      },
      "source": [
        "More information about f-strings can be found [here](https://realpython.com/python-f-strings/#f-strings-a-new-and-improved-way-to-format-strings-in-python)."
      ]
    },
    {
      "cell_type": "code",
      "source": [
        "name = \"Sim\"\n",
        "course_code = 1010\n",
        "print(f\"My name is {name} I am taking COMP{course_code}.\")"
      ],
      "metadata": {
        "colab": {
          "base_uri": "https://localhost:8080/"
        },
        "id": "7cvWUWLz1dAk",
        "outputId": "24e26bb0-3218-4fcf-ed60-3486373eb017"
      },
      "execution_count": null,
      "outputs": [
        {
          "output_type": "stream",
          "name": "stdout",
          "text": [
            "My name is Sim I am taking COMP1010.\n"
          ]
        }
      ]
    },
    {
      "cell_type": "code",
      "source": [
        "name = \"Sim\"\n",
        "course_code = 1010\n",
        "full_sentence = f\"My name is {name} I am taking COMP{course_code}.\"\n",
        "print(full_sentence)"
      ],
      "metadata": {
        "colab": {
          "base_uri": "https://localhost:8080/"
        },
        "id": "FXcmTXwg1oPc",
        "outputId": "89f1de52-6589-42f9-d0fb-19f8ce5ca341"
      },
      "execution_count": null,
      "outputs": [
        {
          "output_type": "stream",
          "name": "stdout",
          "text": [
            "My name is Sim I am taking COMP1010.\n"
          ]
        }
      ]
    },
    {
      "cell_type": "code",
      "source": [
        "text_with_lots_of_lines = \"My name is Sim.\\nThis looks hard to read.\\nSo I want something better.\"\n",
        "print(text_with_lots_of_lines)"
      ],
      "metadata": {
        "colab": {
          "base_uri": "https://localhost:8080/"
        },
        "id": "7FVRzj451ylE",
        "outputId": "5bbd3d78-a4fd-44f2-e43c-35c941a3fa83"
      },
      "execution_count": null,
      "outputs": [
        {
          "output_type": "stream",
          "name": "stdout",
          "text": [
            "My name is Sim.\n",
            "This looks hard to read.\n",
            "So I want something better.\n"
          ]
        }
      ]
    },
    {
      "cell_type": "code",
      "source": [
        "easier_text_lots_lines = f\"\"\"My name is {name}.\n",
        "This looks easier to read.\n",
        "I love it.\"\"\"\n",
        "\n",
        "print(easier_text_lots_lines)"
      ],
      "metadata": {
        "colab": {
          "base_uri": "https://localhost:8080/"
        },
        "id": "SrdsTqir1_fk",
        "outputId": "61dfe093-0bdf-41e9-ed1a-409ed86f4a91"
      },
      "execution_count": null,
      "outputs": [
        {
          "output_type": "stream",
          "name": "stdout",
          "text": [
            "My name is Sim.\n",
            "This looks easier to read.\n",
            "I love it.\n"
          ]
        }
      ]
    },
    {
      "cell_type": "code",
      "source": [
        "print(f\"\"\"This is some text with a \\n in it.\"\"\")"
      ],
      "metadata": {
        "id": "ZimXqhAo34CR",
        "outputId": "b2b41123-b74b-473d-f2ee-47b3113161e9",
        "colab": {
          "base_uri": "https://localhost:8080/"
        }
      },
      "execution_count": 1,
      "outputs": [
        {
          "output_type": "stream",
          "name": "stdout",
          "text": [
            "This is some text with a \n",
            " in it.\n"
          ]
        }
      ]
    },
    {
      "cell_type": "markdown",
      "metadata": {
        "id": "TKpGsue7Mi2z"
      },
      "source": [
        "# 8 - Modulo Operator\n",
        "\n",
        "So far we have covered +, -, *, / with integers.\n",
        "\n",
        "The modulo operator, %, returns the remainder when we divide by a number."
      ]
    },
    {
      "cell_type": "code",
      "metadata": {
        "id": "4xeXpFrqNDqE",
        "colab": {
          "base_uri": "https://localhost:8080/"
        },
        "outputId": "92ebf911-12b1-420c-c373-6c1dc8db8549"
      },
      "source": [
        "5 + 5"
      ],
      "execution_count": null,
      "outputs": [
        {
          "output_type": "execute_result",
          "data": {
            "text/plain": [
              "10"
            ]
          },
          "metadata": {},
          "execution_count": 40
        }
      ]
    },
    {
      "cell_type": "code",
      "source": [
        "10 - 1"
      ],
      "metadata": {
        "colab": {
          "base_uri": "https://localhost:8080/"
        },
        "id": "qASHbgea2egL",
        "outputId": "d92408e7-39f0-427d-88f1-56ad5fe59093"
      },
      "execution_count": null,
      "outputs": [
        {
          "output_type": "execute_result",
          "data": {
            "text/plain": [
              "9"
            ]
          },
          "metadata": {},
          "execution_count": 41
        }
      ]
    },
    {
      "cell_type": "code",
      "source": [
        "3 * 4"
      ],
      "metadata": {
        "colab": {
          "base_uri": "https://localhost:8080/"
        },
        "id": "IMKbkkF82gK9",
        "outputId": "7972d46c-1f27-4872-d0d5-1570fe0afb60"
      },
      "execution_count": null,
      "outputs": [
        {
          "output_type": "execute_result",
          "data": {
            "text/plain": [
              "12"
            ]
          },
          "metadata": {},
          "execution_count": 43
        }
      ]
    },
    {
      "cell_type": "code",
      "source": [
        "15 / 3"
      ],
      "metadata": {
        "colab": {
          "base_uri": "https://localhost:8080/"
        },
        "id": "zAb3MBa92jNx",
        "outputId": "e7aa9045-dc0e-4815-d712-3b0fcd01652e"
      },
      "execution_count": null,
      "outputs": [
        {
          "output_type": "execute_result",
          "data": {
            "text/plain": [
              "5.0"
            ]
          },
          "metadata": {},
          "execution_count": 44
        }
      ]
    },
    {
      "cell_type": "code",
      "source": [
        "8 % 2"
      ],
      "metadata": {
        "colab": {
          "base_uri": "https://localhost:8080/"
        },
        "id": "bvenpS7l2pdG",
        "outputId": "8e458bea-9ddd-406e-dc01-a54e0c7da265"
      },
      "execution_count": null,
      "outputs": [
        {
          "output_type": "execute_result",
          "data": {
            "text/plain": [
              "0"
            ]
          },
          "metadata": {},
          "execution_count": 45
        }
      ]
    },
    {
      "cell_type": "code",
      "source": [
        "5 % 2"
      ],
      "metadata": {
        "colab": {
          "base_uri": "https://localhost:8080/"
        },
        "id": "A60fRNka2vNf",
        "outputId": "6b9aaa37-25c4-4abc-c99d-724ebdc574eb"
      },
      "execution_count": null,
      "outputs": [
        {
          "output_type": "execute_result",
          "data": {
            "text/plain": [
              "1"
            ]
          },
          "metadata": {},
          "execution_count": 46
        }
      ]
    },
    {
      "cell_type": "code",
      "source": [
        "16 % 3 # 16 divided by 3 gives us 5 remainder 1"
      ],
      "metadata": {
        "colab": {
          "base_uri": "https://localhost:8080/"
        },
        "id": "yHFCv2R-2372",
        "outputId": "c5156192-0210-459b-8b45-2d5a1a84151a"
      },
      "execution_count": null,
      "outputs": [
        {
          "output_type": "execute_result",
          "data": {
            "text/plain": [
              "1"
            ]
          },
          "metadata": {},
          "execution_count": 47
        }
      ]
    },
    {
      "cell_type": "markdown",
      "metadata": {
        "id": "cNUAUvZn5LSP"
      },
      "source": [
        "# Feedback (Topic 3.1)\n",
        "\n",
        "[https://forms.gle/Uod5Jpr7AJ2z7cHLA](https://forms.gle/Uod5Jpr7AJ2z7cHLA)\n",
        "\n",
        "![](https://i.imgur.com/0L50D4L.png)"
      ]
    }
  ]
}