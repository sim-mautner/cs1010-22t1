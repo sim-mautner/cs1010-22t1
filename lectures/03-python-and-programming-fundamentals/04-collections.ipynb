{
  "nbformat": 4,
  "nbformat_minor": 0,
  "metadata": {
    "colab": {
      "name": "04-collections.ipynb",
      "provenance": [],
      "toc_visible": true,
      "authorship_tag": "ABX9TyNZUyB7aCBoV3LvCu1q0KjJ",
      "include_colab_link": true
    },
    "kernelspec": {
      "name": "python3",
      "display_name": "Python 3"
    },
    "language_info": {
      "name": "python"
    }
  },
  "cells": [
    {
      "cell_type": "markdown",
      "metadata": {
        "id": "view-in-github",
        "colab_type": "text"
      },
      "source": [
        "<a href=\"https://colab.research.google.com/github/sim-mautner/cs1010-22t1/blob/master/lectures/03-python-and-programming-fundamentals/04-collections.ipynb\" target=\"_parent\"><img src=\"https://colab.research.google.com/assets/colab-badge.svg\" alt=\"Open In Colab\"/></a>"
      ]
    },
    {
      "cell_type": "markdown",
      "metadata": {
        "id": "DZASYuPR5kI3"
      },
      "source": [
        "> Topic 3<br>\n",
        "> Python and Programming Fundamentals<br>\n",
        "> COMP1010 2021 T3<br>\n",
        "> Week 1-3\n",
        "\n",
        "> Topic 3.4<br>\n",
        "> Collections"
      ]
    },
    {
      "cell_type": "markdown",
      "metadata": {
        "id": "RaeMy89GiFLU"
      },
      "source": [
        "# 1 - Lists\n"
      ]
    },
    {
      "cell_type": "markdown",
      "metadata": {
        "id": "HUeCv4hAugmM"
      },
      "source": [
        "You have 4 students in the class. Create variables to store their project grades."
      ]
    },
    {
      "cell_type": "code",
      "metadata": {
        "id": "9aOzh4rdupjV"
      },
      "source": [
        "student_1 = 55\n",
        "student_2 = 89\n",
        "student_3 = 72\n",
        "student_4 = 54"
      ],
      "execution_count": null,
      "outputs": []
    },
    {
      "cell_type": "markdown",
      "metadata": {
        "id": "k1M9jmPNup-v"
      },
      "source": [
        "What happens when you have 10 students in the class? Or 100? I hear there's at least one COMP course with 1000 students.\n",
        "\n",
        "Lists are:\n",
        "* Used to store multiple items in one variable\n",
        "* Created using square brackets (eg `my_list = []`)\n",
        "* Ordered\n",
        "* Changeable\n",
        "* Allow duplicate values\n",
        "\n",
        "As always (in Python), lists are indexed from 0."
      ]
    },
    {
      "cell_type": "markdown",
      "metadata": {
        "id": "bk5LeZx1w86r"
      },
      "source": [
        "Create a list. (Topic suggestions welcome in chat.)"
      ]
    },
    {
      "cell_type": "code",
      "metadata": {
        "id": "rg87Uv7GxB5N"
      },
      "source": [
        "groceries = []"
      ],
      "execution_count": null,
      "outputs": []
    },
    {
      "cell_type": "markdown",
      "metadata": {
        "id": "LW4qFumaxCMB"
      },
      "source": [
        "Print the list."
      ]
    },
    {
      "cell_type": "code",
      "metadata": {
        "id": "z6dzDLfUxDro",
        "outputId": "956c5a12-8a32-40db-f01c-0c8153349e7e",
        "colab": {
          "base_uri": "https://localhost:8080/"
        }
      },
      "source": [
        "print(groceries)"
      ],
      "execution_count": null,
      "outputs": [
        {
          "output_type": "stream",
          "name": "stdout",
          "text": [
            "[]\n"
          ]
        }
      ]
    },
    {
      "cell_type": "markdown",
      "metadata": {
        "id": "6f_HAVrixD6C"
      },
      "source": [
        "Append (add to the end) an element to the list. (And print it again.)"
      ]
    },
    {
      "cell_type": "code",
      "metadata": {
        "id": "XdekkgFAxHUC",
        "outputId": "b81049d5-2ef0-418a-cac1-b8f390016ec5",
        "colab": {
          "base_uri": "https://localhost:8080/"
        }
      },
      "source": [
        "groceries.append(\"bread\")\n",
        "print(groceries)"
      ],
      "execution_count": null,
      "outputs": [
        {
          "output_type": "stream",
          "name": "stdout",
          "text": [
            "['bread']\n"
          ]
        }
      ]
    },
    {
      "cell_type": "markdown",
      "metadata": {
        "id": "voyImQ32xHh9"
      },
      "source": [
        "Print out the length of the list."
      ]
    },
    {
      "cell_type": "code",
      "metadata": {
        "id": "9yIMJl71xOxc",
        "outputId": "02087049-4677-4843-a0fa-e16f9e41233b",
        "colab": {
          "base_uri": "https://localhost:8080/"
        }
      },
      "source": [
        "print(len(groceries))"
      ],
      "execution_count": null,
      "outputs": [
        {
          "output_type": "stream",
          "name": "stdout",
          "text": [
            "1\n"
          ]
        }
      ]
    },
    {
      "cell_type": "markdown",
      "metadata": {
        "id": "VkORFqtgxO_Z"
      },
      "source": [
        "Add some more elements to the list (using `append` and `insert`). Sort the list. (And print it again.)"
      ]
    },
    {
      "cell_type": "code",
      "metadata": {
        "id": "NOOvVMV3xVVo",
        "outputId": "5b77a836-40bf-45b3-e96f-4f849af21806",
        "colab": {
          "base_uri": "https://localhost:8080/"
        }
      },
      "source": [
        "groceries.append(\"apples\")\n",
        "groceries.append(\"milk\")\n",
        "print(groceries)"
      ],
      "execution_count": null,
      "outputs": [
        {
          "output_type": "stream",
          "name": "stdout",
          "text": [
            "['bread', 'apples', 'milk']\n"
          ]
        }
      ]
    },
    {
      "cell_type": "code",
      "source": [
        "groceries.insert(0,\"water\")\n",
        "print(groceries)"
      ],
      "metadata": {
        "id": "BN6gwp2VLWsQ",
        "outputId": "c75e0bdd-02c7-4f2b-a5c7-a9fe8df46b2a",
        "colab": {
          "base_uri": "https://localhost:8080/"
        }
      },
      "execution_count": null,
      "outputs": [
        {
          "output_type": "stream",
          "name": "stdout",
          "text": [
            "['water', 'bread', 'apples', 'milk']\n"
          ]
        }
      ]
    },
    {
      "cell_type": "code",
      "source": [
        "groceries.sort()\n",
        "print(groceries)"
      ],
      "metadata": {
        "id": "kw8QAad-LkAJ",
        "outputId": "5e02f10c-59ea-49d0-84f6-290ae2d9e243",
        "colab": {
          "base_uri": "https://localhost:8080/"
        }
      },
      "execution_count": null,
      "outputs": [
        {
          "output_type": "stream",
          "name": "stdout",
          "text": [
            "['apples', 'bread', 'milk', 'water']\n"
          ]
        }
      ]
    },
    {
      "cell_type": "markdown",
      "metadata": {
        "id": "wCJ1e5zF2_aS"
      },
      "source": [
        "Can we sort the list backwards?"
      ]
    },
    {
      "cell_type": "code",
      "metadata": {
        "id": "ELI6p-973CNB",
        "outputId": "c07e59fa-3477-4138-e6e7-875144eeb6fe",
        "colab": {
          "base_uri": "https://localhost:8080/"
        }
      },
      "source": [
        "groceries.sort(reverse=True)\n",
        "print(groceries)"
      ],
      "execution_count": null,
      "outputs": [
        {
          "output_type": "stream",
          "name": "stdout",
          "text": [
            "['water', 'milk', 'bread', 'apples']\n"
          ]
        }
      ]
    },
    {
      "cell_type": "markdown",
      "metadata": {
        "id": "PEcj09doxVho"
      },
      "source": [
        "Count the number of times an element occurs in the list."
      ]
    },
    {
      "cell_type": "code",
      "metadata": {
        "id": "VWcz8liqxbRx",
        "outputId": "dcdce3dc-2ff3-4f8b-f38a-3ec71985e3c8",
        "colab": {
          "base_uri": "https://localhost:8080/"
        }
      },
      "source": [
        "groceries.append(\"water\")\n",
        "print(groceries)"
      ],
      "execution_count": null,
      "outputs": [
        {
          "output_type": "stream",
          "name": "stdout",
          "text": [
            "['water', 'milk', 'bread', 'apples', 'water']\n"
          ]
        }
      ]
    },
    {
      "cell_type": "code",
      "source": [
        "print(groceries.count(\"water\"))"
      ],
      "metadata": {
        "id": "rfP6P71QLzLw",
        "outputId": "859a3966-0040-40c4-daf2-e374c721ce0f",
        "colab": {
          "base_uri": "https://localhost:8080/"
        }
      },
      "execution_count": null,
      "outputs": [
        {
          "output_type": "stream",
          "name": "stdout",
          "text": [
            "2\n"
          ]
        }
      ]
    },
    {
      "cell_type": "markdown",
      "metadata": {
        "id": "eQyuUSomxajH"
      },
      "source": [
        "Print out the element at index 2."
      ]
    },
    {
      "cell_type": "code",
      "metadata": {
        "id": "JKJUW7KSxfSn",
        "outputId": "cca87ca4-4dd7-4095-d6c7-7165e91e121c",
        "colab": {
          "base_uri": "https://localhost:8080/"
        }
      },
      "source": [
        "print(groceries[2])"
      ],
      "execution_count": null,
      "outputs": [
        {
          "output_type": "stream",
          "name": "stdout",
          "text": [
            "bread\n"
          ]
        }
      ]
    },
    {
      "cell_type": "markdown",
      "metadata": {
        "id": "AVRzoOUsKFx-"
      },
      "source": [
        "What happens if we try to print (or access, or assign) an index which is larger than the length of the list?"
      ]
    },
    {
      "cell_type": "code",
      "metadata": {
        "id": "D6LgrhIbKMoz",
        "outputId": "c69696af-6388-4d01-da22-a99a17f40df3",
        "colab": {
          "base_uri": "https://localhost:8080/",
          "height": 168
        }
      },
      "source": [
        "print(groceries[17])"
      ],
      "execution_count": null,
      "outputs": [
        {
          "output_type": "error",
          "ename": "IndexError",
          "evalue": "ignored",
          "traceback": [
            "\u001b[0;31m---------------------------------------------------------------------------\u001b[0m",
            "\u001b[0;31mIndexError\u001b[0m                                Traceback (most recent call last)",
            "\u001b[0;32m<ipython-input-12-c2ae216b3569>\u001b[0m in \u001b[0;36m<module>\u001b[0;34m()\u001b[0m\n\u001b[0;32m----> 1\u001b[0;31m \u001b[0mprint\u001b[0m\u001b[0;34m(\u001b[0m\u001b[0mgroceries\u001b[0m\u001b[0;34m[\u001b[0m\u001b[0;36m17\u001b[0m\u001b[0;34m]\u001b[0m\u001b[0;34m)\u001b[0m\u001b[0;34m\u001b[0m\u001b[0;34m\u001b[0m\u001b[0m\n\u001b[0m",
            "\u001b[0;31mIndexError\u001b[0m: list index out of range"
          ]
        }
      ]
    },
    {
      "cell_type": "markdown",
      "metadata": {
        "id": "0c-uAIBoxe1H"
      },
      "source": [
        "Change the element at index 1 to be different. Print the list again."
      ]
    },
    {
      "cell_type": "code",
      "metadata": {
        "id": "0FQoRCYzxa3e",
        "outputId": "271b0d79-6ad3-4ce8-8de0-1ff989f921a5",
        "colab": {
          "base_uri": "https://localhost:8080/"
        }
      },
      "source": [
        "groceries[1] = \"juice\"\n",
        "print(groceries)"
      ],
      "execution_count": null,
      "outputs": [
        {
          "output_type": "stream",
          "name": "stdout",
          "text": [
            "['water', 'juice', 'bread', 'apples', 'water']\n"
          ]
        }
      ]
    },
    {
      "cell_type": "markdown",
      "metadata": {
        "id": "iegUWlUmzZIe"
      },
      "source": [
        "Remove some elements from the list. (Removing by element, popping by index.) (Printing the list each time.) Remove by element and by index."
      ]
    },
    {
      "cell_type": "code",
      "metadata": {
        "id": "GFfXBgzyzyRu",
        "outputId": "7cc144de-aead-4f51-eaa7-1a7442c3c716",
        "colab": {
          "base_uri": "https://localhost:8080/"
        }
      },
      "source": [
        "print(groceries)"
      ],
      "execution_count": null,
      "outputs": [
        {
          "output_type": "stream",
          "name": "stdout",
          "text": [
            "['water', 'juice', 'bread', 'apples', 'water']\n"
          ]
        }
      ]
    },
    {
      "cell_type": "code",
      "source": [
        "groceries.remove(\"bread\")\n",
        "print(groceries)"
      ],
      "metadata": {
        "id": "Tui1TxkTMTYJ",
        "outputId": "03761b7a-9d67-436f-a3a7-38706db5570e",
        "colab": {
          "base_uri": "https://localhost:8080/"
        }
      },
      "execution_count": null,
      "outputs": [
        {
          "output_type": "stream",
          "name": "stdout",
          "text": [
            "['water', 'juice', 'apples', 'water']\n"
          ]
        }
      ]
    },
    {
      "cell_type": "code",
      "source": [
        "groceries.pop(3)\n",
        "print(groceries)"
      ],
      "metadata": {
        "id": "MQYHDat9MXeQ",
        "outputId": "1820d231-f2d3-4b6d-9a7c-958369127f2d",
        "colab": {
          "base_uri": "https://localhost:8080/"
        }
      },
      "execution_count": null,
      "outputs": [
        {
          "output_type": "stream",
          "name": "stdout",
          "text": [
            "['water', 'juice', 'apples']\n"
          ]
        }
      ]
    },
    {
      "cell_type": "markdown",
      "metadata": {
        "id": "PkHrOJCGxlfS"
      },
      "source": [
        "Clear the list. (And print it again.)"
      ]
    },
    {
      "cell_type": "code",
      "metadata": {
        "id": "SrYAu8LFyeE8",
        "outputId": "7f4e7c5a-b52f-4d7b-bc6f-8ebbd47b5690",
        "colab": {
          "base_uri": "https://localhost:8080/"
        }
      },
      "source": [
        "groceries.clear()\n",
        "print(groceries)"
      ],
      "execution_count": null,
      "outputs": [
        {
          "output_type": "stream",
          "name": "stdout",
          "text": [
            "[]\n"
          ]
        }
      ]
    },
    {
      "cell_type": "markdown",
      "metadata": {
        "id": "HdDMv-Dmjplx"
      },
      "source": [
        "Lists are also handy in some other situations. For example, can we use use a list to simplify our [months of the year](#eg_months_cell) example?\n"
      ]
    },
    {
      "cell_type": "code",
      "metadata": {
        "id": "ClhVtCO6uf_C"
      },
      "source": [
        "assert num_to_month(0) == \"\"\n",
        "assert num_to_month(13) == \"\"\n",
        "assert num_to_month(3.14) == \"\"\n",
        "assert num_to_month(-1) == \"\"\n",
        "assert num_to_month(\"Hello\") == \"\"\n",
        "assert num_to_month(1) == \"Jan\"\n",
        "assert num_to_month(2) == \"Feb\"\n",
        "assert num_to_month(3) == \"Mar\"\n",
        "assert num_to_month(4) == \"Apr\"\n",
        "assert num_to_month(5) == \"May\"\n",
        "assert num_to_month(6) == \"Jun\"\n",
        "assert num_to_month(7) == \"Jul\"\n",
        "assert num_to_month(8) == \"Aug\"\n",
        "assert num_to_month(9) == \"Sep\"\n",
        "assert num_to_month(10) == \"Oct\"\n",
        "assert num_to_month(11) == \"Nov\"\n",
        "assert num_to_month(12) == \"Dec\""
      ],
      "execution_count": null,
      "outputs": []
    },
    {
      "cell_type": "code",
      "source": [
        "def num_to_month(num):\n",
        "    if not str(num).isnumeric():\n",
        "        return \"\"\n",
        "    num = int(num)\n",
        "\n",
        "    months = [\"\", \"Jan\", \"Feb\", \"Mar\", \"Apr\", \"May\", \"Jun\", \\\n",
        "              \"Jul\", \"Aug\", \"Sep\", \"Oct\", \"Nov\", \"Dec\"]\n",
        "    if num < 1:\n",
        "        return \"\"\n",
        "    if num > 12:\n",
        "        return \"\"\n",
        "        \n",
        "    return months[num]"
      ],
      "metadata": {
        "id": "SOLsPCGtMwnt"
      },
      "execution_count": null,
      "outputs": []
    },
    {
      "cell_type": "markdown",
      "metadata": {
        "id": "n1h5s_Nf2Ghn"
      },
      "source": [
        "Can we find out if an element is in the list? (Without searching through the list one by one.)"
      ]
    },
    {
      "cell_type": "code",
      "metadata": {
        "id": "h6FE_Ydu2aLl"
      },
      "source": [
        "groceries = []\n",
        "groceries.append('apples')\n",
        "groceries.append('bananas')\n",
        "groceries.append('pears')\n",
        "groceries.append('bananas')"
      ],
      "execution_count": 2,
      "outputs": []
    },
    {
      "cell_type": "code",
      "source": [
        "print(groceries)"
      ],
      "metadata": {
        "id": "iO7J4wiJ7yDm",
        "outputId": "d48f36b2-a786-4c11-f80b-c901a7b2b19a",
        "colab": {
          "base_uri": "https://localhost:8080/"
        }
      },
      "execution_count": 3,
      "outputs": [
        {
          "output_type": "stream",
          "name": "stdout",
          "text": [
            "['apples', 'bananas', 'pears', 'bananas']\n"
          ]
        }
      ]
    },
    {
      "cell_type": "code",
      "source": [
        "groceries.count('bananas')"
      ],
      "metadata": {
        "id": "t0ct1OUs8HAd",
        "outputId": "0160aa6b-30df-41df-eb7f-014df5a82362",
        "colab": {
          "base_uri": "https://localhost:8080/"
        }
      },
      "execution_count": 4,
      "outputs": [
        {
          "output_type": "execute_result",
          "data": {
            "text/plain": [
              "2"
            ]
          },
          "metadata": {},
          "execution_count": 4
        }
      ]
    },
    {
      "cell_type": "code",
      "source": [
        "groceries.count('milk')"
      ],
      "metadata": {
        "id": "s73jWiUc8JTX",
        "outputId": "4f8618be-f912-4f9e-c0ae-dcb584d4c738",
        "colab": {
          "base_uri": "https://localhost:8080/"
        }
      },
      "execution_count": 5,
      "outputs": [
        {
          "output_type": "execute_result",
          "data": {
            "text/plain": [
              "0"
            ]
          },
          "metadata": {},
          "execution_count": 5
        }
      ]
    },
    {
      "cell_type": "markdown",
      "metadata": {
        "id": "6Cne1Az42sQP"
      },
      "source": [
        "Can we loop through the list one by one?"
      ]
    },
    {
      "cell_type": "code",
      "metadata": {
        "id": "Qw3_2DVz25oL",
        "outputId": "02b0f10c-50d6-4fa4-ab6b-a547b42f2b4e",
        "colab": {
          "base_uri": "https://localhost:8080/"
        }
      },
      "source": [
        "for item in groceries:\n",
        "    print(item)"
      ],
      "execution_count": 6,
      "outputs": [
        {
          "output_type": "stream",
          "name": "stdout",
          "text": [
            "apples\n",
            "bananas\n",
            "pears\n",
            "bananas\n"
          ]
        }
      ]
    },
    {
      "cell_type": "markdown",
      "metadata": {
        "id": "y8G0n6U43Mls"
      },
      "source": [
        "Can we join two lists together? (aka What happens when we + two lists?)"
      ]
    },
    {
      "cell_type": "code",
      "metadata": {
        "id": "xKc-75uZ3RuI",
        "outputId": "801c2f1a-24ab-403f-f4ab-8e26663b2c29",
        "colab": {
          "base_uri": "https://localhost:8080/"
        }
      },
      "source": [
        "housemate_groceries = ['milk', 'bread', 'cereal']\n",
        "household_groceries = groceries + housemate_groceries\n",
        "print(household_groceries)"
      ],
      "execution_count": 8,
      "outputs": [
        {
          "output_type": "stream",
          "name": "stdout",
          "text": [
            "['apples', 'bananas', 'pears', 'bananas', 'milk', 'bread', 'cereal']\n"
          ]
        }
      ]
    },
    {
      "cell_type": "markdown",
      "metadata": {
        "id": "YvnK2MFF4fCj"
      },
      "source": [
        "Can lists contain lists? How would we access it? How would we print it?"
      ]
    },
    {
      "cell_type": "code",
      "metadata": {
        "id": "rQn3E3zK4mmx",
        "outputId": "b3f97129-c43d-4bda-9eaa-18b8ba4ee53e",
        "colab": {
          "base_uri": "https://localhost:8080/"
        }
      },
      "source": [
        "groceries = [\n",
        "             ['milk', 'bread', 'cereal'],\n",
        "             ['apples', 'carrots', 'cucumbers', 'capsicums']\n",
        "]\n",
        "\n",
        "groceries"
      ],
      "execution_count": 9,
      "outputs": [
        {
          "output_type": "execute_result",
          "data": {
            "text/plain": [
              "[['milk', 'bread', 'cereal'], ['apples', 'carrots', 'cucumbers', 'capsicums']]"
            ]
          },
          "metadata": {},
          "execution_count": 9
        }
      ]
    },
    {
      "cell_type": "code",
      "source": [
        "# Another approach\n",
        "grocery_store_list = ['milk', 'bread', 'cereal']\n",
        "fruit_store_list = ['apples', 'carrots', 'cucumbers', 'capsicums']\n",
        "\n",
        "groceries = [grocery_store_list, fruit_store_list]\n",
        "\n",
        "groceries"
      ],
      "metadata": {
        "id": "8MHBiTl384SW",
        "outputId": "614d898a-9807-40db-e1bd-f009aca63c83",
        "colab": {
          "base_uri": "https://localhost:8080/"
        }
      },
      "execution_count": 10,
      "outputs": [
        {
          "output_type": "execute_result",
          "data": {
            "text/plain": [
              "[['milk', 'bread', 'cereal'], ['apples', 'carrots', 'cucumbers', 'capsicums']]"
            ]
          },
          "metadata": {},
          "execution_count": 10
        }
      ]
    },
    {
      "cell_type": "code",
      "source": [
        "groceries[0]"
      ],
      "metadata": {
        "id": "0ejKabFZ-i-T",
        "outputId": "4d6b0603-dcbd-4126-a8d6-5aad00722b85",
        "colab": {
          "base_uri": "https://localhost:8080/"
        }
      },
      "execution_count": 11,
      "outputs": [
        {
          "output_type": "execute_result",
          "data": {
            "text/plain": [
              "['milk', 'bread', 'cereal']"
            ]
          },
          "metadata": {},
          "execution_count": 11
        }
      ]
    },
    {
      "cell_type": "code",
      "source": [
        "groceries[1]"
      ],
      "metadata": {
        "id": "sn0H0-Ct-mpZ",
        "outputId": "56929302-6582-4118-e6be-132161c4eedd",
        "colab": {
          "base_uri": "https://localhost:8080/"
        }
      },
      "execution_count": 12,
      "outputs": [
        {
          "output_type": "execute_result",
          "data": {
            "text/plain": [
              "['apples', 'carrots', 'cucumbers', 'capsicums']"
            ]
          },
          "metadata": {},
          "execution_count": 12
        }
      ]
    },
    {
      "cell_type": "code",
      "source": [
        "groceries[0][2]"
      ],
      "metadata": {
        "id": "wacYi5Qh-pOC",
        "outputId": "1d32c0f8-8ba4-4a04-f737-37571cd7d966",
        "colab": {
          "base_uri": "https://localhost:8080/",
          "height": 35
        }
      },
      "execution_count": 13,
      "outputs": [
        {
          "output_type": "execute_result",
          "data": {
            "application/vnd.google.colaboratory.intrinsic+json": {
              "type": "string"
            },
            "text/plain": [
              "'cereal'"
            ]
          },
          "metadata": {},
          "execution_count": 13
        }
      ]
    },
    {
      "cell_type": "code",
      "source": [
        "for grocery_list in groceries:\n",
        "    #print(grocery_list)\n",
        "    for item in grocery_list:\n",
        "        print(item)"
      ],
      "metadata": {
        "id": "q8F_ClWF-u-w",
        "outputId": "697f697d-9d73-4418-e5c0-3efc5a285eec",
        "colab": {
          "base_uri": "https://localhost:8080/"
        }
      },
      "execution_count": 16,
      "outputs": [
        {
          "output_type": "stream",
          "name": "stdout",
          "text": [
            "milk\n",
            "bread\n",
            "cereal\n",
            "apples\n",
            "carrots\n",
            "cucumbers\n",
            "capsicums\n"
          ]
        }
      ]
    },
    {
      "cell_type": "code",
      "source": [
        "for list_num in range(0,len(groceries)):\n",
        "    current_list = groceries[list_num]\n",
        "    print(current_list)\n",
        "    for item_num in range(0,len(current_list)):\n",
        "        print(current_list[item_num])"
      ],
      "metadata": {
        "id": "IClQwhO9_BRH",
        "outputId": "9e8ad320-49ec-4dab-bd9e-6e0e7ac9d42a",
        "colab": {
          "base_uri": "https://localhost:8080/"
        }
      },
      "execution_count": 20,
      "outputs": [
        {
          "output_type": "stream",
          "name": "stdout",
          "text": [
            "['milk', 'bread', 'cereal']\n",
            "milk\n",
            "bread\n",
            "cereal\n",
            "['apples', 'carrots', 'cucumbers', 'capsicums']\n",
            "apples\n",
            "carrots\n",
            "cucumbers\n",
            "capsicums\n"
          ]
        }
      ]
    },
    {
      "cell_type": "markdown",
      "metadata": {
        "id": "I0HJz1_StemU"
      },
      "source": [
        "Could we make the game Tic Tac Toe?"
      ]
    },
    {
      "cell_type": "code",
      "metadata": {
        "id": "QnG3Tp6ptg58",
        "outputId": "0f722b4c-676a-419a-cadc-a26c3be11605",
        "colab": {
          "base_uri": "https://localhost:8080/",
          "height": 1000
        }
      },
      "source": [
        "def translate_col(col_input):\n",
        "    if col_input == 'A':\n",
        "        return 0\n",
        "    elif col_input == 'B':\n",
        "        return 1\n",
        "    elif col_input == 'C':\n",
        "        return 2\n",
        "\n",
        "def translate_row(row_input):\n",
        "    if row_input == '1':\n",
        "        return 0\n",
        "    elif row_input == '2':\n",
        "        return 1\n",
        "    elif row_input == '3':\n",
        "        return 2\n",
        "\n",
        "# Another approach\n",
        "#def translate_row(row_input):\n",
        "#    return int(row_input)-1\n",
        "\n",
        "def print_board(board):\n",
        "    for row in board:\n",
        "        for cell in row:\n",
        "            print(cell,end=' ')\n",
        "        print()\n",
        "\n",
        "board = [\n",
        "         [' ',' ',' '],1\n",
        "         [' ',' ',' '],\n",
        "         [' ',' ',' '],\n",
        "]\n",
        "\n",
        "turn = 'X'\n",
        "finished = False\n",
        "\n",
        "while not finished:\n",
        "    # 1. * Get location from the user\n",
        "    col_input = input(\"Enter a col: \") # A, B, C\n",
        "    row_input = input(\"Enter a row: \") # 1, 2, 3\n",
        "\n",
        "    # 2. TODO (later) Check the location is valid (keep getting locations until they enter a valid location)\n",
        "\n",
        "    # Translate user input to list indexes\n",
        "    col_num = translate_col(col_input)\n",
        "    row_num = translate_row(row_input)\n",
        "\n",
        "    # TODO Check that the location isn't taken (keep getting locations until valid)\n",
        "\n",
        "    #print(f\"You want to place on the board at ({col_num}, {row_num})\")\n",
        "\n",
        "    # 3. * Update the board (place the player's token on the board)\n",
        "    board[row_num][col_num] = turn\n",
        "    print_board(board)\n",
        "\n",
        "    # 4. * Repeat steps 1-3 until the game is finished\n",
        "    # TODO detect end of game\n",
        "    if turn == 'X':\n",
        "        turn = 'O'\n",
        "    else:\n",
        "        turn = 'X'\n"
      ],
      "execution_count": 25,
      "outputs": [
        {
          "output_type": "stream",
          "name": "stdout",
          "text": [
            "Enter a col: A\n",
            "Enter a row: 1\n",
            "X     \n",
            "      \n",
            "      \n",
            "Enter a col: B\n",
            "Enter a row: 2\n",
            "X     \n",
            "  O   \n",
            "      \n",
            "Enter a col: C\n",
            "Enter a row: 3\n",
            "X     \n",
            "  O   \n",
            "    X \n",
            "Enter a col: A\n",
            "Enter a row: 3\n",
            "X     \n",
            "  O   \n",
            "O   X \n",
            "Enter a col: C\n",
            "Enter a row: 1\n",
            "X   X \n",
            "  O   \n",
            "O   X \n",
            "Enter a col: A\n",
            "Enter a row: 2\n",
            "X   X \n",
            "O O   \n",
            "O   X \n",
            "Enter a col: C\n",
            "Enter a row: 3\n",
            "X   X \n",
            "O O   \n",
            "O   X \n"
          ]
        },
        {
          "output_type": "error",
          "ename": "KeyboardInterrupt",
          "evalue": "ignored",
          "traceback": [
            "\u001b[0;31m---------------------------------------------------------------------------\u001b[0m",
            "\u001b[0;31mKeyboardInterrupt\u001b[0m                         Traceback (most recent call last)",
            "\u001b[0;32m/usr/local/lib/python3.7/dist-packages/ipykernel/kernelbase.py\u001b[0m in \u001b[0;36m_input_request\u001b[0;34m(self, prompt, ident, parent, password)\u001b[0m\n\u001b[1;32m    728\u001b[0m             \u001b[0;32mtry\u001b[0m\u001b[0;34m:\u001b[0m\u001b[0;34m\u001b[0m\u001b[0;34m\u001b[0m\u001b[0m\n\u001b[0;32m--> 729\u001b[0;31m                 \u001b[0mident\u001b[0m\u001b[0;34m,\u001b[0m \u001b[0mreply\u001b[0m \u001b[0;34m=\u001b[0m \u001b[0mself\u001b[0m\u001b[0;34m.\u001b[0m\u001b[0msession\u001b[0m\u001b[0;34m.\u001b[0m\u001b[0mrecv\u001b[0m\u001b[0;34m(\u001b[0m\u001b[0mself\u001b[0m\u001b[0;34m.\u001b[0m\u001b[0mstdin_socket\u001b[0m\u001b[0;34m,\u001b[0m \u001b[0;36m0\u001b[0m\u001b[0;34m)\u001b[0m\u001b[0;34m\u001b[0m\u001b[0;34m\u001b[0m\u001b[0m\n\u001b[0m\u001b[1;32m    730\u001b[0m             \u001b[0;32mexcept\u001b[0m \u001b[0mException\u001b[0m\u001b[0;34m:\u001b[0m\u001b[0;34m\u001b[0m\u001b[0;34m\u001b[0m\u001b[0m\n",
            "\u001b[0;32m/usr/local/lib/python3.7/dist-packages/jupyter_client/session.py\u001b[0m in \u001b[0;36mrecv\u001b[0;34m(self, socket, mode, content, copy)\u001b[0m\n\u001b[1;32m    802\u001b[0m         \u001b[0;32mtry\u001b[0m\u001b[0;34m:\u001b[0m\u001b[0;34m\u001b[0m\u001b[0;34m\u001b[0m\u001b[0m\n\u001b[0;32m--> 803\u001b[0;31m             \u001b[0mmsg_list\u001b[0m \u001b[0;34m=\u001b[0m \u001b[0msocket\u001b[0m\u001b[0;34m.\u001b[0m\u001b[0mrecv_multipart\u001b[0m\u001b[0;34m(\u001b[0m\u001b[0mmode\u001b[0m\u001b[0;34m,\u001b[0m \u001b[0mcopy\u001b[0m\u001b[0;34m=\u001b[0m\u001b[0mcopy\u001b[0m\u001b[0;34m)\u001b[0m\u001b[0;34m\u001b[0m\u001b[0;34m\u001b[0m\u001b[0m\n\u001b[0m\u001b[1;32m    804\u001b[0m         \u001b[0;32mexcept\u001b[0m \u001b[0mzmq\u001b[0m\u001b[0;34m.\u001b[0m\u001b[0mZMQError\u001b[0m \u001b[0;32mas\u001b[0m \u001b[0me\u001b[0m\u001b[0;34m:\u001b[0m\u001b[0;34m\u001b[0m\u001b[0;34m\u001b[0m\u001b[0m\n",
            "\u001b[0;32m/usr/local/lib/python3.7/dist-packages/zmq/sugar/socket.py\u001b[0m in \u001b[0;36mrecv_multipart\u001b[0;34m(self, flags, copy, track)\u001b[0m\n\u001b[1;32m    624\u001b[0m         \"\"\"\n\u001b[0;32m--> 625\u001b[0;31m         \u001b[0mparts\u001b[0m \u001b[0;34m=\u001b[0m \u001b[0;34m[\u001b[0m\u001b[0mself\u001b[0m\u001b[0;34m.\u001b[0m\u001b[0mrecv\u001b[0m\u001b[0;34m(\u001b[0m\u001b[0mflags\u001b[0m\u001b[0;34m,\u001b[0m \u001b[0mcopy\u001b[0m\u001b[0;34m=\u001b[0m\u001b[0mcopy\u001b[0m\u001b[0;34m,\u001b[0m \u001b[0mtrack\u001b[0m\u001b[0;34m=\u001b[0m\u001b[0mtrack\u001b[0m\u001b[0;34m)\u001b[0m\u001b[0;34m]\u001b[0m\u001b[0;34m\u001b[0m\u001b[0;34m\u001b[0m\u001b[0m\n\u001b[0m\u001b[1;32m    626\u001b[0m         \u001b[0;31m# have first part already, only loop while more to receive\u001b[0m\u001b[0;34m\u001b[0m\u001b[0;34m\u001b[0m\u001b[0;34m\u001b[0m\u001b[0m\n",
            "\u001b[0;32mzmq/backend/cython/socket.pyx\u001b[0m in \u001b[0;36mzmq.backend.cython.socket.Socket.recv\u001b[0;34m()\u001b[0m\n",
            "\u001b[0;32mzmq/backend/cython/socket.pyx\u001b[0m in \u001b[0;36mzmq.backend.cython.socket.Socket.recv\u001b[0;34m()\u001b[0m\n",
            "\u001b[0;32mzmq/backend/cython/socket.pyx\u001b[0m in \u001b[0;36mzmq.backend.cython.socket._recv_copy\u001b[0;34m()\u001b[0m\n",
            "\u001b[0;32m/usr/local/lib/python3.7/dist-packages/zmq/backend/cython/checkrc.pxd\u001b[0m in \u001b[0;36mzmq.backend.cython.checkrc._check_rc\u001b[0;34m()\u001b[0m\n",
            "\u001b[0;31mKeyboardInterrupt\u001b[0m: ",
            "\nDuring handling of the above exception, another exception occurred:\n",
            "\u001b[0;31mKeyboardInterrupt\u001b[0m                         Traceback (most recent call last)",
            "\u001b[0;32m<ipython-input-25-18ab0569703e>\u001b[0m in \u001b[0;36m<module>\u001b[0;34m()\u001b[0m\n\u001b[1;32m     36\u001b[0m \u001b[0;32mwhile\u001b[0m \u001b[0;32mnot\u001b[0m \u001b[0mfinished\u001b[0m\u001b[0;34m:\u001b[0m\u001b[0;34m\u001b[0m\u001b[0;34m\u001b[0m\u001b[0m\n\u001b[1;32m     37\u001b[0m     \u001b[0;31m# 1. * Get location from the user\u001b[0m\u001b[0;34m\u001b[0m\u001b[0;34m\u001b[0m\u001b[0;34m\u001b[0m\u001b[0m\n\u001b[0;32m---> 38\u001b[0;31m     \u001b[0mcol_input\u001b[0m \u001b[0;34m=\u001b[0m \u001b[0minput\u001b[0m\u001b[0;34m(\u001b[0m\u001b[0;34m\"Enter a col: \"\u001b[0m\u001b[0;34m)\u001b[0m \u001b[0;31m# A, B, C\u001b[0m\u001b[0;34m\u001b[0m\u001b[0;34m\u001b[0m\u001b[0m\n\u001b[0m\u001b[1;32m     39\u001b[0m     \u001b[0mrow_input\u001b[0m \u001b[0;34m=\u001b[0m \u001b[0minput\u001b[0m\u001b[0;34m(\u001b[0m\u001b[0;34m\"Enter a row: \"\u001b[0m\u001b[0;34m)\u001b[0m \u001b[0;31m# 1, 2, 3\u001b[0m\u001b[0;34m\u001b[0m\u001b[0;34m\u001b[0m\u001b[0m\n\u001b[1;32m     40\u001b[0m \u001b[0;34m\u001b[0m\u001b[0m\n",
            "\u001b[0;32m/usr/local/lib/python3.7/dist-packages/ipykernel/kernelbase.py\u001b[0m in \u001b[0;36mraw_input\u001b[0;34m(self, prompt)\u001b[0m\n\u001b[1;32m    702\u001b[0m             \u001b[0mself\u001b[0m\u001b[0;34m.\u001b[0m\u001b[0m_parent_ident\u001b[0m\u001b[0;34m,\u001b[0m\u001b[0;34m\u001b[0m\u001b[0;34m\u001b[0m\u001b[0m\n\u001b[1;32m    703\u001b[0m             \u001b[0mself\u001b[0m\u001b[0;34m.\u001b[0m\u001b[0m_parent_header\u001b[0m\u001b[0;34m,\u001b[0m\u001b[0;34m\u001b[0m\u001b[0;34m\u001b[0m\u001b[0m\n\u001b[0;32m--> 704\u001b[0;31m             \u001b[0mpassword\u001b[0m\u001b[0;34m=\u001b[0m\u001b[0;32mFalse\u001b[0m\u001b[0;34m,\u001b[0m\u001b[0;34m\u001b[0m\u001b[0;34m\u001b[0m\u001b[0m\n\u001b[0m\u001b[1;32m    705\u001b[0m         )\n\u001b[1;32m    706\u001b[0m \u001b[0;34m\u001b[0m\u001b[0m\n",
            "\u001b[0;32m/usr/local/lib/python3.7/dist-packages/ipykernel/kernelbase.py\u001b[0m in \u001b[0;36m_input_request\u001b[0;34m(self, prompt, ident, parent, password)\u001b[0m\n\u001b[1;32m    732\u001b[0m             \u001b[0;32mexcept\u001b[0m \u001b[0mKeyboardInterrupt\u001b[0m\u001b[0;34m:\u001b[0m\u001b[0;34m\u001b[0m\u001b[0;34m\u001b[0m\u001b[0m\n\u001b[1;32m    733\u001b[0m                 \u001b[0;31m# re-raise KeyboardInterrupt, to truncate traceback\u001b[0m\u001b[0;34m\u001b[0m\u001b[0;34m\u001b[0m\u001b[0;34m\u001b[0m\u001b[0m\n\u001b[0;32m--> 734\u001b[0;31m                 \u001b[0;32mraise\u001b[0m \u001b[0mKeyboardInterrupt\u001b[0m\u001b[0;34m\u001b[0m\u001b[0;34m\u001b[0m\u001b[0m\n\u001b[0m\u001b[1;32m    735\u001b[0m             \u001b[0;32melse\u001b[0m\u001b[0;34m:\u001b[0m\u001b[0;34m\u001b[0m\u001b[0;34m\u001b[0m\u001b[0m\n\u001b[1;32m    736\u001b[0m                 \u001b[0;32mbreak\u001b[0m\u001b[0;34m\u001b[0m\u001b[0;34m\u001b[0m\u001b[0m\n",
            "\u001b[0;31mKeyboardInterrupt\u001b[0m: "
          ]
        }
      ]
    },
    {
      "cell_type": "markdown",
      "metadata": {
        "id": "_8aek9zMtjWc"
      },
      "source": [
        "How can we show that the order matters in a list?"
      ]
    },
    {
      "cell_type": "code",
      "metadata": {
        "id": "WoSMPbgstn6F",
        "outputId": "15b4bfa3-78e3-4cf6-a460-a9feaa168985",
        "colab": {
          "base_uri": "https://localhost:8080/"
        }
      },
      "source": [
        "list_1 = [1,2,3]\n",
        "list_2 = [1,2,3]\n",
        "list_3 = [1,3,2]\n",
        "\n",
        "print(list_1 == list_2)\n",
        "print(list_1 == list_3)"
      ],
      "execution_count": 28,
      "outputs": [
        {
          "output_type": "stream",
          "name": "stdout",
          "text": [
            "True\n",
            "False\n"
          ]
        }
      ]
    },
    {
      "cell_type": "markdown",
      "metadata": {
        "id": "6bFZtlVK567M"
      },
      "source": [
        "# 2 - A warning about loops\n",
        "\n",
        "Changing a list (or other collection), while looping over it, can cause unwanted results."
      ]
    },
    {
      "cell_type": "code",
      "metadata": {
        "id": "cRMvNKmA6PDy",
        "outputId": "285d057c-caa2-4422-d7b7-997f6a184ee2",
        "colab": {
          "base_uri": "https://localhost:8080/",
          "height": 292
        }
      },
      "source": [
        "groceries = ['apples', 'bananas', 'pears', 'strawberries']\n",
        "for item_num in range(0,len(groceries)):\n",
        "    print(groceries[item_num])\n",
        "    if groceries[item_num] == 'bananas':\n",
        "        groceries.pop(item_num)"
      ],
      "execution_count": 29,
      "outputs": [
        {
          "output_type": "stream",
          "name": "stdout",
          "text": [
            "apples\n",
            "bananas\n",
            "strawberries\n"
          ]
        },
        {
          "output_type": "error",
          "ename": "IndexError",
          "evalue": "ignored",
          "traceback": [
            "\u001b[0;31m---------------------------------------------------------------------------\u001b[0m",
            "\u001b[0;31mIndexError\u001b[0m                                Traceback (most recent call last)",
            "\u001b[0;32m<ipython-input-29-94e57cd7a4af>\u001b[0m in \u001b[0;36m<module>\u001b[0;34m()\u001b[0m\n\u001b[1;32m      1\u001b[0m \u001b[0mgroceries\u001b[0m \u001b[0;34m=\u001b[0m \u001b[0;34m[\u001b[0m\u001b[0;34m'apples'\u001b[0m\u001b[0;34m,\u001b[0m \u001b[0;34m'bananas'\u001b[0m\u001b[0;34m,\u001b[0m \u001b[0;34m'pears'\u001b[0m\u001b[0;34m,\u001b[0m \u001b[0;34m'strawberries'\u001b[0m\u001b[0;34m]\u001b[0m\u001b[0;34m\u001b[0m\u001b[0;34m\u001b[0m\u001b[0m\n\u001b[1;32m      2\u001b[0m \u001b[0;32mfor\u001b[0m \u001b[0mitem_num\u001b[0m \u001b[0;32min\u001b[0m \u001b[0mrange\u001b[0m\u001b[0;34m(\u001b[0m\u001b[0;36m0\u001b[0m\u001b[0;34m,\u001b[0m\u001b[0mlen\u001b[0m\u001b[0;34m(\u001b[0m\u001b[0mgroceries\u001b[0m\u001b[0;34m)\u001b[0m\u001b[0;34m)\u001b[0m\u001b[0;34m:\u001b[0m\u001b[0;34m\u001b[0m\u001b[0;34m\u001b[0m\u001b[0m\n\u001b[0;32m----> 3\u001b[0;31m     \u001b[0mprint\u001b[0m\u001b[0;34m(\u001b[0m\u001b[0mgroceries\u001b[0m\u001b[0;34m[\u001b[0m\u001b[0mitem_num\u001b[0m\u001b[0;34m]\u001b[0m\u001b[0;34m)\u001b[0m\u001b[0;34m\u001b[0m\u001b[0;34m\u001b[0m\u001b[0m\n\u001b[0m\u001b[1;32m      4\u001b[0m     \u001b[0;32mif\u001b[0m \u001b[0mgroceries\u001b[0m\u001b[0;34m[\u001b[0m\u001b[0mitem_num\u001b[0m\u001b[0;34m]\u001b[0m \u001b[0;34m==\u001b[0m \u001b[0;34m'bananas'\u001b[0m\u001b[0;34m:\u001b[0m\u001b[0;34m\u001b[0m\u001b[0;34m\u001b[0m\u001b[0m\n\u001b[1;32m      5\u001b[0m         \u001b[0mgroceries\u001b[0m\u001b[0;34m.\u001b[0m\u001b[0mpop\u001b[0m\u001b[0;34m(\u001b[0m\u001b[0mitem_num\u001b[0m\u001b[0;34m)\u001b[0m\u001b[0;34m\u001b[0m\u001b[0;34m\u001b[0m\u001b[0m\n",
            "\u001b[0;31mIndexError\u001b[0m: list index out of range"
          ]
        }
      ]
    },
    {
      "cell_type": "code",
      "source": [
        "groceries = ['apples', 'bananas', 'pears', 'strawberries']\n",
        "for item in groceries:\n",
        "    print(item)\n",
        "    if item == 'bananas':\n",
        "        groceries.remove('bananas')"
      ],
      "metadata": {
        "id": "JZTjfVjSHpm0",
        "outputId": "6c618bf9-6035-4713-cce3-9c2e792531e5",
        "colab": {
          "base_uri": "https://localhost:8080/"
        }
      },
      "execution_count": 30,
      "outputs": [
        {
          "output_type": "stream",
          "name": "stdout",
          "text": [
            "apples\n",
            "bananas\n",
            "strawberries\n"
          ]
        }
      ]
    },
    {
      "cell_type": "markdown",
      "metadata": {
        "id": "eZqAulgMz2dj"
      },
      "source": [
        "# 3 - Dictionaries"
      ]
    },
    {
      "cell_type": "markdown",
      "metadata": {
        "id": "kbq1or8az6w6"
      },
      "source": [
        "In the real world, dictionaries let us look up *words* and find *meanings*.\n",
        "In Python, dictionaries let us look up *keys* and find *values*.\n",
        "\n",
        "Like a list, but with meaningful keys instead of indexes 0, 1, 2..."
      ]
    },
    {
      "cell_type": "markdown",
      "metadata": {
        "id": "U5BF1VcLWLmn"
      },
      "source": [
        "Create a dictionary mapping classes to tutor or lecturer."
      ]
    },
    {
      "cell_type": "code",
      "metadata": {
        "id": "Rxuh3oyZ8Nc0"
      },
      "source": [
        "classes = {\n",
        "    \"W14B\":\"Will\",\n",
        "    \"H12A\":\"Ellie\",\n",
        "    \"H12B\":\"Will\",\n",
        "    \"H15B\":\"Krishne\"\n",
        "}"
      ],
      "execution_count": 31,
      "outputs": []
    },
    {
      "cell_type": "code",
      "source": [
        "print(classes)"
      ],
      "metadata": {
        "id": "xLvTkYZJKkf8",
        "outputId": "3d03325e-06cf-485f-df94-b90c03e2d417",
        "colab": {
          "base_uri": "https://localhost:8080/"
        }
      },
      "execution_count": 33,
      "outputs": [
        {
          "output_type": "stream",
          "name": "stdout",
          "text": [
            "{'W14B': 'Will', 'H12A': 'Ellie', 'H12B': 'Will', 'H15B': 'Krishne'}\n"
          ]
        }
      ]
    },
    {
      "cell_type": "markdown",
      "metadata": {
        "id": "qNXUH1KZ8NtW"
      },
      "source": [
        "Which tutor teaches H12A?"
      ]
    },
    {
      "cell_type": "code",
      "metadata": {
        "id": "Wh9N6fL28PRq",
        "outputId": "3c617ba5-f555-47fc-fda8-5b3d5536fe4c",
        "colab": {
          "base_uri": "https://localhost:8080/",
          "height": 35
        }
      },
      "source": [
        "classes[\"H12A\"]"
      ],
      "execution_count": 32,
      "outputs": [
        {
          "output_type": "execute_result",
          "data": {
            "application/vnd.google.colaboratory.intrinsic+json": {
              "type": "string"
            },
            "text/plain": [
              "'Ellie'"
            ]
          },
          "metadata": {},
          "execution_count": 32
        }
      ]
    },
    {
      "cell_type": "markdown",
      "metadata": {
        "id": "c5VR6-uiWZkg"
      },
      "source": [
        "Can we add another class to the dictionary?"
      ]
    },
    {
      "cell_type": "code",
      "metadata": {
        "id": "4vGiJTroWeL1"
      },
      "source": [
        "classes[\"W16A\"] = \"Krishne\""
      ],
      "execution_count": 34,
      "outputs": []
    },
    {
      "cell_type": "code",
      "source": [
        "print(classes)"
      ],
      "metadata": {
        "id": "Ad0bmIMIKoPQ",
        "outputId": "ffefa52e-6984-4043-aa70-fee3e309c16c",
        "colab": {
          "base_uri": "https://localhost:8080/"
        }
      },
      "execution_count": 35,
      "outputs": [
        {
          "output_type": "stream",
          "name": "stdout",
          "text": [
            "{'W14B': 'Will', 'H12A': 'Ellie', 'H12B': 'Will', 'H15B': 'Krishne', 'W16A': 'Krishne'}\n"
          ]
        }
      ]
    },
    {
      "cell_type": "markdown",
      "metadata": {
        "id": "y5LAY7lZWeYn"
      },
      "source": [
        "Can we change which tutor takes a class?"
      ]
    },
    {
      "cell_type": "code",
      "metadata": {
        "id": "UqDcwA4NWkxf",
        "outputId": "8682e67b-a0b0-4e4f-90e7-0596c0b8b7ff",
        "colab": {
          "base_uri": "https://localhost:8080/"
        }
      },
      "source": [
        "classes['W14B'] = 'Ellie'\n",
        "classes"
      ],
      "execution_count": 36,
      "outputs": [
        {
          "output_type": "execute_result",
          "data": {
            "text/plain": [
              "{'H12A': 'Ellie',\n",
              " 'H12B': 'Will',\n",
              " 'H15B': 'Krishne',\n",
              " 'W14B': 'Ellie',\n",
              " 'W16A': 'Krishne'}"
            ]
          },
          "metadata": {},
          "execution_count": 36
        }
      ]
    },
    {
      "cell_type": "markdown",
      "metadata": {
        "id": "F9DTDyLJWlCf"
      },
      "source": [
        "Two tutors have swapped classes. How would we go about updating the dictionary?"
      ]
    },
    {
      "cell_type": "code",
      "metadata": {
        "id": "hHthwW21XDii",
        "outputId": "93414980-447b-44db-e48c-12a5b74fd780",
        "colab": {
          "base_uri": "https://localhost:8080/"
        }
      },
      "source": [
        "# Save Will\n",
        "temp = classes['H12B']\n",
        "# Copy Ellie over Will\n",
        "classes['H12B'] = classes['H12A']\n",
        "# Put Will in Ellie's old class\n",
        "classes['H12A'] = temp\n",
        "\n",
        "classes"
      ],
      "execution_count": 37,
      "outputs": [
        {
          "output_type": "execute_result",
          "data": {
            "text/plain": [
              "{'H12A': 'Will',\n",
              " 'H12B': 'Ellie',\n",
              " 'H15B': 'Krishne',\n",
              " 'W14B': 'Ellie',\n",
              " 'W16A': 'Krishne'}"
            ]
          },
          "metadata": {},
          "execution_count": 37
        }
      ]
    },
    {
      "cell_type": "markdown",
      "source": [
        "Can we print just the classes?"
      ],
      "metadata": {
        "id": "XVUzGOPPLcrp"
      }
    },
    {
      "cell_type": "code",
      "source": [
        "for classtime in classes:\n",
        "    print(\"Key: \" + classtime)\n",
        "    print(\"Value: \" + classes[classtime])"
      ],
      "metadata": {
        "id": "VcskvOl4LcHg",
        "outputId": "39d62045-8beb-48fd-c869-cfb732f0f7bd",
        "colab": {
          "base_uri": "https://localhost:8080/"
        }
      },
      "execution_count": 41,
      "outputs": [
        {
          "output_type": "stream",
          "name": "stdout",
          "text": [
            "Key: W14B\n",
            "Value: Ellie\n",
            "Key: H12A\n",
            "Value: Will\n",
            "Key: H12B\n",
            "Value: Ellie\n",
            "Key: H15B\n",
            "Value: Krishne\n",
            "Key: W16A\n",
            "Value: Krishne\n"
          ]
        }
      ]
    },
    {
      "cell_type": "markdown",
      "metadata": {
        "id": "QUZ92cv8nvsp"
      },
      "source": [
        "Obfuscation\n",
        "\n",
        "Is there another way to solve this problem?\n",
        "\n",
        "> Oh no, somaona hes dona somathing tarribla to my writing. Thay'va sweppad eround tha lattar 'e' end tha lattar 'a'"
      ]
    },
    {
      "cell_type": "code",
      "metadata": {
        "id": "WsIgYPzan2vi",
        "outputId": "4953cbaa-8625-48b6-a09a-8151d53d98b9",
        "colab": {
          "base_uri": "https://localhost:8080/",
          "height": 35
        }
      },
      "source": [
        "text = \"Oh no, somaona hes dona somathing tarribla to my writing. Thay'va sweppad eround tha lattar 'e' end tha lattar 'a'\"\n",
        "translation = {'a':'e', 'e':'a'}\n",
        "fixed_text = \"\"\n",
        "for letter in text:\n",
        "    if letter in translation.keys():\n",
        "        fixed_text = fixed_text + translation[letter]\n",
        "    else:\n",
        "        fixed_text = fixed_text + letter\n",
        "\n",
        "fixed_text"
      ],
      "execution_count": 42,
      "outputs": [
        {
          "output_type": "execute_result",
          "data": {
            "application/vnd.google.colaboratory.intrinsic+json": {
              "type": "string"
            },
            "text/plain": [
              "\"Oh no, someone has done something terrible to my writing. They've swapped around the letter 'a' and the letter 'e'\""
            ]
          },
          "metadata": {},
          "execution_count": 42
        }
      ]
    },
    {
      "cell_type": "markdown",
      "metadata": {
        "id": "EqBIuOzqXDzR"
      },
      "source": [
        "Dictionaries are:\n",
        "* ordered*\n",
        "* changeable\n",
        "* does not allow duplicates\n",
        "\n",
        "Note: As of Python version 3.7, dictionaries are ordered. In Python 3.6 and earlier, dictionaries are unordered."
      ]
    },
    {
      "cell_type": "markdown",
      "metadata": {
        "id": "kD2fo7X4RDhd"
      },
      "source": [
        "What happens if we try and put a duplicate entry into a dictionary?"
      ]
    },
    {
      "cell_type": "code",
      "metadata": {
        "id": "04XcJENJRJbO",
        "outputId": "9fd479ab-ff07-4c76-fb36-fa1c50e528a0",
        "colab": {
          "base_uri": "https://localhost:8080/"
        }
      },
      "source": [
        "groceries = {\n",
        "    \"apples\":4,\n",
        "    \"banaas\":3,\n",
        "    \"pears\":7,\n",
        "    \"strawberries\":4,\n",
        "    \"apples\":2\n",
        "}\n",
        "groceries"
      ],
      "execution_count": 47,
      "outputs": [
        {
          "output_type": "execute_result",
          "data": {
            "text/plain": [
              "{'apples': 2, 'banaas': 3, 'pears': 7, 'strawberries': 4}"
            ]
          },
          "metadata": {},
          "execution_count": 47
        }
      ]
    },
    {
      "cell_type": "code",
      "source": [
        "groceries[\"apples\"] = 7\n",
        "groceries"
      ],
      "metadata": {
        "id": "_O3CeB_dMt3m",
        "outputId": "bb3eb62a-0148-49de-8d6f-1f711590c7fc",
        "colab": {
          "base_uri": "https://localhost:8080/"
        }
      },
      "execution_count": 48,
      "outputs": [
        {
          "output_type": "execute_result",
          "data": {
            "text/plain": [
              "{'apples': 7, 'banaas': 3, 'pears': 7, 'strawberries': 4}"
            ]
          },
          "metadata": {},
          "execution_count": 48
        }
      ]
    },
    {
      "cell_type": "markdown",
      "metadata": {
        "id": "xVUUQjG_LrMY"
      },
      "source": [
        "Can we loop through a dictionary and print out all the keys?"
      ]
    },
    {
      "cell_type": "code",
      "metadata": {
        "id": "_wuW-cauLv9I",
        "outputId": "8e102bf4-b6be-4c21-8961-738cd72239bd",
        "colab": {
          "base_uri": "https://localhost:8080/"
        }
      },
      "source": [
        "for item in groceries:\n",
        "    print(item)"
      ],
      "execution_count": 49,
      "outputs": [
        {
          "output_type": "stream",
          "name": "stdout",
          "text": [
            "apples\n",
            "banaas\n",
            "pears\n",
            "strawberries\n"
          ]
        }
      ]
    },
    {
      "cell_type": "markdown",
      "metadata": {
        "id": "Sfl92YK4DsTx"
      },
      "source": [
        "Using what we know about dictionaries, how could we use our loop through the keys, to access all the information?"
      ]
    },
    {
      "cell_type": "code",
      "metadata": {
        "id": "bFCxkpreDwfr",
        "outputId": "50f45a79-4fa1-4ec8-d864-86a2bf527de1",
        "colab": {
          "base_uri": "https://localhost:8080/"
        }
      },
      "source": [
        "for item in groceries:\n",
        "    qty = groceries[item]\n",
        "    print(f\"{qty} {item}\")"
      ],
      "execution_count": 52,
      "outputs": [
        {
          "output_type": "stream",
          "name": "stdout",
          "text": [
            "7 apples\n",
            "3 banaas\n",
            "7 pears\n",
            "4 strawberries\n"
          ]
        }
      ]
    },
    {
      "cell_type": "markdown",
      "metadata": {
        "id": "6Jj7Wm6JDw4G"
      },
      "source": [
        "Is there a more concise way to display/use all the data in a dictionary?"
      ]
    },
    {
      "cell_type": "code",
      "metadata": {
        "id": "gnZxPebCD2vs",
        "outputId": "acb966bc-fb3e-469a-9fee-93c68c6a1736",
        "colab": {
          "base_uri": "https://localhost:8080/"
        }
      },
      "source": [
        "for item,qty in groceries.items():\n",
        "    print(f\"{qty} {item}\")"
      ],
      "execution_count": 53,
      "outputs": [
        {
          "output_type": "stream",
          "name": "stdout",
          "text": [
            "7 apples\n",
            "3 banaas\n",
            "7 pears\n",
            "4 strawberries\n"
          ]
        }
      ]
    },
    {
      "cell_type": "code",
      "source": [
        "print(groceries.items())"
      ],
      "metadata": {
        "id": "svm_783QSZvD",
        "outputId": "5a710f6e-3ad0-4e68-bece-c334d50d950f",
        "colab": {
          "base_uri": "https://localhost:8080/"
        }
      },
      "execution_count": 71,
      "outputs": [
        {
          "output_type": "stream",
          "name": "stdout",
          "text": [
            "dict_items([('apples', 7), ('banaas', 3), ('pears', 7), ('strawberries', 4)])\n"
          ]
        }
      ]
    },
    {
      "cell_type": "markdown",
      "metadata": {
        "id": "q0j70CbVjKhY"
      },
      "source": [
        "### Text Analysis Using Dictionaries: E-mail Example"
      ]
    },
    {
      "cell_type": "markdown",
      "metadata": {
        "id": "iFehM0xKi36H"
      },
      "source": [
        "This list contains the e-mail addresses of 4 different students."
      ]
    },
    {
      "cell_type": "code",
      "metadata": {
        "id": "oNTU0_U8jTgi"
      },
      "source": [
        "emails = [\"z1234567@student.unsw.edu.au\", \"z7654321@unsw.edu.au\", \"z7891234@ad.unsw.edu.au\", \"z1357924@student.unsw.edu.au\"]"
      ],
      "execution_count": 54,
      "outputs": []
    },
    {
      "cell_type": "markdown",
      "metadata": {
        "id": "1skhA71ajJ1C"
      },
      "source": [
        "Can we build a dictionary containing the Zids as keys and the e-mail addresses as values?"
      ]
    },
    {
      "cell_type": "code",
      "metadata": {
        "id": "LEk-D_rQjbTT",
        "outputId": "d2f93bd3-0eec-4323-984b-02f3548ff89f",
        "colab": {
          "base_uri": "https://localhost:8080/"
        }
      },
      "source": [
        "# Create an empty dictionary\n",
        "email_dictionary = {}\n",
        "# Go through all emails\n",
        "for email in emails:\n",
        "    # Extract the zid from the e-mail address\n",
        "    zid = email[0:8]\n",
        "    # Add the zid and e-mail address to our dictionary\n",
        "    email_dictionary[zid] = email\n",
        "\n",
        "email_dictionary"
      ],
      "execution_count": 57,
      "outputs": [
        {
          "output_type": "execute_result",
          "data": {
            "text/plain": [
              "{'z1234567': 'z1234567@student.unsw.edu.au',\n",
              " 'z1357924': 'z1357924@student.unsw.edu.au',\n",
              " 'z7654321': 'z7654321@unsw.edu.au',\n",
              " 'z7891234': 'z7891234@ad.unsw.edu.au'}"
            ]
          },
          "metadata": {},
          "execution_count": 57
        }
      ]
    },
    {
      "cell_type": "markdown",
      "metadata": {
        "id": "blFe2sqUjcRM"
      },
      "source": [
        "How many students prefer each e-mail domain?"
      ]
    },
    {
      "cell_type": "code",
      "metadata": {
        "id": "8R_2JN1QjeXw",
        "outputId": "84b8d2ab-83e9-4908-a8d7-cac52b2bf6b9",
        "colab": {
          "base_uri": "https://localhost:8080/"
        }
      },
      "source": [
        "# Create an empty dictionary\n",
        "# Keys: email domains\n",
        "# Values: amount of students\n",
        "domain_tally = {}\n",
        "print(domain_tally)\n",
        "\n",
        "for email in emails:\n",
        "    # Extract the domain\n",
        "    domain = email[9:]\n",
        "    # Update our dictionary\n",
        "    print(\"Updating key: \"+domain)\n",
        "    if domain not in domain_tally:\n",
        "        domain_tally[domain] = 0\n",
        "    domain_tally[domain] += 1 # same as: domain_tally[domain] = domain_tally[domain] + 1\n",
        "\n",
        "domain_tally"
      ],
      "execution_count": 60,
      "outputs": [
        {
          "output_type": "stream",
          "name": "stdout",
          "text": [
            "{}\n",
            "Updating key: student.unsw.edu.au\n",
            "Updating key: unsw.edu.au\n",
            "Updating key: ad.unsw.edu.au\n",
            "Updating key: student.unsw.edu.au\n"
          ]
        },
        {
          "output_type": "execute_result",
          "data": {
            "text/plain": [
              "{'ad.unsw.edu.au': 1, 'student.unsw.edu.au': 2, 'unsw.edu.au': 1}"
            ]
          },
          "metadata": {},
          "execution_count": 60
        }
      ]
    },
    {
      "cell_type": "markdown",
      "metadata": {
        "id": "tkI40jPCjfwA"
      },
      "source": [
        "Can we group students by their preferred e-mail domain?"
      ]
    },
    {
      "cell_type": "code",
      "metadata": {
        "id": "OAQoSRkGjil0",
        "outputId": "765c42e0-122e-4bf4-c612-aacfed12f124",
        "colab": {
          "base_uri": "https://localhost:8080/"
        }
      },
      "source": [
        "# Create an empty dictionary\n",
        "# Keys: email domains\n",
        "# Values: list of students\n",
        "domain_tally = {}\n",
        "print(domain_tally)\n",
        "\n",
        "for email in emails:\n",
        "    # Extract the student\n",
        "    student = email[0:8]\n",
        "    # Extract the domain\n",
        "    domain = email[9:]\n",
        "    # Update our dictionary\n",
        "    print(\"Updating key: \"+domain)\n",
        "    if domain not in domain_tally:\n",
        "        domain_tally[domain] = []\n",
        "    domain_tally[domain].append(student)\n",
        "\n",
        "domain_tally"
      ],
      "execution_count": 61,
      "outputs": [
        {
          "output_type": "stream",
          "name": "stdout",
          "text": [
            "{}\n",
            "Updating key: student.unsw.edu.au\n",
            "Updating key: unsw.edu.au\n",
            "Updating key: ad.unsw.edu.au\n",
            "Updating key: student.unsw.edu.au\n"
          ]
        },
        {
          "output_type": "execute_result",
          "data": {
            "text/plain": [
              "{'ad.unsw.edu.au': ['z7891234'],\n",
              " 'student.unsw.edu.au': ['z1234567', 'z1357924'],\n",
              " 'unsw.edu.au': ['z7654321']}"
            ]
          },
          "metadata": {},
          "execution_count": 61
        }
      ]
    },
    {
      "cell_type": "markdown",
      "metadata": {
        "id": "8fO_afpfD8Pi"
      },
      "source": [
        "# 4 - Tuples"
      ]
    },
    {
      "cell_type": "markdown",
      "metadata": {
        "id": "fOcEmYZIEFpZ"
      },
      "source": [
        "Tuples are:\n",
        "* ordered\n",
        "* unchangeable\n",
        "* allows duplicates"
      ]
    },
    {
      "cell_type": "markdown",
      "metadata": {
        "id": "me3_0Y_iJ2ml"
      },
      "source": [
        "In Python, Tuples are like lists, with one key difference. They are immutable. That means they cannot be changed after they have been created. In this way, they are similar to strings. They are created (defined) using the () (rather than [ ] like in lists and { } like in dictionaries)."
      ]
    },
    {
      "cell_type": "markdown",
      "metadata": {
        "id": "sBcTABFaEUcJ"
      },
      "source": [
        "Can we use a tuple to return several values from a function?\n",
        "\n",
        "When visiting a theme park, many rides require you to be a certain height before you can ride them.\n",
        "\n",
        "At a specific park there are:\n",
        "\n",
        "* Red Riders: 85-105cm tall. They have access to 9 rides.\n",
        "* Green Riders: 106-131cm tall. They have access to 21 rides.\n",
        "* Yellow Riders: 132cm and taller. They have access to 27 rides.\n",
        "\n",
        "Write a function which takes in the user's height in cm (as a parameter) and returns a string (\"Red Rider\", \"Green Rider\" or \"Yellow Rider\") and the number of rides they have access to.\n",
        "\n",
        "Write a function which asks the user for their height and then calls the function, and displays the results."
      ]
    },
    {
      "cell_type": "code",
      "metadata": {
        "id": "3T_M753vGoVT"
      },
      "source": [
        "def height_to_ride(height):\n",
        "    if height >= 85 and height <= 105:\n",
        "        return \"Red Rider\",9\n",
        "    if height >= 106 and height <= 131:\n",
        "        return \"Green Rider\",21\n",
        "    if height >=132:\n",
        "        return \"Yellow Rider\",27"
      ],
      "execution_count": 63,
      "outputs": []
    },
    {
      "cell_type": "code",
      "source": [
        "rider = height_to_ride(87)\n",
        "print(rider)\n",
        "print(rider[0])\n",
        "# rider[0] = 'Yellow Rider'\n",
        "print(f\"You are a {rider[0]} and have access to {rider[1]} rides.\")"
      ],
      "metadata": {
        "id": "iWaCcUTURrdI",
        "outputId": "0d6eb97a-25e4-4c21-d4b8-16a8d5a21cbb",
        "colab": {
          "base_uri": "https://localhost:8080/"
        }
      },
      "execution_count": 68,
      "outputs": [
        {
          "output_type": "stream",
          "name": "stdout",
          "text": [
            "('Red Rider', 9)\n",
            "Red Rider\n",
            "You are a Red Rider and have access to 9 rides.\n"
          ]
        }
      ]
    },
    {
      "cell_type": "code",
      "source": [
        "rider_type, num_rides = height_to_ride(130)\n",
        "print(f\"You are a {rider_type} and have access to {num_rides} rides.\")"
      ],
      "metadata": {
        "id": "z8q0V1nbSKaE",
        "outputId": "83f7d732-a06b-48f6-ff4c-14f881e46404",
        "colab": {
          "base_uri": "https://localhost:8080/"
        }
      },
      "execution_count": 69,
      "outputs": [
        {
          "output_type": "stream",
          "name": "stdout",
          "text": [
            "You are a Green Rider and have access to 21 rides.\n"
          ]
        }
      ]
    },
    {
      "cell_type": "markdown",
      "metadata": {
        "id": "ZHzbbO4lkdyh"
      },
      "source": [
        "In COMP1010, we are not going to use Tuples in more detail than this. If you are interested in further exploring this topic I recommend:\n",
        "* [W3Schools Tuples](https://www.w3schools.com/python/python_tuples.asp)\n",
        "* [Tutorials Point Tuples](https://www.tutorialspoint.com/python/python_tuples.htm)"
      ]
    },
    {
      "cell_type": "markdown",
      "metadata": {
        "id": "dshwJXJennss"
      },
      "source": [
        "# 5 - Sets\n",
        "\n",
        "We aren't going to cover Python Sets in COMP1010. If you are interested in this form of collection, I recommend:\n",
        "* [W3Schools Sets](https://www.w3schools.com/python/python_sets.asp)"
      ]
    },
    {
      "cell_type": "markdown",
      "metadata": {
        "id": "JEat-wKwBNdb"
      },
      "source": [
        "# 6 - Complex Data Structures"
      ]
    },
    {
      "cell_type": "markdown",
      "metadata": {
        "id": "cFRa9VbmAtZ2"
      },
      "source": [
        "## 1 - House Hunting\n",
        "\n",
        "The following cell defines a list of houses for sale. It includes their address, number of bedrooms and bathrooms, price, and features (garage, pool, granny flat, etc.)"
      ]
    },
    {
      "cell_type": "code",
      "metadata": {
        "id": "DyUHH3tCBQSa"
      },
      "source": [
        "houses = [\n",
        "    { \n",
        "        \"address\": \"42 Wallaby Way, Sydney\", \n",
        "        \"bedrooms\": 3, \n",
        "        \"bathrooms\": 2, \n",
        "        \"features\": [\"garage\", \"pool\"] \n",
        "    },\n",
        "    { \n",
        "        \"address\": \"123 Fake Street, Mosman\", \n",
        "        \"bedrooms\": 6, \n",
        "        \"bathrooms\": 3, \n",
        "        \"features\": [\"pool\", \"granny flat\"]     \n",
        "    },\n",
        "    { \n",
        "        \"address\": \"1 High Street, Kensington\", \n",
        "        \"bedrooms\": 2, \n",
        "        \"bathrooms\": 1, \n",
        "        \"features\": [] \n",
        "    },\n",
        "    { \n",
        "        \"address\": \"109 Kirribilli Ave, Kirribilli\", \n",
        "        \"bedrooms\": 10, \n",
        "        \"bathrooms\": 7, \n",
        "        \"features\": [\"garage\", \"pool\", \"wine cellar\", \"tennis court\"] \n",
        "    }\n",
        "]"
      ],
      "execution_count": 72,
      "outputs": []
    },
    {
      "cell_type": "markdown",
      "metadata": {
        "id": "m_5f5IK_BSti"
      },
      "source": [
        "\n",
        "Write the function `find_houses(houses, bedrooms, bathrooms, features)` that returns a list of the addresses of all the houses with at least the given number of bedrooms and bathrooms and at least the given list of features.\n",
        "\n",
        "**NOTE:** Don't assume the list of houses or set of possible features is constrained to what is written above. Your function should still work if new houses were added to the above list."
      ]
    },
    {
      "cell_type": "code",
      "metadata": {
        "id": "zMpFumJHB7QS"
      },
      "source": [
        "def find_houses(houses, bedrooms, bathrooms, features):\n",
        "    house_options = []\n",
        "    # Go through all the houses\n",
        "    for house in houses:\n",
        "        # If the house satisfies our requirements, add it to our list\n",
        "        # Assume it satisfies our requirements\n",
        "        satisfies = True\n",
        "        # Go through requirements, and if it doesn't satisfy it, set satisfies to False\n",
        "        num_bedrooms = house[\"bedrooms\"]\n",
        "        if num_bedrooms < bedrooms:\n",
        "            satisfies = False\n",
        "        num_bathrooms = house[\"bathrooms\"]\n",
        "        if num_bathrooms < bathrooms:\n",
        "            satisfies = False\n",
        "        # Go through the features, check if they're in the list of available features (for that house)\n",
        "        # If we find any features that we asked for, which aren't in the list of available features, satisfies = False\n",
        "        house_features = house[\"features\"]\n",
        "        for requested_feature in features:\n",
        "            if requested_feature not in house_features:\n",
        "                satisfies = False\n",
        "\n",
        "        # At this point, if satisfies is True, then we have a potential house.\n",
        "        if satisfies:\n",
        "            house_options.append(house[\"address\"])\n",
        "            \n",
        "    return house_options\n"
      ],
      "execution_count": 76,
      "outputs": []
    },
    {
      "cell_type": "markdown",
      "metadata": {
        "id": "YzC7pPTXBmrA"
      },
      "source": [
        "Use this cell to test your function:"
      ]
    },
    {
      "cell_type": "code",
      "metadata": {
        "id": "ToutMRHgBpSJ"
      },
      "source": [
        "assert find_houses(houses, 3, 1, [\"garage\"]) == [\"42 Wallaby Way, Sydney\", \"109 Kirribilli Ave, Kirribilli\"]\n",
        "assert find_houses(houses, 6, 4, []) == [\"109 Kirribilli Ave, Kirribilli\"]\n",
        "assert find_houses(houses, 1, 1, [\"granny flat\"]) == [\"123 Fake Street, Mosman\"]"
      ],
      "execution_count": 78,
      "outputs": []
    },
    {
      "cell_type": "markdown",
      "metadata": {
        "id": "1JHlGGzR6AF_"
      },
      "source": [
        "# Feedback (Topic 3.4)\n",
        "\n",
        "[https://forms.gle/Uod5Jpr7AJ2z7cHLA](https://forms.gle/Uod5Jpr7AJ2z7cHLA)\n",
        "\n",
        "![](https://i.imgur.com/0L50D4L.png)"
      ]
    }
  ]
}