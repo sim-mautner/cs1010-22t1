{
  "nbformat": 4,
  "nbformat_minor": 0,
  "metadata": {
    "colab": {
      "name": "03-testing-introduction.ipynb",
      "provenance": [],
      "toc_visible": true,
      "authorship_tag": "ABX9TyOjEymE0A6pF4TnDMZS3uJy",
      "include_colab_link": true
    },
    "kernelspec": {
      "name": "python3",
      "display_name": "Python 3"
    },
    "language_info": {
      "name": "python"
    }
  },
  "cells": [
    {
      "cell_type": "markdown",
      "metadata": {
        "id": "view-in-github",
        "colab_type": "text"
      },
      "source": [
        "<a href=\"https://colab.research.google.com/github/sim-mautner/cs1010-22t1/blob/master/lectures/03-python-and-programming-fundamentals/03-testing-introduction.ipynb\" target=\"_parent\"><img src=\"https://colab.research.google.com/assets/colab-badge.svg\" alt=\"Open In Colab\"/></a>"
      ]
    },
    {
      "cell_type": "markdown",
      "metadata": {
        "id": "8y3btaKHE4ag"
      },
      "source": [
        "> Topic 3<br>\n",
        "> Python and Programming Fundamentals<br>\n",
        "> COMP1010 2021 T3<br>\n",
        "> Week 1-3\n",
        "\n",
        "> Topic 3.3<br>\n",
        "> Testing (an introduction)"
      ]
    },
    {
      "cell_type": "markdown",
      "metadata": {
        "id": "8MmJvOZTi3PV"
      },
      "source": [
        "# 1 - Assert\n",
        "\n",
        "When testing if a piece of code works, we need to check all the different pathways our execution could take, and that each one produces the expected result.\n",
        "\n",
        "`assert(condition)`"
      ]
    },
    {
      "cell_type": "markdown",
      "metadata": {
        "id": "kP7wjZyvji7H"
      },
      "source": [
        "What does it look like when an `assert` passes?"
      ]
    },
    {
      "cell_type": "code",
      "metadata": {
        "id": "kWMcPKYAjl6B"
      },
      "source": [
        "assert(True)"
      ],
      "execution_count": 1,
      "outputs": []
    },
    {
      "cell_type": "markdown",
      "metadata": {
        "id": "P29RUnTkjmNU"
      },
      "source": [
        "What does it look like when an `assert` fails?"
      ]
    },
    {
      "cell_type": "code",
      "source": [
        "assert(False)"
      ],
      "metadata": {
        "id": "UyiTnYYJC-hb",
        "outputId": "5af6b7ef-4b95-4571-82d4-842d88b02b0c",
        "colab": {
          "base_uri": "https://localhost:8080/",
          "height": 168
        }
      },
      "execution_count": 2,
      "outputs": [
        {
          "output_type": "error",
          "ename": "AssertionError",
          "evalue": "ignored",
          "traceback": [
            "\u001b[0;31m---------------------------------------------------------------------------\u001b[0m",
            "\u001b[0;31mAssertionError\u001b[0m                            Traceback (most recent call last)",
            "\u001b[0;32m<ipython-input-2-8808c4021c9c>\u001b[0m in \u001b[0;36m<module>\u001b[0;34m()\u001b[0m\n\u001b[0;32m----> 1\u001b[0;31m \u001b[0;32massert\u001b[0m\u001b[0;34m(\u001b[0m\u001b[0;32mFalse\u001b[0m\u001b[0;34m)\u001b[0m\u001b[0;34m\u001b[0m\u001b[0;34m\u001b[0m\u001b[0m\n\u001b[0m",
            "\u001b[0;31mAssertionError\u001b[0m: "
          ]
        }
      ]
    },
    {
      "cell_type": "markdown",
      "metadata": {
        "id": "6zQkNeE_jKW2"
      },
      "source": [
        "Write some tests for your my_len() function you wrote above."
      ]
    },
    {
      "cell_type": "code",
      "metadata": {
        "id": "x5ZGVZ1chPok"
      },
      "source": [
        "def my_len(text):\n",
        "    length = 0\n",
        "    for letter in text:\n",
        "        length = length + 1\n",
        "    return length"
      ],
      "execution_count": 8,
      "outputs": []
    },
    {
      "cell_type": "code",
      "metadata": {
        "id": "PaPLzML0jHLH"
      },
      "source": [
        "assert my_len(\"hello\") == 5\n",
        "assert my_len(\"\") == 0"
      ],
      "execution_count": 9,
      "outputs": []
    },
    {
      "cell_type": "markdown",
      "metadata": {
        "id": "9eLH9VV1kS_Z"
      },
      "source": [
        "# 2 - Test-Driven Development (TDD)"
      ]
    },
    {
      "cell_type": "markdown",
      "metadata": {
        "id": "L0ryHmlfkDPY"
      },
      "source": [
        "Test-Driven Development (TDD) is an approach to programming whereby the requirements or specification of the project are converted into test cases before the software is written."
      ]
    },
    {
      "cell_type": "markdown",
      "metadata": {
        "id": "b0dIARVrj972"
      },
      "source": [
        "<a name='eg_months_cell'></a>\n",
        "### Example: Months of the Year\n",
        "\n",
        "Consider a function which takes in a number and returns a string with the month of the year that that number corresponds to.\n",
        "\n",
        "1. What cases need to be considered?\n",
        "2. Write some tests which cover these cases.\n",
        "3. Implement the function."
      ]
    },
    {
      "cell_type": "markdown",
      "metadata": {
        "id": "r7z_xzGM3LwB"
      },
      "source": [
        "Cases to consider:\n",
        "* `0` --> \"\"\n",
        "* `> 12` --> \"\"\n",
        "* `3.14` --> \"\"\n",
        "* `1` --> \"Jan\"\n",
        "* `12` --> \"Dec\"\n",
        "* `2` --> \"Feb\" ... and all other months\n",
        "* `-1` --> \"\"\n",
        "* `\"Hello\"` --> \"\""
      ]
    },
    {
      "cell_type": "code",
      "metadata": {
        "id": "DWDwbR85lX1t"
      },
      "source": [
        "assert num_to_month(0) == \"\"\n",
        "assert num_to_month(13) == \"\"\n",
        "assert num_to_month(3.14) == \"\"\n",
        "assert num_to_month(-1) == \"\"\n",
        "assert num_to_month(\"Hello\") == \"\"\n",
        "assert num_to_month(1) == \"Jan\"\n",
        "assert num_to_month(2) == \"Feb\"\n",
        "assert num_to_month(3) == \"Mar\"\n",
        "assert num_to_month(4) == \"Apr\"\n",
        "assert num_to_month(5) == \"May\"\n",
        "assert num_to_month(6) == \"Jun\"\n",
        "assert num_to_month(7) == \"Jul\"\n",
        "assert num_to_month(8) == \"Aug\"\n",
        "assert num_to_month(9) == \"Sep\"\n",
        "assert num_to_month(10) == \"Oct\"\n",
        "assert num_to_month(11) == \"Nov\"\n",
        "assert num_to_month(12) == \"Dec\""
      ],
      "execution_count": 23,
      "outputs": []
    },
    {
      "cell_type": "code",
      "metadata": {
        "id": "uBQZ-otplXhV"
      },
      "source": [
        "def num_to_month(num):\n",
        "    if not str(num).isnumeric():\n",
        "        return \"\"\n",
        "    num = int(num)\n",
        "    if num < 1:\n",
        "        return \"\"\n",
        "    if num > 12:\n",
        "        return \"\"\n",
        "    if num == 1:\n",
        "        return \"Jan\"\n",
        "    if num == 2:\n",
        "        return \"Feb\"\n",
        "    if num == 3:\n",
        "        return \"Mar\"\n",
        "    if num == 4:\n",
        "        return \"Apr\"\n",
        "    if num == 5:\n",
        "        return \"May\"\n",
        "    if num == 6:\n",
        "        return \"Jun\"\n",
        "    if num == 7:\n",
        "        return \"Jul\"\n",
        "    if num == 8:\n",
        "        return \"Aug\"\n",
        "    if num == 9:\n",
        "        return \"Sep\"\n",
        "    if num == 10:\n",
        "        return \"Oct\"\n",
        "    if num == 11:\n",
        "        return \"Nov\"\n",
        "    if num == 12:\n",
        "        return \"Dec\""
      ],
      "execution_count": 22,
      "outputs": []
    },
    {
      "cell_type": "markdown",
      "metadata": {
        "id": "w4PYn6-vx3if"
      },
      "source": [
        "### Example: Ready to Lecture (part 2)\n",
        "\n",
        "Consider the [Getting Ready to Lecture](#eg_ready_to_lecture_cell) example.\n",
        "\n",
        "1. Write tests to check whether or not your code was correct.\n",
        "2. Convert your code into a function which takes in booleans and returns a string.\n",
        "3. Run your tests on your code.\n",
        "\n",
        "This example makes it clear, how much easier it is to test every possible condition, rather than changing the value of the variables with the code."
      ]
    },
    {
      "cell_type": "markdown",
      "source": [
        "The outputs are now:\n",
        "\n",
        "* No time to get ready. Start lecturing now.\n",
        "* Ready to lecture.\n",
        "* Get your water bottle.\n",
        "* Go make your bed."
      ],
      "metadata": {
        "id": "an-tJHqyG4mT"
      }
    },
    {
      "cell_type": "markdown",
      "source": [
        "Cases to consider:\n",
        "* on_time, bed_made, water_bottle_ready\n",
        "* on_time, bed_made, not water_bottle_ready\n",
        "* on_time, not bed_made, water_bottle_ready\n",
        "* on_time, not bed_made, not water_bottle_ready.....\n",
        "\n",
        "| on_time | bed_made | water_bottle_ready |\n",
        "|---|---|---|\n",
        "| T | T | T |\n",
        "| T | T | F |\n",
        "| T | F | T |\n",
        "| T | F | F |\n",
        "| F | T | T |\n",
        "| F | T | F |\n",
        "| F | F | T |\n",
        "| F | F | F |"
      ],
      "metadata": {
        "id": "WQuhl-TBG-An"
      }
    },
    {
      "cell_type": "code",
      "metadata": {
        "id": "mWrenjVay-_n"
      },
      "source": [
        "assert ready_to_lecture(True, True, True) == \"Ready to lecture.\"\n",
        "assert ready_to_lecture(True, True, False) == \"Get your water bottle.\"\n",
        "assert ready_to_lecture(True, False, True) == \"Go make your bed.\"\n",
        "assert ready_to_lecture(True, False, False) == \"Get your water bottle.\"\n",
        "assert ready_to_lecture(False, True, True) == \"Ready to lecture.\"\n",
        "assert ready_to_lecture(False, True, False) == \"No time to get ready. Start lecturing now.\"\n",
        "assert ready_to_lecture(False, False, True) == \"No time to get ready. Start lecturing now.\"\n",
        "assert ready_to_lecture(False, False, False) == \"No time to get ready. Start lecturing now.\""
      ],
      "execution_count": 39,
      "outputs": []
    },
    {
      "cell_type": "code",
      "source": [
        "def ready_to_lecture(on_time, bed_made, water_ready):\n",
        "    if bed_made and water_ready:\n",
        "        return \"Ready to lecture.\"\n",
        "\n",
        "    #considering all factors\n",
        "    if on_time == True:\n",
        "        if bed_made == True:\n",
        "            if water_ready == True:\n",
        "                return \"No time to get ready. Start lecturing now.\"\n",
        "            else:\n",
        "                return \"Get your water bottle.\"\n",
        "        else:\n",
        "            if water_ready == True:\n",
        "                return \"Go make your bed.\"\n",
        "            else: # bed not made, and water not ready\n",
        "                return \"Get your water bottle.\"\n",
        "    else:\n",
        "        return \"No time to get ready. Start lecturing now.\""
      ],
      "metadata": {
        "id": "0frB9_KxGyym"
      },
      "execution_count": 38,
      "outputs": []
    },
    {
      "cell_type": "markdown",
      "metadata": {
        "id": "1JHlGGzR6AF_"
      },
      "source": [
        "# Feedback (Topic 3.3)\n",
        "\n",
        "[https://forms.gle/Uod5Jpr7AJ2z7cHLA](https://forms.gle/Uod5Jpr7AJ2z7cHLA)\n",
        "\n",
        "![](https://i.imgur.com/0L50D4L.png)"
      ]
    }
  ]
}