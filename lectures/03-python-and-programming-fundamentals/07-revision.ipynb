{
  "nbformat": 4,
  "nbformat_minor": 0,
  "metadata": {
    "colab": {
      "name": "07-revision.ipynb",
      "provenance": [],
      "authorship_tag": "ABX9TyNOoRuv1aqVcWDTJ4baDODo",
      "include_colab_link": true
    },
    "kernelspec": {
      "name": "python3",
      "display_name": "Python 3"
    },
    "language_info": {
      "name": "python"
    }
  },
  "cells": [
    {
      "cell_type": "markdown",
      "metadata": {
        "id": "view-in-github",
        "colab_type": "text"
      },
      "source": [
        "<a href=\"https://colab.research.google.com/github/sim-mautner/cs1010-22t1/blob/master/lectures/03-python-and-programming-fundamentals/07-revision.ipynb\" target=\"_parent\"><img src=\"https://colab.research.google.com/assets/colab-badge.svg\" alt=\"Open In Colab\"/></a>"
      ]
    },
    {
      "cell_type": "markdown",
      "metadata": {
        "id": "9Kgg1qEzOoS4"
      },
      "source": [
        "### 1 - Restaurant Finder\n",
        "\n",
        "The following dictionary contains some local restaurants. Each restaurant has an indicative price range and a list of dietary options. For the price range, `$` is cheap, `$$` is moderately priced and `$$$` is expensive."
      ]
    },
    {
      "cell_type": "code",
      "metadata": {
        "id": "fSyria58OniF"
      },
      "source": [
        "restaurants = {\n",
        "    \"Billy's Burgers\": {\n",
        "        \"price_range\": \"$\",\n",
        "        \"options\": []\n",
        "    },\n",
        "    \"Harbour Seafood\": {\n",
        "        \"price_range\": \"$$$\",\n",
        "        \"options\": [\"gluten-free\"]\n",
        "    },\n",
        "    \"UNSW Restaurant\": {\n",
        "        \"price_range\": \"$$\",\n",
        "        \"options\": [\"gluten-free\", \"vegetarian\"]\n",
        "    },\n",
        "    \"It's a Thai\": {\n",
        "        \"price_range\": \"$\",\n",
        "        \"options\": [\"vegetarian\"]\n",
        "    }\n",
        "}"
      ],
      "execution_count": 1,
      "outputs": []
    },
    {
      "cell_type": "markdown",
      "metadata": {
        "id": "b7_gnSeEOv0E"
      },
      "source": [
        "Suppose you and a group of friends want to get dinner together, but are unsure what local restaurants meet everyone's requirements. For example, some members of your group can only afford to eat at cheap restaurants while others are vegetarian or eat only gluten-free food.\n",
        "\n",
        "Implement the function `suitable_restaurants(preferences)`, that, given everyone's individual preference, determines all restaurants that meet *all* preferences. See the testing cell below for examples.\n",
        "\n",
        "**NOTE:** You can assume everyone in the group specifies both a maximum price range and a list of dietary requirements."
      ]
    },
    {
      "cell_type": "code",
      "metadata": {
        "id": "ZnhkkTO6OzvS"
      },
      "source": [
        "def suitable_restaurants(restaurants, preferences):\n",
        "    possible_restaurants = []\n",
        "    for rest_name, rest_details in restaurants.items():\n",
        "        is_suitable = True\n",
        "        for person in preferences:\n",
        "            # Check price\n",
        "            rest_price = rest_details[\"price_range\"]\n",
        "            pref_price = person[\"maximum_price\"]\n",
        "            if len(pref_price) < len(rest_price):\n",
        "                is_suitable = False\n",
        "\n",
        "            # Check diet\n",
        "            rest_diet = rest_details[\"options\"]\n",
        "            pref_diet = person[\"diet\"]\n",
        "            # Need to check, for each item in pref_diet, it is in rest_diet\n",
        "            for item in pref_diet:\n",
        "                if item not in rest_diet:\n",
        "                    is_suitable = False\n",
        "\n",
        "        if is_suitable == True:\n",
        "            possible_restaurants.append(rest_name)\n",
        "\n",
        "    return possible_restaurants\n"
      ],
      "execution_count": 5,
      "outputs": []
    },
    {
      "cell_type": "markdown",
      "metadata": {
        "id": "Kc8QGoOAO2Nn"
      },
      "source": [
        "Use this cell to test your function."
      ]
    },
    {
      "cell_type": "code",
      "metadata": {
        "id": "xVTTHETQO4np"
      },
      "source": [
        "assert suitable_restaurants(restaurants, [\n",
        "    { \"maximum_price\": \"$\", \"diet\": [] }\n",
        "    ]) == [\"Billy's Burgers\", \"It's a Thai\"]\n",
        "assert suitable_restaurants(restaurants, [\n",
        "    { \"maximum_price\": \"$$\", \"diet\": [] }, \n",
        "    { \"maximum_price\": \"$$$\", \"diet\": [\"vegetarian\"] }\n",
        "    ]) == [\"UNSW Restaurant\", \"It's a Thai\"]\n",
        "assert suitable_restaurants(restaurants, [\n",
        "    { \"maximum_price\": \"$\", \"diet\": [\"gluten-free\"] }, \n",
        "    { \"maximum_price\": \"$\", \"diet\": [\"vegetarian\"] }\n",
        "    ]) == []\n",
        "assert suitable_restaurants(restaurants, [\n",
        "    { \"maximum_price\": \"$$$\", \"diet\": [] }, \n",
        "    { \"maximum_price\": \"$$$\", \"diet\": [\"gluten-free\"] }\n",
        "    ]) == [\"Harbour Seafood\", \"UNSW Restaurant\"]\n",
        "assert suitable_restaurants(restaurants, [\n",
        "    { \"maximum_price\": \"$$$\", \"diet\": [\"gluten-free\", \"vegetarian\"] }\n",
        "    ]) == [\"UNSW Restaurant\"]"
      ],
      "execution_count": 7,
      "outputs": []
    }
  ]
}